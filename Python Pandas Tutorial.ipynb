{
 "metadata": {
  "language_info": {
   "codemirror_mode": {
    "name": "ipython",
    "version": 3
   },
   "file_extension": ".py",
   "mimetype": "text/x-python",
   "name": "python",
   "nbconvert_exporter": "python",
   "pygments_lexer": "ipython3",
   "version": "3.8.5-final"
  },
  "orig_nbformat": 2,
  "kernelspec": {
   "name": "python3",
   "display_name": "Python 3.8.5 32-bit (conda)",
   "metadata": {
    "interpreter": {
     "hash": "ce83d9b2a67bcc77f55859b04485f86f2de06272551e161694b74f8d76ef55f7"
    }
   }
  }
 },
 "nbformat": 4,
 "nbformat_minor": 2,
 "cells": [
  {
   "cell_type": "code",
   "execution_count": 3,
   "metadata": {},
   "outputs": [],
   "source": [
    "import pandas as pd"
   ]
  },
  {
   "source": [
    "### **pandas datatypes**\n",
    "- object- text or mixed numeric or non-numeric values\n",
    "- int64- integer numbers\n",
    "- bool- truth/false values\n",
    "- float64- floating point numbers\n",
    "- category- finite list of text values\n",
    "- datetime64- date and time values\n",
    "- timedelta\\[ns\\]- differences between two datetimes\n",
    "\n",
    "### **pandas datastructures**- particular way of organizing data\n",
    "- Series\n",
    "- DataFrame\n",
    "- DataFrames are easy ways to store information and can be though of as spreadsheets. They are composed of a collection of series.\n",
    "- Series can be described as the single column of a 2-D array that can store data of any type.\n",
    "- Therefore, DataFrames are tables that use multiple columns and rows\n",
    "- Each value in a DataFrame object is associated with a row and a column index.\n",
    "\n",
    "## **Series**"
   ],
   "cell_type": "markdown",
   "metadata": {}
  },
  {
   "cell_type": "code",
   "execution_count": 4,
   "metadata": {},
   "outputs": [
    {
     "output_type": "stream",
     "name": "stdout",
     "text": [
      "0    1\n1    2\n2    3\n3    4\ndtype: int64\n"
     ]
    }
   ],
   "source": [
    "series1 = pd.Series([1,2,3,4])\n",
    "\n",
    "print(series1)"
   ]
  },
  {
   "cell_type": "code",
   "execution_count": 5,
   "metadata": {},
   "outputs": [
    {
     "output_type": "stream",
     "name": "stdout",
     "text": [
      "The Series values are:\n[1 2 3 4 5]\n\nThe Index values are:\n[0 1 2 3 4]\n"
     ]
    }
   ],
   "source": [
    "# Defining a series object\n",
    "srs = pd.Series([1,2,3,4,5])\n",
    "\n",
    "# printing series values\n",
    "print(\"The Series values are:\")\n",
    "print(srs.values)\n",
    "\n",
    "# printing series indexes\n",
    "print(\"\\nThe Index values are:\")\n",
    "print(srs.index.values)"
   ]
  },
  {
   "source": [
    "**Assign names to our values**\n",
    "\n",
    "**Pandas** will automatically generate our indexes, so we need to define them. Each index corresponds to its value in the **Series** object. Let's assign a country name to population growth rates."
   ],
   "cell_type": "markdown",
   "metadata": {}
  },
  {
   "cell_type": "code",
   "execution_count": 8,
   "metadata": {},
   "outputs": [
    {
     "output_type": "stream",
     "name": "stdout",
     "text": [
      "The Indexed Series values are:\nCountry\nChina       11.9\nIndia       36.0\nUSA         16.6\nBrazil      21.8\nPakistan    34.2\nName: Growth Rate, dtype: float64\n"
     ]
    }
   ],
   "source": [
    "# One can define Series values and indexes separately like so:\n",
    "srs = pd.Series([11.9, 36.0, 16.6, 21.8, 34.2], index = ['China', 'India', 'USA', 'Brazil', 'Pakistan'])\n",
    "\n",
    "#Set Series name\n",
    "srs.name = \"Growth Rate\"\n",
    "\n",
    "# Set index name\n",
    "srs.index.name = \"Country\"\n",
    "\n",
    "# printing series values\n",
    "print(\"The Indexed Series values are:\")\n",
    "print(srs)"
   ]
  },
  {
   "cell_type": "code",
   "execution_count": 3,
   "metadata": {},
   "outputs": [
    {
     "output_type": "stream",
     "name": "stdout",
     "text": [
      "The original Series:\nIndex\nind0    0\nind1    1\nind2    2\nind3    3\nind4    4\nind5    5\ndtype: int32\n\nSeries element at index ind3:\n3\n\nSeries element at index 3:\n3\n\nSeries elements at multiple indexes:\n\nIndex\nind1    1\nind4    4\ndtype: int32\n"
     ]
    }
   ],
   "source": [
    "# To select entries from a Series, we select elements based on the index name or index number.\n",
    "\n",
    "import numpy as np\n",
    "import pandas as pd\n",
    "\n",
    "srs = pd.Series(np.arange(0, 6, 1), index = ['ind0', 'ind1', 'ind2', 'ind3', 'ind4', 'ind5'])\n",
    "# I am guessing that np.arange is just a range but from NumPy\n",
    "srs.index.name = \"Index\"\n",
    "print(f\"The original Series:\\n{srs}\")\n",
    "\n",
    "print(\"\\nSeries element at index ind3:\")\n",
    "print(srs['ind3']) # Fetch element at index ind3\n",
    "\n",
    "print(\"\\nSeries element at index 3:\")\n",
    "print(srs[3]) # Fetch element at index 3\n",
    "\n",
    "print(\"\\nSeries elements at multiple indexes:\\n\")\n",
    "print(srs[['ind1', 'ind4']]) # Fetch elements at multiple indexes"
   ]
  },
  {
   "source": [
    "## **DataFrame**: the most important operations"
   ],
   "cell_type": "markdown",
   "metadata": {}
  },
  {
   "cell_type": "code",
   "execution_count": 6,
   "metadata": {},
   "outputs": [
    {
     "output_type": "stream",
     "name": "stdout",
     "text": [
      "   Column1 Column2  Column3  Column4\n0        1       a   1.2300     True\n1        4  column  23.5000    False\n2        8    with  45.6000     True\n3        7       a  32.1234    False\n4        9  string  89.4530     True\n\n   peppers  carrots\n0        3        0\n1        2        3\n2        0        7\n3        1        2\n           peppers  carrots\nJune             3        0\nJuly             2        3\nAugust           0        7\nSeptember        1        2\n"
     ]
    }
   ],
   "source": [
    "df = pd.DataFrame({\n",
    "    \"Column1\": [1, 4, 8, 7, 9],\n",
    "    \"Column2\": ['a', 'column', 'with', 'a', 'string'],\n",
    "    \"Column3\": [1.23, 23.5, 45.6, 32.1234, 89.453],\n",
    "    \"Column4\": [True, False, True, False, True]\n",
    "})\n",
    "print(df)\n",
    "\n",
    "# One can also create a dictionary and pass that data to a DataFrame\n",
    "data = {\n",
    "    'peppers': [3, 2, 0, 1], \n",
    "    'carrots': [0, 3, 7, 2]\n",
    "}\n",
    "\n",
    "quantity = pd.DataFrame(data)\n",
    "\n",
    "print()\n",
    "print(quantity)\n",
    "\n",
    "# We can also change the index as such\n",
    "quantity2 = pd.DataFrame(data, index = ['June', 'July', 'August', 'September'])\n",
    "\n",
    "print(quantity2)"
   ]
  },
  {
   "source": [
    "## Other useful operations:\n",
    "- **.shape**- outputs a tuple of (rows, columns)\n",
    "- **.columns** shows a dataset's column names\n",
    "- **.rename()** allows us to rename columns like 'search and replace'"
   ],
   "cell_type": "markdown",
   "metadata": {}
  },
  {
   "source": [
    "## Searching and selecting in a dataframe\n",
    "- **loc** and **iloc** are used for locating data\n",
    "- **.iloc\\[x\\]** locates by numerical index\n",
    "- **.loc\\[sting\\]** locates by the index name, sumular to list slicing in Python"
   ],
   "cell_type": "markdown",
   "metadata": {}
  },
  {
   "cell_type": "code",
   "execution_count": 8,
   "metadata": {},
   "outputs": [
    {
     "output_type": "stream",
     "name": "stdout",
     "text": [
      "Index(['Sex', 'Under 1', '1-4', '5-9', '10-14', '15-19', '20-24', '25-29',\n       '30-34', '35-39', '40-44'],\n      dtype='object')\n\nThe First Column\n0      Males\n1    Females\n2      Males\n3    Females\n4      Males\nName: Sex, dtype: object\n\nThe type of this column is <class 'pandas.core.series.Series'>\n\n\nThe Last Column\n0    2045\n1    4457\n2     139\n3      81\n4       2\nName: 40-44, dtype: int64\n\nThe type of this column is: <class 'pandas.core.series.Series'>\n\n"
     ]
    }
   ],
   "source": [
    "# Easiest way to select a column or multiple columns of data is by using brackets []\n",
    "\n",
    "df = pd.read_csv('cancer_stats.csv')\n",
    "\n",
    "print(df.columns) # Print columns of DataFrame\n",
    "\n",
    "print(\"\\nThe First Column\")\n",
    "print(df['Sex'].head()) # Fetch the sec xolumn from DataFrame\n",
    "print(f\"\\nThe type of this column is {str(type(df['Under 1']))}\\n\")\n",
    "\n",
    "print(\"\\nThe Last Column\")\n",
    "print(df['40-44'].head()) # Fetch the 40-44 colum from DataFrame\n",
    "print(f\"\\nThe type of this column is: {str(type(df['40-44']))}\\n\")"
   ]
  },
  {
   "source": [
    "## Creating a new DataFrame from pre-existing columns"
   ],
   "cell_type": "markdown",
   "metadata": {}
  },
  {
   "cell_type": "code",
   "execution_count": 9,
   "metadata": {},
   "outputs": [
    {
     "output_type": "stream",
     "name": "stdout",
     "text": [
      "Index(['Sex', 'Under 1', '1-4', '5-9', '10-14', '15-19', '20-24', '25-29',\n       '30-34', '35-39', '40-44'],\n      dtype='object')\n\nThe original DataFrame:\n       Sex  Under 1  1-4  5-9  10-14  15-19  20-24  25-29  30-34  35-39  40-44\n0    Males       82  305  199    197    322    537    910   1239   1610   2045\n1  Females       73  249  171    183    297    554   1341   2219   3085   4457\n2    Males        0    0    1      4     10      7     17     30     67    139\n3  Females        0    1    0      5      8      8     12     29     53     81\n4    Males        0    0    0      0      0      0      1      1      1      2\n\nThe new DataFrame with selected columns is:\n\n       Sex  Under 1  40-44\n0    Males       82   2045\n1  Females       73   4457\n2    Males        0    139\n3  Females        0     81\n4    Males        0      2\n"
     ]
    }
   ],
   "source": [
    "df = pd.read_csv('test.csv')\n",
    "\n",
    "print(df.columns)\n",
    "\n",
    "print(\"\\nThe original DataFrame:\")\n",
    "print(df.head())\n",
    "\n",
    "print(\"\\nThe new DataFrame with selected columns is:\\n\")\n",
    "new_df = pd.DataFrame(df, columns=['Sex', 'Under 1', '40-44'])\n",
    "print(new_df.head())"
   ]
  },
  {
   "source": [
    "## Reindexing data in a DataFrame\n",
    "\n",
    "We can also reindex the data by either the indexes themselves or the columns. **.reindex()** allows us to make changes w/o messing up the initial setting of the objects. Works the same for both Series and DataFrame objects."
   ],
   "cell_type": "markdown",
   "metadata": {}
  },
  {
   "cell_type": "code",
   "execution_count": 10,
   "metadata": {},
   "outputs": [
    {
     "output_type": "stream",
     "name": "stdout",
     "text": [
      "The series with new indexes is:\n Country\nChina       11.9\nIndia       36.0\nMalaysia     NaN\nUSA         16.6\nBrazil      21.8\nPakistan    34.2\nEngland      NaN\nName: Growth Rate, dtype: float64\n\nThe series with new indexes is:\n Country\nChina       11.9\nIndia       36.0\nMalaysia     0.0\nUSA         16.6\nBrazil      21.8\nPakistan    34.2\nEngland      0.0\nName: Growth Rate, dtype: float64\n"
     ]
    }
   ],
   "source": [
    "srs1 = pd.Series([11.9, 36.0, 16.6, 21.8, 34.2], index = ['China', 'India', 'USA', 'Brazil', 'Pakistan'])\n",
    "\n",
    "# Set Series name\n",
    "srs1.name = \"Growth Rate\"\n",
    "\n",
    "# Set index name\n",
    "srs1.index.name = \"Country\"\n",
    "\n",
    "srs2 = srs1.reindex(['China', 'India', 'Malaysia', 'USA', 'Brazil', 'Pakistan', 'England']) # Adds Malaysia and England to Series indexes\n",
    "print(\"The series with new indexes is:\\n\",srs2)\n",
    "\n",
    "srs3 = srs1.reindex(['China', 'India', 'Malaysia', 'USA', 'Brazil', 'Pakistan', 'England'], fill_value=0) # fills in default values for both new indexes\n",
    "print(\"\\nThe series with new indexes is:\\n\",srs3)"
   ]
  },
  {
   "source": [
    "## Reading and importing data\n",
    "\n",
    "- For csv:\n",
    "  - pd.read_csv(\"file.csv\")\n",
    "  - ps.read_csv(\"file.csv\", index_col = 0)- chooses what column to make the index out of rather than creating an automatic one\n",
    "  - df.to_csv('file.csv')- saves the dataframe into a csv file\n",
    "- For JSON:\n",
    "  - df.read_json('file.json')\n",
    "  - df.to_json('file.json')\n",
    "- For Excel:\n",
    "  - df.read_excel('file.xlsx')"
   ],
   "cell_type": "markdown",
   "metadata": {}
  },
  {
   "source": [
    "## Data Wrangling with Pandas\n",
    "Data wrangling is basically manipulating and preparing data for analysis.\n",
    "- Merging\n",
    "- Concatenation\n",
    "- Grouping"
   ],
   "cell_type": "markdown",
   "metadata": {}
  },
  {
   "cell_type": "code",
   "execution_count": 2,
   "metadata": {},
   "outputs": [
    {
     "output_type": "stream",
     "name": "stdout",
     "text": [
      "  subject_id student_name\n0          1         Mark\n1          2       Khalid\n2          3      Deborah\n3          4       Trevon\n4          5        Raven\n  subject_id student_name\n0          4         Eric\n1          5        Imani\n2          6         Cece\n3          7       Darius\n4          8        Andre\n"
     ]
    },
    {
     "output_type": "execute_result",
     "data": {
      "text/plain": [
       "  subject_id student_name_x student_name_y\n",
       "0          4         Trevon           Eric\n",
       "1          5          Raven          Imani"
      ],
      "text/html": "<div>\n<style scoped>\n    .dataframe tbody tr th:only-of-type {\n        vertical-align: middle;\n    }\n\n    .dataframe tbody tr th {\n        vertical-align: top;\n    }\n\n    .dataframe thead th {\n        text-align: right;\n    }\n</style>\n<table border=\"1\" class=\"dataframe\">\n  <thead>\n    <tr style=\"text-align: right;\">\n      <th></th>\n      <th>subject_id</th>\n      <th>student_name_x</th>\n      <th>student_name_y</th>\n    </tr>\n  </thead>\n  <tbody>\n    <tr>\n      <th>0</th>\n      <td>4</td>\n      <td>Trevon</td>\n      <td>Eric</td>\n    </tr>\n    <tr>\n      <th>1</th>\n      <td>5</td>\n      <td>Raven</td>\n      <td>Imani</td>\n    </tr>\n  </tbody>\n</table>\n</div>"
     },
     "metadata": {},
     "execution_count": 2
    }
   ],
   "source": [
    "# MERGING\n",
    "\n",
    "import pandas as pd\n",
    "\n",
    "d = {\n",
    "    'subject_id': ['1', '2', '3', '4', '5'],\n",
    "    'student_name': ['Mark', 'Khalid', 'Deborah', 'Trevon', 'Raven']\n",
    "}\n",
    "df1 = pd.DataFrame(d, columns=['subject_id', 'student_name'])\n",
    "print(df1)\n",
    "\n",
    "data = {\n",
    "    'subject_id': ['4', '5', '6', '7', '8'],\n",
    "    'student_name': ['Eric', 'Imani', 'Cece', 'Darius', 'Andre']\n",
    "}\n",
    "df2 = pd.DataFrame(data, columns=['subject_id', 'student_name'])\n",
    "print(df2)\n",
    "\n",
    "pd.merge(df1, df2, on='subject_id')"
   ]
  },
  {
   "cell_type": "code",
   "execution_count": 4,
   "metadata": {},
   "outputs": [
    {
     "output_type": "stream",
     "name": "stdout",
     "text": [
      "   Name  Position  Year  Marks\n6  Tran         3  2011    396\n8  John         3  2011    356\n"
     ]
    }
   ],
   "source": [
    "# GROUPING\n",
    "\n",
    "raw = {\n",
    "    'Name': ['Darell', 'Darell', 'Lilith', 'Lilith', 'Tran', 'Tran', 'Tran',\n",
    "        'Tran', 'John', 'Darell', 'Darell', 'Darell'],\n",
    "    'Position': [2, 1, 1, 4, 2, 4, 3, 1, 3, 2, 4, 3],\n",
    "    'Year': [2009, 2010, 2009, 2010, 2010, 2010, 2011, 2012, 2011, 2013, 2013, 2012],\n",
    "    'Marks':[408, 398, 422, 376, 401, 380, 396, 388, 356, 402, 368, 378]\n",
    "}\n",
    "df = pd.DataFrame(raw)\n",
    "\n",
    "group = df.groupby('Year')\n",
    "print(group.get_group(2011))"
   ]
  },
  {
   "cell_type": "code",
   "execution_count": 5,
   "metadata": {},
   "outputs": [
    {
     "output_type": "stream",
     "name": "stdout",
     "text": [
      "  subject_id student_name\n0          1         Mark\n1          2       Khalid\n2          3      Deborah\n3          4       Trevon\n4          5        Raven\n0          4         Eric\n1          5        Imani\n2          6         Cece\n3          7       Darius\n4          8        Andre\n"
     ]
    }
   ],
   "source": [
    "# CONCATENATION\n",
    "\n",
    "print(pd.concat([df1, df2]))"
   ]
  },
  {
   "source": [
    "**Other common data wrangling processes you should know:**\n",
    "- Mapping data and finding duplicates\n",
    "- Finding outliers in data\n",
    "- Data Aggregation\n",
    "- Reshaping data\n",
    "- Replace & rename\n",
    "- and more"
   ],
   "cell_type": "markdown",
   "metadata": {}
  }
 ]
}