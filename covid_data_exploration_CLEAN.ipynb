{
 "metadata": {
  "language_info": {
   "codemirror_mode": {
    "name": "ipython",
    "version": 3
   },
   "file_extension": ".py",
   "mimetype": "text/x-python",
   "name": "python",
   "nbconvert_exporter": "python",
   "pygments_lexer": "ipython3",
   "version": "3.8.5"
  },
  "orig_nbformat": 2,
  "kernelspec": {
   "name": "python385jvsc74a57bd0ce83d9b2a67bcc77f55859b04485f86f2de06272551e161694b74f8d76ef55f7",
   "display_name": "Python 3.8.5 64-bit ('base': conda)"
  }
 },
 "nbformat": 4,
 "nbformat_minor": 2,
 "cells": [
  {
   "source": [
    "# This is a \"Neat\" Version of the Original Notebook.#\n",
    "### Most work will continue to be done on the original notebook, so this one is mostly for presentation's sake"
   ],
   "cell_type": "markdown",
   "metadata": {}
  },
  {
   "source": [
    "## covid_19_data.csv importing and modifications"
   ],
   "cell_type": "markdown",
   "metadata": {}
  },
  {
   "cell_type": "code",
   "execution_count": 1,
   "metadata": {},
   "outputs": [
    {
     "output_type": "stream",
     "name": "stdout",
     "text": [
      "False\n"
     ]
    },
    {
     "output_type": "execute_result",
     "data": {
      "text/plain": [
       "       ObservationDate      Province/State  Country/Region  \\\n",
       "SNo                                                          \n",
       "0                  NaN                 NaN             NaN   \n",
       "1           01/22/2020               Anhui  Mainland China   \n",
       "2           01/22/2020             Beijing  Mainland China   \n",
       "3           01/22/2020           Chongqing  Mainland China   \n",
       "4           01/22/2020              Fujian  Mainland China   \n",
       "...                ...                 ...             ...   \n",
       "205946      01/19/2021  Zakarpattia Oblast         Ukraine   \n",
       "205947      01/19/2021   Zaporizhia Oblast         Ukraine   \n",
       "205948      01/19/2021             Zeeland     Netherlands   \n",
       "205949      01/19/2021            Zhejiang  Mainland China   \n",
       "205950      01/19/2021     Zhytomyr Oblast         Ukraine   \n",
       "\n",
       "                Last Update  Confirmed  Deaths  Recovered  \n",
       "SNo                                                        \n",
       "0                       NaN        NaN     NaN        NaN  \n",
       "1           1/22/2020 17:00        1.0     0.0        0.0  \n",
       "2           1/22/2020 17:00       14.0     0.0        0.0  \n",
       "3           1/22/2020 17:00        6.0     0.0        0.0  \n",
       "4           1/22/2020 17:00        1.0     0.0        0.0  \n",
       "...                     ...        ...     ...        ...  \n",
       "205946  2021-01-20 05:21:54    29957.0   689.0    26661.0  \n",
       "205947  2021-01-20 05:21:54    62492.0   738.0    39168.0  \n",
       "205948  2021-01-20 05:21:54    13031.0   149.0        0.0  \n",
       "205949  2021-01-20 05:21:54     1316.0     1.0     1298.0  \n",
       "205950  2021-01-20 05:21:54    42758.0   707.0    37834.0  \n",
       "\n",
       "[205951 rows x 7 columns]"
      ],
      "text/html": "<div>\n<style scoped>\n    .dataframe tbody tr th:only-of-type {\n        vertical-align: middle;\n    }\n\n    .dataframe tbody tr th {\n        vertical-align: top;\n    }\n\n    .dataframe thead th {\n        text-align: right;\n    }\n</style>\n<table border=\"1\" class=\"dataframe\">\n  <thead>\n    <tr style=\"text-align: right;\">\n      <th></th>\n      <th>ObservationDate</th>\n      <th>Province/State</th>\n      <th>Country/Region</th>\n      <th>Last Update</th>\n      <th>Confirmed</th>\n      <th>Deaths</th>\n      <th>Recovered</th>\n    </tr>\n    <tr>\n      <th>SNo</th>\n      <th></th>\n      <th></th>\n      <th></th>\n      <th></th>\n      <th></th>\n      <th></th>\n      <th></th>\n    </tr>\n  </thead>\n  <tbody>\n    <tr>\n      <th>0</th>\n      <td>NaN</td>\n      <td>NaN</td>\n      <td>NaN</td>\n      <td>NaN</td>\n      <td>NaN</td>\n      <td>NaN</td>\n      <td>NaN</td>\n    </tr>\n    <tr>\n      <th>1</th>\n      <td>01/22/2020</td>\n      <td>Anhui</td>\n      <td>Mainland China</td>\n      <td>1/22/2020 17:00</td>\n      <td>1.0</td>\n      <td>0.0</td>\n      <td>0.0</td>\n    </tr>\n    <tr>\n      <th>2</th>\n      <td>01/22/2020</td>\n      <td>Beijing</td>\n      <td>Mainland China</td>\n      <td>1/22/2020 17:00</td>\n      <td>14.0</td>\n      <td>0.0</td>\n      <td>0.0</td>\n    </tr>\n    <tr>\n      <th>3</th>\n      <td>01/22/2020</td>\n      <td>Chongqing</td>\n      <td>Mainland China</td>\n      <td>1/22/2020 17:00</td>\n      <td>6.0</td>\n      <td>0.0</td>\n      <td>0.0</td>\n    </tr>\n    <tr>\n      <th>4</th>\n      <td>01/22/2020</td>\n      <td>Fujian</td>\n      <td>Mainland China</td>\n      <td>1/22/2020 17:00</td>\n      <td>1.0</td>\n      <td>0.0</td>\n      <td>0.0</td>\n    </tr>\n    <tr>\n      <th>...</th>\n      <td>...</td>\n      <td>...</td>\n      <td>...</td>\n      <td>...</td>\n      <td>...</td>\n      <td>...</td>\n      <td>...</td>\n    </tr>\n    <tr>\n      <th>205946</th>\n      <td>01/19/2021</td>\n      <td>Zakarpattia Oblast</td>\n      <td>Ukraine</td>\n      <td>2021-01-20 05:21:54</td>\n      <td>29957.0</td>\n      <td>689.0</td>\n      <td>26661.0</td>\n    </tr>\n    <tr>\n      <th>205947</th>\n      <td>01/19/2021</td>\n      <td>Zaporizhia Oblast</td>\n      <td>Ukraine</td>\n      <td>2021-01-20 05:21:54</td>\n      <td>62492.0</td>\n      <td>738.0</td>\n      <td>39168.0</td>\n    </tr>\n    <tr>\n      <th>205948</th>\n      <td>01/19/2021</td>\n      <td>Zeeland</td>\n      <td>Netherlands</td>\n      <td>2021-01-20 05:21:54</td>\n      <td>13031.0</td>\n      <td>149.0</td>\n      <td>0.0</td>\n    </tr>\n    <tr>\n      <th>205949</th>\n      <td>01/19/2021</td>\n      <td>Zhejiang</td>\n      <td>Mainland China</td>\n      <td>2021-01-20 05:21:54</td>\n      <td>1316.0</td>\n      <td>1.0</td>\n      <td>1298.0</td>\n    </tr>\n    <tr>\n      <th>205950</th>\n      <td>01/19/2021</td>\n      <td>Zhytomyr Oblast</td>\n      <td>Ukraine</td>\n      <td>2021-01-20 05:21:54</td>\n      <td>42758.0</td>\n      <td>707.0</td>\n      <td>37834.0</td>\n    </tr>\n  </tbody>\n</table>\n<p>205951 rows × 7 columns</p>\n</div>"
     },
     "metadata": {},
     "execution_count": 1
    }
   ],
   "source": [
    "import pandas as pd \n",
    "\n",
    "df_normal = pd.read_csv(\"covid_dataset\\covid_19_data.csv\")\n",
    "\n",
    "# SNo is the index \n",
    "\n",
    "df_normal = df_normal.set_index(\"SNo\")\n",
    "\n",
    "# Get rid of NaN values, unnecessary columns\n",
    "\n",
    "df_normal_NaN = df_normal[df_normal.isna().any(axis=1)]\n",
    "\n",
    "# Gets amount of rows with NaN in this column\n",
    "count = len(df_normal[df_normal['Province/State'].isna()].index)\n",
    "\n",
    "# Below is false, therefore not all Province/State values are NaN. Let's replace them.\n",
    "print(count == len(df_normal.index))\n",
    "\n",
    "df_normal['Province/State'] = df_normal['Province/State'].fillna('N/A')\n",
    "df_normal_NaN = df_normal[df_normal.isna().any(axis=1)]\n",
    "\n",
    "df_normal.reindex(range(len(df_normal)))\n",
    "\n",
    "# State/Province was the only sreries with null values. However, I noticed how this dataset is structured, so I want to make anew dataframe that is the sum of the observation dates. I also want to drop the first index because it is all NaN values.abs\n"
   ]
  },
  {
   "cell_type": "code",
   "execution_count": 2,
   "metadata": {},
   "outputs": [
    {
     "output_type": "execute_result",
     "data": {
      "text/plain": [
       "                  Confirmed     Deaths   Recovered\n",
       "ObservationDate                                   \n",
       "01/01/2021       84025713.0  1827732.0  47289078.0\n",
       "01/02/2021       84649404.0  1835910.0  47595212.0\n",
       "01/03/2021       85183607.0  1843211.0  47860306.0\n",
       "01/04/2021       85734208.0  1853501.0  48148226.0\n",
       "01/05/2021       86469506.0  1868909.0  48464481.0\n",
       "...                     ...        ...         ...\n",
       "12/27/2020       80856030.0  1765126.0  45698093.0\n",
       "12/28/2020       81349247.0  1774686.0  45994203.0\n",
       "12/29/2020       82008964.0  1790140.0  46348935.0\n",
       "12/30/2020       82768267.0  1805232.0  46731568.0\n",
       "12/31/2020       83488443.0  1818336.0  47010049.0\n",
       "\n",
       "[364 rows x 3 columns]"
      ],
      "text/html": "<div>\n<style scoped>\n    .dataframe tbody tr th:only-of-type {\n        vertical-align: middle;\n    }\n\n    .dataframe tbody tr th {\n        vertical-align: top;\n    }\n\n    .dataframe thead th {\n        text-align: right;\n    }\n</style>\n<table border=\"1\" class=\"dataframe\">\n  <thead>\n    <tr style=\"text-align: right;\">\n      <th></th>\n      <th>Confirmed</th>\n      <th>Deaths</th>\n      <th>Recovered</th>\n    </tr>\n    <tr>\n      <th>ObservationDate</th>\n      <th></th>\n      <th></th>\n      <th></th>\n    </tr>\n  </thead>\n  <tbody>\n    <tr>\n      <th>01/01/2021</th>\n      <td>84025713.0</td>\n      <td>1827732.0</td>\n      <td>47289078.0</td>\n    </tr>\n    <tr>\n      <th>01/02/2021</th>\n      <td>84649404.0</td>\n      <td>1835910.0</td>\n      <td>47595212.0</td>\n    </tr>\n    <tr>\n      <th>01/03/2021</th>\n      <td>85183607.0</td>\n      <td>1843211.0</td>\n      <td>47860306.0</td>\n    </tr>\n    <tr>\n      <th>01/04/2021</th>\n      <td>85734208.0</td>\n      <td>1853501.0</td>\n      <td>48148226.0</td>\n    </tr>\n    <tr>\n      <th>01/05/2021</th>\n      <td>86469506.0</td>\n      <td>1868909.0</td>\n      <td>48464481.0</td>\n    </tr>\n    <tr>\n      <th>...</th>\n      <td>...</td>\n      <td>...</td>\n      <td>...</td>\n    </tr>\n    <tr>\n      <th>12/27/2020</th>\n      <td>80856030.0</td>\n      <td>1765126.0</td>\n      <td>45698093.0</td>\n    </tr>\n    <tr>\n      <th>12/28/2020</th>\n      <td>81349247.0</td>\n      <td>1774686.0</td>\n      <td>45994203.0</td>\n    </tr>\n    <tr>\n      <th>12/29/2020</th>\n      <td>82008964.0</td>\n      <td>1790140.0</td>\n      <td>46348935.0</td>\n    </tr>\n    <tr>\n      <th>12/30/2020</th>\n      <td>82768267.0</td>\n      <td>1805232.0</td>\n      <td>46731568.0</td>\n    </tr>\n    <tr>\n      <th>12/31/2020</th>\n      <td>83488443.0</td>\n      <td>1818336.0</td>\n      <td>47010049.0</td>\n    </tr>\n  </tbody>\n</table>\n<p>364 rows × 3 columns</p>\n</div>"
     },
     "metadata": {},
     "execution_count": 2
    }
   ],
   "source": [
    "from datetime import datetime\n",
    "\n",
    "# Creating a simpler version of the df based on the information above\n",
    "df_normal_simple = df_normal[['ObservationDate', 'Confirmed', 'Deaths', 'Recovered']].set_index(df_normal.index)\n",
    "\n",
    "df_normal_simple.groupby(by='ObservationDate').sum()\n",
    "df_normal_simple.groupby(by='ObservationDate').sum().sort_values(by='ObservationDate', ascending=False)\n",
    "\n",
    "# datetime conversion:\n",
    "# datetime.strptime(date_string, format)\n",
    "format = '%m/%d/%y'\n",
    "\n",
    "pd.to_datetime(df_normal_simple['ObservationDate'])\n",
    "\n",
    "# Code below gets \n",
    "df_normal_simple = df_normal_simple.groupby(by='ObservationDate').sum().sort_values(by='ObservationDate')\n",
    "\n",
    "df_normal_simple.groupby('ObservationDate').agg({'Confirmed':'sum', 'Deaths':'sum', 'Recovered':'sum'}).sort_index()\n",
    "\n",
    "# By this time, I did not realize that the confirmed numbers were the full sum of condirmed cases rather than individual increments of the total"
   ]
  },
  {
   "source": [],
   "cell_type": "markdown",
   "metadata": {}
  },
  {
   "source": [
    "## confirmed case time series importing and modifications"
   ],
   "cell_type": "markdown",
   "metadata": {}
  },
  {
   "cell_type": "code",
   "execution_count": 3,
   "metadata": {},
   "outputs": [
    {
     "output_type": "execute_result",
     "data": {
      "text/plain": [
       "    Province/State      Country/Region        Lat        Long  1/22/20  \\\n",
       "0              N/A         Afghanistan  33.939110   67.709953        0   \n",
       "1              N/A             Albania  41.153300   20.168300        0   \n",
       "2              N/A             Algeria  28.033900    1.659600        0   \n",
       "3              N/A             Andorra  42.506300    1.521800        0   \n",
       "4              N/A              Angola -11.202700   17.873900        0   \n",
       "..             ...                 ...        ...         ...      ...   \n",
       "267            N/A             Vietnam  14.058324  108.277199        0   \n",
       "268            N/A  West Bank and Gaza  31.952200   35.233200        0   \n",
       "269            N/A               Yemen  15.552727   48.516388        0   \n",
       "270            N/A              Zambia -13.133897   27.849332        0   \n",
       "271            N/A            Zimbabwe -19.015438   29.154857        0   \n",
       "\n",
       "     1/23/20  1/24/20  1/25/20  1/26/20  1/27/20  ...  1/10/21  1/11/21  \\\n",
       "0          0        0        0        0        0  ...    53489    53538   \n",
       "1          0        0        0        0        0  ...    63595    63971   \n",
       "2          0        0        0        0        0  ...   102144   102369   \n",
       "3          0        0        0        0        0  ...     8586     8586   \n",
       "4          0        0        0        0        0  ...    18193    18254   \n",
       "..       ...      ...      ...      ...      ...  ...      ...      ...   \n",
       "267        2        2        2        2        2  ...     1514     1515   \n",
       "268        0        0        0        0        0  ...   147400   148171   \n",
       "269        0        0        0        0        0  ...     2104     2105   \n",
       "270        0        0        0        0        0  ...    27728    28596   \n",
       "271        0        0        0        0        0  ...    21477    22297   \n",
       "\n",
       "     1/12/21  1/13/21  1/14/21  1/15/21  1/16/21  1/17/21  1/18/21  1/19/21  \n",
       "0      53584    53584    53775    53831    53938    53984    54062    54141  \n",
       "1      64627    65334    65994    66635    67216    67690    67982    68568  \n",
       "2     102641   102860   103127   103381   103611   103833   104092   104341  \n",
       "3       8682     8818     8868     8946     9038     9083     9083     9194  \n",
       "4      18343    18425    18613    18679    18765    18875    18926    19011  \n",
       "..       ...      ...      ...      ...      ...      ...      ...      ...  \n",
       "267     1520     1521     1531     1536     1537     1537     1539     1540  \n",
       "268   148968   149769   150505   151142   151569   152031   152555   153093  \n",
       "269     2107     2109     2110     2111     2112     2112     2113     2115  \n",
       "270    29757    31100    32800    34278    36074    37605    38207    39515  \n",
       "271    23239    24256    25368    26109    26881    27203    27892    28675  \n",
       "\n",
       "[271 rows x 368 columns]"
      ],
      "text/html": "<div>\n<style scoped>\n    .dataframe tbody tr th:only-of-type {\n        vertical-align: middle;\n    }\n\n    .dataframe tbody tr th {\n        vertical-align: top;\n    }\n\n    .dataframe thead th {\n        text-align: right;\n    }\n</style>\n<table border=\"1\" class=\"dataframe\">\n  <thead>\n    <tr style=\"text-align: right;\">\n      <th></th>\n      <th>Province/State</th>\n      <th>Country/Region</th>\n      <th>Lat</th>\n      <th>Long</th>\n      <th>1/22/20</th>\n      <th>1/23/20</th>\n      <th>1/24/20</th>\n      <th>1/25/20</th>\n      <th>1/26/20</th>\n      <th>1/27/20</th>\n      <th>...</th>\n      <th>1/10/21</th>\n      <th>1/11/21</th>\n      <th>1/12/21</th>\n      <th>1/13/21</th>\n      <th>1/14/21</th>\n      <th>1/15/21</th>\n      <th>1/16/21</th>\n      <th>1/17/21</th>\n      <th>1/18/21</th>\n      <th>1/19/21</th>\n    </tr>\n  </thead>\n  <tbody>\n    <tr>\n      <th>0</th>\n      <td>N/A</td>\n      <td>Afghanistan</td>\n      <td>33.939110</td>\n      <td>67.709953</td>\n      <td>0</td>\n      <td>0</td>\n      <td>0</td>\n      <td>0</td>\n      <td>0</td>\n      <td>0</td>\n      <td>...</td>\n      <td>53489</td>\n      <td>53538</td>\n      <td>53584</td>\n      <td>53584</td>\n      <td>53775</td>\n      <td>53831</td>\n      <td>53938</td>\n      <td>53984</td>\n      <td>54062</td>\n      <td>54141</td>\n    </tr>\n    <tr>\n      <th>1</th>\n      <td>N/A</td>\n      <td>Albania</td>\n      <td>41.153300</td>\n      <td>20.168300</td>\n      <td>0</td>\n      <td>0</td>\n      <td>0</td>\n      <td>0</td>\n      <td>0</td>\n      <td>0</td>\n      <td>...</td>\n      <td>63595</td>\n      <td>63971</td>\n      <td>64627</td>\n      <td>65334</td>\n      <td>65994</td>\n      <td>66635</td>\n      <td>67216</td>\n      <td>67690</td>\n      <td>67982</td>\n      <td>68568</td>\n    </tr>\n    <tr>\n      <th>2</th>\n      <td>N/A</td>\n      <td>Algeria</td>\n      <td>28.033900</td>\n      <td>1.659600</td>\n      <td>0</td>\n      <td>0</td>\n      <td>0</td>\n      <td>0</td>\n      <td>0</td>\n      <td>0</td>\n      <td>...</td>\n      <td>102144</td>\n      <td>102369</td>\n      <td>102641</td>\n      <td>102860</td>\n      <td>103127</td>\n      <td>103381</td>\n      <td>103611</td>\n      <td>103833</td>\n      <td>104092</td>\n      <td>104341</td>\n    </tr>\n    <tr>\n      <th>3</th>\n      <td>N/A</td>\n      <td>Andorra</td>\n      <td>42.506300</td>\n      <td>1.521800</td>\n      <td>0</td>\n      <td>0</td>\n      <td>0</td>\n      <td>0</td>\n      <td>0</td>\n      <td>0</td>\n      <td>...</td>\n      <td>8586</td>\n      <td>8586</td>\n      <td>8682</td>\n      <td>8818</td>\n      <td>8868</td>\n      <td>8946</td>\n      <td>9038</td>\n      <td>9083</td>\n      <td>9083</td>\n      <td>9194</td>\n    </tr>\n    <tr>\n      <th>4</th>\n      <td>N/A</td>\n      <td>Angola</td>\n      <td>-11.202700</td>\n      <td>17.873900</td>\n      <td>0</td>\n      <td>0</td>\n      <td>0</td>\n      <td>0</td>\n      <td>0</td>\n      <td>0</td>\n      <td>...</td>\n      <td>18193</td>\n      <td>18254</td>\n      <td>18343</td>\n      <td>18425</td>\n      <td>18613</td>\n      <td>18679</td>\n      <td>18765</td>\n      <td>18875</td>\n      <td>18926</td>\n      <td>19011</td>\n    </tr>\n    <tr>\n      <th>...</th>\n      <td>...</td>\n      <td>...</td>\n      <td>...</td>\n      <td>...</td>\n      <td>...</td>\n      <td>...</td>\n      <td>...</td>\n      <td>...</td>\n      <td>...</td>\n      <td>...</td>\n      <td>...</td>\n      <td>...</td>\n      <td>...</td>\n      <td>...</td>\n      <td>...</td>\n      <td>...</td>\n      <td>...</td>\n      <td>...</td>\n      <td>...</td>\n      <td>...</td>\n      <td>...</td>\n    </tr>\n    <tr>\n      <th>267</th>\n      <td>N/A</td>\n      <td>Vietnam</td>\n      <td>14.058324</td>\n      <td>108.277199</td>\n      <td>0</td>\n      <td>2</td>\n      <td>2</td>\n      <td>2</td>\n      <td>2</td>\n      <td>2</td>\n      <td>...</td>\n      <td>1514</td>\n      <td>1515</td>\n      <td>1520</td>\n      <td>1521</td>\n      <td>1531</td>\n      <td>1536</td>\n      <td>1537</td>\n      <td>1537</td>\n      <td>1539</td>\n      <td>1540</td>\n    </tr>\n    <tr>\n      <th>268</th>\n      <td>N/A</td>\n      <td>West Bank and Gaza</td>\n      <td>31.952200</td>\n      <td>35.233200</td>\n      <td>0</td>\n      <td>0</td>\n      <td>0</td>\n      <td>0</td>\n      <td>0</td>\n      <td>0</td>\n      <td>...</td>\n      <td>147400</td>\n      <td>148171</td>\n      <td>148968</td>\n      <td>149769</td>\n      <td>150505</td>\n      <td>151142</td>\n      <td>151569</td>\n      <td>152031</td>\n      <td>152555</td>\n      <td>153093</td>\n    </tr>\n    <tr>\n      <th>269</th>\n      <td>N/A</td>\n      <td>Yemen</td>\n      <td>15.552727</td>\n      <td>48.516388</td>\n      <td>0</td>\n      <td>0</td>\n      <td>0</td>\n      <td>0</td>\n      <td>0</td>\n      <td>0</td>\n      <td>...</td>\n      <td>2104</td>\n      <td>2105</td>\n      <td>2107</td>\n      <td>2109</td>\n      <td>2110</td>\n      <td>2111</td>\n      <td>2112</td>\n      <td>2112</td>\n      <td>2113</td>\n      <td>2115</td>\n    </tr>\n    <tr>\n      <th>270</th>\n      <td>N/A</td>\n      <td>Zambia</td>\n      <td>-13.133897</td>\n      <td>27.849332</td>\n      <td>0</td>\n      <td>0</td>\n      <td>0</td>\n      <td>0</td>\n      <td>0</td>\n      <td>0</td>\n      <td>...</td>\n      <td>27728</td>\n      <td>28596</td>\n      <td>29757</td>\n      <td>31100</td>\n      <td>32800</td>\n      <td>34278</td>\n      <td>36074</td>\n      <td>37605</td>\n      <td>38207</td>\n      <td>39515</td>\n    </tr>\n    <tr>\n      <th>271</th>\n      <td>N/A</td>\n      <td>Zimbabwe</td>\n      <td>-19.015438</td>\n      <td>29.154857</td>\n      <td>0</td>\n      <td>0</td>\n      <td>0</td>\n      <td>0</td>\n      <td>0</td>\n      <td>0</td>\n      <td>...</td>\n      <td>21477</td>\n      <td>22297</td>\n      <td>23239</td>\n      <td>24256</td>\n      <td>25368</td>\n      <td>26109</td>\n      <td>26881</td>\n      <td>27203</td>\n      <td>27892</td>\n      <td>28675</td>\n    </tr>\n  </tbody>\n</table>\n<p>271 rows × 368 columns</p>\n</div>"
     },
     "metadata": {},
     "execution_count": 3
    }
   ],
   "source": [
    "df_time_confirmed = pd.read_csv(\"covid_dataset\\\\time_series_covid_19_confirmed.csv\")\n",
    "\n",
    "# Code below is to see what columns have null values in order to correct them\n",
    "df_time_confirmed_NaN = df_time_confirmed[df_time_confirmed.isna().any(axis=1)]\n",
    "# print(df_time_confirmed.shape)\n",
    "\n",
    "# Then, I wanted to double check for more unimportant data, where I found a row to delete (index 52, 'Repatriated Travelers')\n",
    "df_time_confirmed['Province/State'] = df_time_confirmed['Province/State'].fillna('N/A')\n",
    "#df_time_confirmed = df_time_confirmed[df_time_confirmed.isna().any(axis=1)]\n",
    "# df_time_confirmed_NaN\n",
    "\n",
    "df_time_confirmed = df_time_confirmed.drop(52)\n",
    "df_time_confirmed_NaN = df_time_confirmed[df_time_confirmed.isna().any(axis=1)]\n",
    "\n",
    "# The code below was put here because presumably I thought that Province/State was unnecessary, but there are various instances of the same country because they have different provinces located in different lat/long, so this may prove disadvantageous.\n",
    "#del df_time_confirmed['Province/State']\n",
    "\n",
    "df_time_confirmed"
   ]
  },
  {
   "source": [
    "## Confirmed US Cases Importing and Modifications"
   ],
   "cell_type": "markdown",
   "metadata": {}
  },
  {
   "cell_type": "code",
   "execution_count": 4,
   "metadata": {},
   "outputs": [
    {
     "output_type": "execute_result",
     "data": {
      "text/plain": [
       "          Admin2 Province_State Country_Region        Lat       Long_  \\\n",
       "0        Autauga        Alabama             US  32.539527  -86.644082   \n",
       "1        Baldwin        Alabama             US  30.727750  -87.722071   \n",
       "2        Barbour        Alabama             US  31.868263  -85.387129   \n",
       "3           Bibb        Alabama             US  32.996421  -87.125115   \n",
       "4         Blount        Alabama             US  33.982109  -86.567906   \n",
       "...          ...            ...            ...        ...         ...   \n",
       "3335       Teton        Wyoming             US  43.935225 -110.589080   \n",
       "3336       Uinta        Wyoming             US  41.287818 -110.547578   \n",
       "3337  Unassigned        Wyoming             US   0.000000    0.000000   \n",
       "3338    Washakie        Wyoming             US  43.904516 -107.680187   \n",
       "3339      Weston        Wyoming             US  43.839612 -104.567488   \n",
       "\n",
       "                 Combined_Key  1/22/20  1/23/20  1/24/20  1/25/20  ...  \\\n",
       "0        Autauga, Alabama, US        0        0        0        0  ...   \n",
       "1        Baldwin, Alabama, US        0        0        0        0  ...   \n",
       "2        Barbour, Alabama, US        0        0        0        0  ...   \n",
       "3           Bibb, Alabama, US        0        0        0        0  ...   \n",
       "4         Blount, Alabama, US        0        0        0        0  ...   \n",
       "...                       ...      ...      ...      ...      ...  ...   \n",
       "3335       Teton, Wyoming, US        0        0        0        0  ...   \n",
       "3336       Uinta, Wyoming, US        0        0        0        0  ...   \n",
       "3337  Unassigned, Wyoming, US        0        0        0        0  ...   \n",
       "3338    Washakie, Wyoming, US        0        0        0        0  ...   \n",
       "3339      Weston, Wyoming, US        0        0        0        0  ...   \n",
       "\n",
       "      1/10/21  1/11/21  1/12/21  1/13/21  1/14/21  1/15/21  1/16/21  1/17/21  \\\n",
       "0        4879     4902     4970     4998     5075     5103     5154     5184   \n",
       "1       15327    15417    15572    15701    15841    16002    16176    16251   \n",
       "2        1658     1663     1679     1685     1696     1712     1723     1729   \n",
       "3        2051     2060     2090     2109     2113     2130     2144     2151   \n",
       "4        5066     5080     5134     5170     5219     5264     5292     5304   \n",
       "...       ...      ...      ...      ...      ...      ...      ...      ...   \n",
       "3335     2353     2447     2497     2502     2579     2605     2614     2685   \n",
       "3336     1708     1744     1764     1774     1794     1806     1813     1817   \n",
       "3337        0        0        0        0        0        0        0        0   \n",
       "3338      805      817      825      830      837      840      842      843   \n",
       "3339      485      485      601      601      602      602      602      602   \n",
       "\n",
       "      1/18/21  1/19/21  \n",
       "0        5198     5227  \n",
       "1       16346    16513  \n",
       "2        1730     1738  \n",
       "3        2162     2170  \n",
       "4        5308     5320  \n",
       "...       ...      ...  \n",
       "3335     2753     2769  \n",
       "3336     1833     1843  \n",
       "3337        0        0  \n",
       "3338      844      846  \n",
       "3339      602      606  \n",
       "\n",
       "[3340 rows x 370 columns]"
      ],
      "text/html": "<div>\n<style scoped>\n    .dataframe tbody tr th:only-of-type {\n        vertical-align: middle;\n    }\n\n    .dataframe tbody tr th {\n        vertical-align: top;\n    }\n\n    .dataframe thead th {\n        text-align: right;\n    }\n</style>\n<table border=\"1\" class=\"dataframe\">\n  <thead>\n    <tr style=\"text-align: right;\">\n      <th></th>\n      <th>Admin2</th>\n      <th>Province_State</th>\n      <th>Country_Region</th>\n      <th>Lat</th>\n      <th>Long_</th>\n      <th>Combined_Key</th>\n      <th>1/22/20</th>\n      <th>1/23/20</th>\n      <th>1/24/20</th>\n      <th>1/25/20</th>\n      <th>...</th>\n      <th>1/10/21</th>\n      <th>1/11/21</th>\n      <th>1/12/21</th>\n      <th>1/13/21</th>\n      <th>1/14/21</th>\n      <th>1/15/21</th>\n      <th>1/16/21</th>\n      <th>1/17/21</th>\n      <th>1/18/21</th>\n      <th>1/19/21</th>\n    </tr>\n  </thead>\n  <tbody>\n    <tr>\n      <th>0</th>\n      <td>Autauga</td>\n      <td>Alabama</td>\n      <td>US</td>\n      <td>32.539527</td>\n      <td>-86.644082</td>\n      <td>Autauga, Alabama, US</td>\n      <td>0</td>\n      <td>0</td>\n      <td>0</td>\n      <td>0</td>\n      <td>...</td>\n      <td>4879</td>\n      <td>4902</td>\n      <td>4970</td>\n      <td>4998</td>\n      <td>5075</td>\n      <td>5103</td>\n      <td>5154</td>\n      <td>5184</td>\n      <td>5198</td>\n      <td>5227</td>\n    </tr>\n    <tr>\n      <th>1</th>\n      <td>Baldwin</td>\n      <td>Alabama</td>\n      <td>US</td>\n      <td>30.727750</td>\n      <td>-87.722071</td>\n      <td>Baldwin, Alabama, US</td>\n      <td>0</td>\n      <td>0</td>\n      <td>0</td>\n      <td>0</td>\n      <td>...</td>\n      <td>15327</td>\n      <td>15417</td>\n      <td>15572</td>\n      <td>15701</td>\n      <td>15841</td>\n      <td>16002</td>\n      <td>16176</td>\n      <td>16251</td>\n      <td>16346</td>\n      <td>16513</td>\n    </tr>\n    <tr>\n      <th>2</th>\n      <td>Barbour</td>\n      <td>Alabama</td>\n      <td>US</td>\n      <td>31.868263</td>\n      <td>-85.387129</td>\n      <td>Barbour, Alabama, US</td>\n      <td>0</td>\n      <td>0</td>\n      <td>0</td>\n      <td>0</td>\n      <td>...</td>\n      <td>1658</td>\n      <td>1663</td>\n      <td>1679</td>\n      <td>1685</td>\n      <td>1696</td>\n      <td>1712</td>\n      <td>1723</td>\n      <td>1729</td>\n      <td>1730</td>\n      <td>1738</td>\n    </tr>\n    <tr>\n      <th>3</th>\n      <td>Bibb</td>\n      <td>Alabama</td>\n      <td>US</td>\n      <td>32.996421</td>\n      <td>-87.125115</td>\n      <td>Bibb, Alabama, US</td>\n      <td>0</td>\n      <td>0</td>\n      <td>0</td>\n      <td>0</td>\n      <td>...</td>\n      <td>2051</td>\n      <td>2060</td>\n      <td>2090</td>\n      <td>2109</td>\n      <td>2113</td>\n      <td>2130</td>\n      <td>2144</td>\n      <td>2151</td>\n      <td>2162</td>\n      <td>2170</td>\n    </tr>\n    <tr>\n      <th>4</th>\n      <td>Blount</td>\n      <td>Alabama</td>\n      <td>US</td>\n      <td>33.982109</td>\n      <td>-86.567906</td>\n      <td>Blount, Alabama, US</td>\n      <td>0</td>\n      <td>0</td>\n      <td>0</td>\n      <td>0</td>\n      <td>...</td>\n      <td>5066</td>\n      <td>5080</td>\n      <td>5134</td>\n      <td>5170</td>\n      <td>5219</td>\n      <td>5264</td>\n      <td>5292</td>\n      <td>5304</td>\n      <td>5308</td>\n      <td>5320</td>\n    </tr>\n    <tr>\n      <th>...</th>\n      <td>...</td>\n      <td>...</td>\n      <td>...</td>\n      <td>...</td>\n      <td>...</td>\n      <td>...</td>\n      <td>...</td>\n      <td>...</td>\n      <td>...</td>\n      <td>...</td>\n      <td>...</td>\n      <td>...</td>\n      <td>...</td>\n      <td>...</td>\n      <td>...</td>\n      <td>...</td>\n      <td>...</td>\n      <td>...</td>\n      <td>...</td>\n      <td>...</td>\n      <td>...</td>\n    </tr>\n    <tr>\n      <th>3335</th>\n      <td>Teton</td>\n      <td>Wyoming</td>\n      <td>US</td>\n      <td>43.935225</td>\n      <td>-110.589080</td>\n      <td>Teton, Wyoming, US</td>\n      <td>0</td>\n      <td>0</td>\n      <td>0</td>\n      <td>0</td>\n      <td>...</td>\n      <td>2353</td>\n      <td>2447</td>\n      <td>2497</td>\n      <td>2502</td>\n      <td>2579</td>\n      <td>2605</td>\n      <td>2614</td>\n      <td>2685</td>\n      <td>2753</td>\n      <td>2769</td>\n    </tr>\n    <tr>\n      <th>3336</th>\n      <td>Uinta</td>\n      <td>Wyoming</td>\n      <td>US</td>\n      <td>41.287818</td>\n      <td>-110.547578</td>\n      <td>Uinta, Wyoming, US</td>\n      <td>0</td>\n      <td>0</td>\n      <td>0</td>\n      <td>0</td>\n      <td>...</td>\n      <td>1708</td>\n      <td>1744</td>\n      <td>1764</td>\n      <td>1774</td>\n      <td>1794</td>\n      <td>1806</td>\n      <td>1813</td>\n      <td>1817</td>\n      <td>1833</td>\n      <td>1843</td>\n    </tr>\n    <tr>\n      <th>3337</th>\n      <td>Unassigned</td>\n      <td>Wyoming</td>\n      <td>US</td>\n      <td>0.000000</td>\n      <td>0.000000</td>\n      <td>Unassigned, Wyoming, US</td>\n      <td>0</td>\n      <td>0</td>\n      <td>0</td>\n      <td>0</td>\n      <td>...</td>\n      <td>0</td>\n      <td>0</td>\n      <td>0</td>\n      <td>0</td>\n      <td>0</td>\n      <td>0</td>\n      <td>0</td>\n      <td>0</td>\n      <td>0</td>\n      <td>0</td>\n    </tr>\n    <tr>\n      <th>3338</th>\n      <td>Washakie</td>\n      <td>Wyoming</td>\n      <td>US</td>\n      <td>43.904516</td>\n      <td>-107.680187</td>\n      <td>Washakie, Wyoming, US</td>\n      <td>0</td>\n      <td>0</td>\n      <td>0</td>\n      <td>0</td>\n      <td>...</td>\n      <td>805</td>\n      <td>817</td>\n      <td>825</td>\n      <td>830</td>\n      <td>837</td>\n      <td>840</td>\n      <td>842</td>\n      <td>843</td>\n      <td>844</td>\n      <td>846</td>\n    </tr>\n    <tr>\n      <th>3339</th>\n      <td>Weston</td>\n      <td>Wyoming</td>\n      <td>US</td>\n      <td>43.839612</td>\n      <td>-104.567488</td>\n      <td>Weston, Wyoming, US</td>\n      <td>0</td>\n      <td>0</td>\n      <td>0</td>\n      <td>0</td>\n      <td>...</td>\n      <td>485</td>\n      <td>485</td>\n      <td>601</td>\n      <td>601</td>\n      <td>602</td>\n      <td>602</td>\n      <td>602</td>\n      <td>602</td>\n      <td>602</td>\n      <td>606</td>\n    </tr>\n  </tbody>\n</table>\n<p>3340 rows × 370 columns</p>\n</div>"
     },
     "metadata": {},
     "execution_count": 4
    }
   ],
   "source": [
    "df_time_confirmed_US = pd.read_csv(\"covid_dataset\\\\time_series_covid_19_confirmed_US.csv\")\n",
    "\n",
    "df_time_confirmed_US_NaN = df_time_confirmed_US[df_time_confirmed_US.isna().any(axis=1)]\n",
    "# This df is providing too much info that we won't need in general, so let's delete UID, iso2, iso3, code3, and FIPS. We will keep Admin 2 because it would probably give us good data in terms of precision\n",
    "\n",
    "df_time_confirmed_US.drop('UID', axis=1, inplace=True) # inplace is used to not have to redefine df_time_confirmed_US\n",
    "df_time_confirmed_US.drop('iso2', axis=1, inplace=True) # axis = 1 is for columns, axis = 0 is for rows\n",
    "df_time_confirmed_US.drop('iso3', axis=1, inplace=True) \n",
    "df_time_confirmed_US.drop('code3', axis=1, inplace=True) \n",
    "df_time_confirmed_US.drop('FIPS', axis=1, inplace=True)\n",
    "\n",
    "df_time_confirmed_US['Province_State'] = df_time_confirmed_US['Province_State'].fillna('N/A')\n",
    "df_time_confirmed_US['Admin2'] = df_time_confirmed_US['Admin2'].fillna('N/A')\n",
    "df_time_confirmed_US_NaN = df_time_confirmed_US[df_time_confirmed_US.isna().any(axis=1)]\n",
    "df_time_confirmed_US"
   ]
  },
  {
   "cell_type": "code",
   "execution_count": 5,
   "metadata": {},
   "outputs": [
    {
     "output_type": "execute_result",
     "data": {
      "text/plain": [
       "            City    State Country/Region        Lat        Long  \\\n",
       "0        Autauga  Alabama             US  32.539527  -86.644082   \n",
       "1        Baldwin  Alabama             US  30.727750  -87.722071   \n",
       "2        Barbour  Alabama             US  31.868263  -85.387129   \n",
       "3           Bibb  Alabama             US  32.996421  -87.125115   \n",
       "4         Blount  Alabama             US  33.982109  -86.567906   \n",
       "...          ...      ...            ...        ...         ...   \n",
       "3334  Sweetwater  Wyoming             US  41.659439 -108.882788   \n",
       "3335       Teton  Wyoming             US  43.935225 -110.589080   \n",
       "3336       Uinta  Wyoming             US  41.287818 -110.547578   \n",
       "3338    Washakie  Wyoming             US  43.904516 -107.680187   \n",
       "3339      Weston  Wyoming             US  43.839612 -104.567488   \n",
       "\n",
       "                 Combined_Key  1/22/20  1/23/20  1/24/20  1/25/20  ...  \\\n",
       "0        Autauga, Alabama, US        0        0        0        0  ...   \n",
       "1        Baldwin, Alabama, US        0        0        0        0  ...   \n",
       "2        Barbour, Alabama, US        0        0        0        0  ...   \n",
       "3           Bibb, Alabama, US        0        0        0        0  ...   \n",
       "4         Blount, Alabama, US        0        0        0        0  ...   \n",
       "...                       ...      ...      ...      ...      ...  ...   \n",
       "3334  Sweetwater, Wyoming, US        0        0        0        0  ...   \n",
       "3335       Teton, Wyoming, US        0        0        0        0  ...   \n",
       "3336       Uinta, Wyoming, US        0        0        0        0  ...   \n",
       "3338    Washakie, Wyoming, US        0        0        0        0  ...   \n",
       "3339      Weston, Wyoming, US        0        0        0        0  ...   \n",
       "\n",
       "      1/10/21  1/11/21  1/12/21  1/13/21  1/14/21  1/15/21  1/16/21  1/17/21  \\\n",
       "0        4879     4902     4970     4998     5075     5103     5154     5184   \n",
       "1       15327    15417    15572    15701    15841    16002    16176    16251   \n",
       "2        1658     1663     1679     1685     1696     1712     1723     1729   \n",
       "3        2051     2060     2090     2109     2113     2130     2144     2151   \n",
       "4        5066     5080     5134     5170     5219     5264     5292     5304   \n",
       "...       ...      ...      ...      ...      ...      ...      ...      ...   \n",
       "3334     3162     3187     3210     3222     3250     3262     3280     3290   \n",
       "3335     2353     2447     2497     2502     2579     2605     2614     2685   \n",
       "3336     1708     1744     1764     1774     1794     1806     1813     1817   \n",
       "3338      805      817      825      830      837      840      842      843   \n",
       "3339      485      485      601      601      602      602      602      602   \n",
       "\n",
       "      1/18/21  1/19/21  \n",
       "0        5198     5227  \n",
       "1       16346    16513  \n",
       "2        1730     1738  \n",
       "3        2162     2170  \n",
       "4        5308     5320  \n",
       "...       ...      ...  \n",
       "3334     3312     3329  \n",
       "3335     2753     2769  \n",
       "3336     1833     1843  \n",
       "3338      844      846  \n",
       "3339      602      606  \n",
       "\n",
       "[3232 rows x 370 columns]"
      ],
      "text/html": "<div>\n<style scoped>\n    .dataframe tbody tr th:only-of-type {\n        vertical-align: middle;\n    }\n\n    .dataframe tbody tr th {\n        vertical-align: top;\n    }\n\n    .dataframe thead th {\n        text-align: right;\n    }\n</style>\n<table border=\"1\" class=\"dataframe\">\n  <thead>\n    <tr style=\"text-align: right;\">\n      <th></th>\n      <th>City</th>\n      <th>State</th>\n      <th>Country/Region</th>\n      <th>Lat</th>\n      <th>Long</th>\n      <th>Combined_Key</th>\n      <th>1/22/20</th>\n      <th>1/23/20</th>\n      <th>1/24/20</th>\n      <th>1/25/20</th>\n      <th>...</th>\n      <th>1/10/21</th>\n      <th>1/11/21</th>\n      <th>1/12/21</th>\n      <th>1/13/21</th>\n      <th>1/14/21</th>\n      <th>1/15/21</th>\n      <th>1/16/21</th>\n      <th>1/17/21</th>\n      <th>1/18/21</th>\n      <th>1/19/21</th>\n    </tr>\n  </thead>\n  <tbody>\n    <tr>\n      <th>0</th>\n      <td>Autauga</td>\n      <td>Alabama</td>\n      <td>US</td>\n      <td>32.539527</td>\n      <td>-86.644082</td>\n      <td>Autauga, Alabama, US</td>\n      <td>0</td>\n      <td>0</td>\n      <td>0</td>\n      <td>0</td>\n      <td>...</td>\n      <td>4879</td>\n      <td>4902</td>\n      <td>4970</td>\n      <td>4998</td>\n      <td>5075</td>\n      <td>5103</td>\n      <td>5154</td>\n      <td>5184</td>\n      <td>5198</td>\n      <td>5227</td>\n    </tr>\n    <tr>\n      <th>1</th>\n      <td>Baldwin</td>\n      <td>Alabama</td>\n      <td>US</td>\n      <td>30.727750</td>\n      <td>-87.722071</td>\n      <td>Baldwin, Alabama, US</td>\n      <td>0</td>\n      <td>0</td>\n      <td>0</td>\n      <td>0</td>\n      <td>...</td>\n      <td>15327</td>\n      <td>15417</td>\n      <td>15572</td>\n      <td>15701</td>\n      <td>15841</td>\n      <td>16002</td>\n      <td>16176</td>\n      <td>16251</td>\n      <td>16346</td>\n      <td>16513</td>\n    </tr>\n    <tr>\n      <th>2</th>\n      <td>Barbour</td>\n      <td>Alabama</td>\n      <td>US</td>\n      <td>31.868263</td>\n      <td>-85.387129</td>\n      <td>Barbour, Alabama, US</td>\n      <td>0</td>\n      <td>0</td>\n      <td>0</td>\n      <td>0</td>\n      <td>...</td>\n      <td>1658</td>\n      <td>1663</td>\n      <td>1679</td>\n      <td>1685</td>\n      <td>1696</td>\n      <td>1712</td>\n      <td>1723</td>\n      <td>1729</td>\n      <td>1730</td>\n      <td>1738</td>\n    </tr>\n    <tr>\n      <th>3</th>\n      <td>Bibb</td>\n      <td>Alabama</td>\n      <td>US</td>\n      <td>32.996421</td>\n      <td>-87.125115</td>\n      <td>Bibb, Alabama, US</td>\n      <td>0</td>\n      <td>0</td>\n      <td>0</td>\n      <td>0</td>\n      <td>...</td>\n      <td>2051</td>\n      <td>2060</td>\n      <td>2090</td>\n      <td>2109</td>\n      <td>2113</td>\n      <td>2130</td>\n      <td>2144</td>\n      <td>2151</td>\n      <td>2162</td>\n      <td>2170</td>\n    </tr>\n    <tr>\n      <th>4</th>\n      <td>Blount</td>\n      <td>Alabama</td>\n      <td>US</td>\n      <td>33.982109</td>\n      <td>-86.567906</td>\n      <td>Blount, Alabama, US</td>\n      <td>0</td>\n      <td>0</td>\n      <td>0</td>\n      <td>0</td>\n      <td>...</td>\n      <td>5066</td>\n      <td>5080</td>\n      <td>5134</td>\n      <td>5170</td>\n      <td>5219</td>\n      <td>5264</td>\n      <td>5292</td>\n      <td>5304</td>\n      <td>5308</td>\n      <td>5320</td>\n    </tr>\n    <tr>\n      <th>...</th>\n      <td>...</td>\n      <td>...</td>\n      <td>...</td>\n      <td>...</td>\n      <td>...</td>\n      <td>...</td>\n      <td>...</td>\n      <td>...</td>\n      <td>...</td>\n      <td>...</td>\n      <td>...</td>\n      <td>...</td>\n      <td>...</td>\n      <td>...</td>\n      <td>...</td>\n      <td>...</td>\n      <td>...</td>\n      <td>...</td>\n      <td>...</td>\n      <td>...</td>\n      <td>...</td>\n    </tr>\n    <tr>\n      <th>3334</th>\n      <td>Sweetwater</td>\n      <td>Wyoming</td>\n      <td>US</td>\n      <td>41.659439</td>\n      <td>-108.882788</td>\n      <td>Sweetwater, Wyoming, US</td>\n      <td>0</td>\n      <td>0</td>\n      <td>0</td>\n      <td>0</td>\n      <td>...</td>\n      <td>3162</td>\n      <td>3187</td>\n      <td>3210</td>\n      <td>3222</td>\n      <td>3250</td>\n      <td>3262</td>\n      <td>3280</td>\n      <td>3290</td>\n      <td>3312</td>\n      <td>3329</td>\n    </tr>\n    <tr>\n      <th>3335</th>\n      <td>Teton</td>\n      <td>Wyoming</td>\n      <td>US</td>\n      <td>43.935225</td>\n      <td>-110.589080</td>\n      <td>Teton, Wyoming, US</td>\n      <td>0</td>\n      <td>0</td>\n      <td>0</td>\n      <td>0</td>\n      <td>...</td>\n      <td>2353</td>\n      <td>2447</td>\n      <td>2497</td>\n      <td>2502</td>\n      <td>2579</td>\n      <td>2605</td>\n      <td>2614</td>\n      <td>2685</td>\n      <td>2753</td>\n      <td>2769</td>\n    </tr>\n    <tr>\n      <th>3336</th>\n      <td>Uinta</td>\n      <td>Wyoming</td>\n      <td>US</td>\n      <td>41.287818</td>\n      <td>-110.547578</td>\n      <td>Uinta, Wyoming, US</td>\n      <td>0</td>\n      <td>0</td>\n      <td>0</td>\n      <td>0</td>\n      <td>...</td>\n      <td>1708</td>\n      <td>1744</td>\n      <td>1764</td>\n      <td>1774</td>\n      <td>1794</td>\n      <td>1806</td>\n      <td>1813</td>\n      <td>1817</td>\n      <td>1833</td>\n      <td>1843</td>\n    </tr>\n    <tr>\n      <th>3338</th>\n      <td>Washakie</td>\n      <td>Wyoming</td>\n      <td>US</td>\n      <td>43.904516</td>\n      <td>-107.680187</td>\n      <td>Washakie, Wyoming, US</td>\n      <td>0</td>\n      <td>0</td>\n      <td>0</td>\n      <td>0</td>\n      <td>...</td>\n      <td>805</td>\n      <td>817</td>\n      <td>825</td>\n      <td>830</td>\n      <td>837</td>\n      <td>840</td>\n      <td>842</td>\n      <td>843</td>\n      <td>844</td>\n      <td>846</td>\n    </tr>\n    <tr>\n      <th>3339</th>\n      <td>Weston</td>\n      <td>Wyoming</td>\n      <td>US</td>\n      <td>43.839612</td>\n      <td>-104.567488</td>\n      <td>Weston, Wyoming, US</td>\n      <td>0</td>\n      <td>0</td>\n      <td>0</td>\n      <td>0</td>\n      <td>...</td>\n      <td>485</td>\n      <td>485</td>\n      <td>601</td>\n      <td>601</td>\n      <td>602</td>\n      <td>602</td>\n      <td>602</td>\n      <td>602</td>\n      <td>602</td>\n      <td>606</td>\n    </tr>\n  </tbody>\n</table>\n<p>3232 rows × 370 columns</p>\n</div>"
     },
     "metadata": {},
     "execution_count": 5
    }
   ],
   "source": [
    "# I also observed that this time series includes miscellanious locations, such as cruises, which have latitude and longitude as 0. Let's delete those. Let's also Rename Long_ to Long and Combined_Key to State_Country\n",
    "\n",
    "df_time_confirmed_US.rename(columns={'Long_': 'Long', \n",
    "                                     'Province_State' : 'State', \n",
    "                                     'Country_Region' : 'Country/Region', \n",
    "                                     'Admin2' : 'City'}, \n",
    "                                     inplace = True)\n",
    "\n",
    "# df_filtered = df_time_confirmed_US[df_time_confirmed_US['Long'] != 0 and df_time_confirmed['Lat'] != 0]\n",
    "# Getting problems with statement above, have to check what datatype long and lat are, because they don't seem to be numbers\n",
    "\n",
    "# df_time_confirmed_US.dtypes # They're floats...\n",
    "# Edit: turns out I was doing it wrong the whole time...\n",
    "\n",
    "df_filtered = df_time_confirmed_US[(df_time_confirmed_US['Long'] != 0.0) & (df_time_confirmed_US['Lat'] != 0.0)]\n",
    "df_filtered\n",
    "\n",
    "df_time_confirmed_US = df_filtered #Done\n",
    "df_time_confirmed_US"
   ]
  },
  {
   "source": [
    "## Confirmed Deaths Time Series Importing and Modifications"
   ],
   "cell_type": "markdown",
   "metadata": {}
  },
  {
   "cell_type": "code",
   "execution_count": 6,
   "metadata": {},
   "outputs": [
    {
     "output_type": "execute_result",
     "data": {
      "text/plain": [
       "    Province/State      Country/Region        Lat        Long  1/22/20  \\\n",
       "0              NaN         Afghanistan  33.939110   67.709953        0   \n",
       "1              NaN             Albania  41.153300   20.168300        0   \n",
       "2              NaN             Algeria  28.033900    1.659600        0   \n",
       "3              NaN             Andorra  42.506300    1.521800        0   \n",
       "4              NaN              Angola -11.202700   17.873900        0   \n",
       "..             ...                 ...        ...         ...      ...   \n",
       "267            NaN             Vietnam  14.058324  108.277199        0   \n",
       "268            NaN  West Bank and Gaza  31.952200   35.233200        0   \n",
       "269            NaN               Yemen  15.552727   48.516388        0   \n",
       "270            NaN              Zambia -13.133897   27.849332        0   \n",
       "271            NaN            Zimbabwe -19.015438   29.154857        0   \n",
       "\n",
       "     1/23/20  1/24/20  1/25/20  1/26/20  1/27/20  ...  1/10/21  1/11/21  \\\n",
       "0          0        0        0        0        0  ...     2277     2288   \n",
       "1          0        0        0        0        0  ...     1241     1247   \n",
       "2          0        0        0        0        0  ...     2807     2812   \n",
       "3          0        0        0        0        0  ...       85       85   \n",
       "4          0        0        0        0        0  ...      416      420   \n",
       "..       ...      ...      ...      ...      ...  ...      ...      ...   \n",
       "267        0        0        0        0        0  ...       35       35   \n",
       "268        0        0        0        0        0  ...     1604     1614   \n",
       "269        0        0        0        0        0  ...      611      612   \n",
       "270        0        0        0        0        0  ...      469      471   \n",
       "271        0        0        0        0        0  ...      507      528   \n",
       "\n",
       "     1/12/21  1/13/21  1/14/21  1/15/21  1/16/21  1/17/21  1/18/21  1/19/21  \n",
       "0       2301     2301     2314     2324     2336     2339     2343     2346  \n",
       "1       1252     1256     1261     1265     1270     1277     1281     1287  \n",
       "2       2816     2819     2822     2827     2831     2836     2840     2843  \n",
       "3         86       87       88       88       91       91       91       92  \n",
       "4        422      424      425      428      431      436      439      442  \n",
       "..       ...      ...      ...      ...      ...      ...      ...      ...  \n",
       "267       35       35       35       35       35       35       35       35  \n",
       "268     1630     1658     1665     1687     1700     1718     1726     1741  \n",
       "269      612      612      612      612      612      612      612      612  \n",
       "270      495      509      514      527      537      546      559      578  \n",
       "271      551      589      636      666      683      713      773      825  \n",
       "\n",
       "[268 rows x 368 columns]"
      ],
      "text/html": "<div>\n<style scoped>\n    .dataframe tbody tr th:only-of-type {\n        vertical-align: middle;\n    }\n\n    .dataframe tbody tr th {\n        vertical-align: top;\n    }\n\n    .dataframe thead th {\n        text-align: right;\n    }\n</style>\n<table border=\"1\" class=\"dataframe\">\n  <thead>\n    <tr style=\"text-align: right;\">\n      <th></th>\n      <th>Province/State</th>\n      <th>Country/Region</th>\n      <th>Lat</th>\n      <th>Long</th>\n      <th>1/22/20</th>\n      <th>1/23/20</th>\n      <th>1/24/20</th>\n      <th>1/25/20</th>\n      <th>1/26/20</th>\n      <th>1/27/20</th>\n      <th>...</th>\n      <th>1/10/21</th>\n      <th>1/11/21</th>\n      <th>1/12/21</th>\n      <th>1/13/21</th>\n      <th>1/14/21</th>\n      <th>1/15/21</th>\n      <th>1/16/21</th>\n      <th>1/17/21</th>\n      <th>1/18/21</th>\n      <th>1/19/21</th>\n    </tr>\n  </thead>\n  <tbody>\n    <tr>\n      <th>0</th>\n      <td>NaN</td>\n      <td>Afghanistan</td>\n      <td>33.939110</td>\n      <td>67.709953</td>\n      <td>0</td>\n      <td>0</td>\n      <td>0</td>\n      <td>0</td>\n      <td>0</td>\n      <td>0</td>\n      <td>...</td>\n      <td>2277</td>\n      <td>2288</td>\n      <td>2301</td>\n      <td>2301</td>\n      <td>2314</td>\n      <td>2324</td>\n      <td>2336</td>\n      <td>2339</td>\n      <td>2343</td>\n      <td>2346</td>\n    </tr>\n    <tr>\n      <th>1</th>\n      <td>NaN</td>\n      <td>Albania</td>\n      <td>41.153300</td>\n      <td>20.168300</td>\n      <td>0</td>\n      <td>0</td>\n      <td>0</td>\n      <td>0</td>\n      <td>0</td>\n      <td>0</td>\n      <td>...</td>\n      <td>1241</td>\n      <td>1247</td>\n      <td>1252</td>\n      <td>1256</td>\n      <td>1261</td>\n      <td>1265</td>\n      <td>1270</td>\n      <td>1277</td>\n      <td>1281</td>\n      <td>1287</td>\n    </tr>\n    <tr>\n      <th>2</th>\n      <td>NaN</td>\n      <td>Algeria</td>\n      <td>28.033900</td>\n      <td>1.659600</td>\n      <td>0</td>\n      <td>0</td>\n      <td>0</td>\n      <td>0</td>\n      <td>0</td>\n      <td>0</td>\n      <td>...</td>\n      <td>2807</td>\n      <td>2812</td>\n      <td>2816</td>\n      <td>2819</td>\n      <td>2822</td>\n      <td>2827</td>\n      <td>2831</td>\n      <td>2836</td>\n      <td>2840</td>\n      <td>2843</td>\n    </tr>\n    <tr>\n      <th>3</th>\n      <td>NaN</td>\n      <td>Andorra</td>\n      <td>42.506300</td>\n      <td>1.521800</td>\n      <td>0</td>\n      <td>0</td>\n      <td>0</td>\n      <td>0</td>\n      <td>0</td>\n      <td>0</td>\n      <td>...</td>\n      <td>85</td>\n      <td>85</td>\n      <td>86</td>\n      <td>87</td>\n      <td>88</td>\n      <td>88</td>\n      <td>91</td>\n      <td>91</td>\n      <td>91</td>\n      <td>92</td>\n    </tr>\n    <tr>\n      <th>4</th>\n      <td>NaN</td>\n      <td>Angola</td>\n      <td>-11.202700</td>\n      <td>17.873900</td>\n      <td>0</td>\n      <td>0</td>\n      <td>0</td>\n      <td>0</td>\n      <td>0</td>\n      <td>0</td>\n      <td>...</td>\n      <td>416</td>\n      <td>420</td>\n      <td>422</td>\n      <td>424</td>\n      <td>425</td>\n      <td>428</td>\n      <td>431</td>\n      <td>436</td>\n      <td>439</td>\n      <td>442</td>\n    </tr>\n    <tr>\n      <th>...</th>\n      <td>...</td>\n      <td>...</td>\n      <td>...</td>\n      <td>...</td>\n      <td>...</td>\n      <td>...</td>\n      <td>...</td>\n      <td>...</td>\n      <td>...</td>\n      <td>...</td>\n      <td>...</td>\n      <td>...</td>\n      <td>...</td>\n      <td>...</td>\n      <td>...</td>\n      <td>...</td>\n      <td>...</td>\n      <td>...</td>\n      <td>...</td>\n      <td>...</td>\n      <td>...</td>\n    </tr>\n    <tr>\n      <th>267</th>\n      <td>NaN</td>\n      <td>Vietnam</td>\n      <td>14.058324</td>\n      <td>108.277199</td>\n      <td>0</td>\n      <td>0</td>\n      <td>0</td>\n      <td>0</td>\n      <td>0</td>\n      <td>0</td>\n      <td>...</td>\n      <td>35</td>\n      <td>35</td>\n      <td>35</td>\n      <td>35</td>\n      <td>35</td>\n      <td>35</td>\n      <td>35</td>\n      <td>35</td>\n      <td>35</td>\n      <td>35</td>\n    </tr>\n    <tr>\n      <th>268</th>\n      <td>NaN</td>\n      <td>West Bank and Gaza</td>\n      <td>31.952200</td>\n      <td>35.233200</td>\n      <td>0</td>\n      <td>0</td>\n      <td>0</td>\n      <td>0</td>\n      <td>0</td>\n      <td>0</td>\n      <td>...</td>\n      <td>1604</td>\n      <td>1614</td>\n      <td>1630</td>\n      <td>1658</td>\n      <td>1665</td>\n      <td>1687</td>\n      <td>1700</td>\n      <td>1718</td>\n      <td>1726</td>\n      <td>1741</td>\n    </tr>\n    <tr>\n      <th>269</th>\n      <td>NaN</td>\n      <td>Yemen</td>\n      <td>15.552727</td>\n      <td>48.516388</td>\n      <td>0</td>\n      <td>0</td>\n      <td>0</td>\n      <td>0</td>\n      <td>0</td>\n      <td>0</td>\n      <td>...</td>\n      <td>611</td>\n      <td>612</td>\n      <td>612</td>\n      <td>612</td>\n      <td>612</td>\n      <td>612</td>\n      <td>612</td>\n      <td>612</td>\n      <td>612</td>\n      <td>612</td>\n    </tr>\n    <tr>\n      <th>270</th>\n      <td>NaN</td>\n      <td>Zambia</td>\n      <td>-13.133897</td>\n      <td>27.849332</td>\n      <td>0</td>\n      <td>0</td>\n      <td>0</td>\n      <td>0</td>\n      <td>0</td>\n      <td>0</td>\n      <td>...</td>\n      <td>469</td>\n      <td>471</td>\n      <td>495</td>\n      <td>509</td>\n      <td>514</td>\n      <td>527</td>\n      <td>537</td>\n      <td>546</td>\n      <td>559</td>\n      <td>578</td>\n    </tr>\n    <tr>\n      <th>271</th>\n      <td>NaN</td>\n      <td>Zimbabwe</td>\n      <td>-19.015438</td>\n      <td>29.154857</td>\n      <td>0</td>\n      <td>0</td>\n      <td>0</td>\n      <td>0</td>\n      <td>0</td>\n      <td>0</td>\n      <td>...</td>\n      <td>507</td>\n      <td>528</td>\n      <td>551</td>\n      <td>589</td>\n      <td>636</td>\n      <td>666</td>\n      <td>683</td>\n      <td>713</td>\n      <td>773</td>\n      <td>825</td>\n    </tr>\n  </tbody>\n</table>\n<p>268 rows × 368 columns</p>\n</div>"
     },
     "metadata": {},
     "execution_count": 6
    }
   ],
   "source": [
    "df_time_deaths = pd.read_csv(\"covid_dataset\\\\time_series_covid_19_deaths.csv\")\n",
    "\n",
    "df_time_deaths_NaN = df_time_deaths[df_time_deaths.isna().any(axis=1)]\n",
    "df_time_deaths_NaN\n",
    "\n",
    "df_filtered = df_time_deaths[(df_time_deaths['Long'] != 0.0) & (df_time_deaths['Lat'] != 0.0)]\n",
    "df_filtered\n",
    "\n",
    "df_time_deaths = df_filtered\n",
    "df_time_deaths"
   ]
  },
  {
   "source": [
    "## Confirmed Deaths Time Series US Importing and Modifications"
   ],
   "cell_type": "markdown",
   "metadata": {}
  },
  {
   "cell_type": "code",
   "execution_count": 7,
   "metadata": {},
   "outputs": [
    {
     "output_type": "execute_result",
     "data": {
      "text/plain": [
       "            City    State Country/Region        Lat        Long  \\\n",
       "0        Autauga  Alabama             US  32.539527  -86.644082   \n",
       "1        Baldwin  Alabama             US  30.727750  -87.722071   \n",
       "2        Barbour  Alabama             US  31.868263  -85.387129   \n",
       "3           Bibb  Alabama             US  32.996421  -87.125115   \n",
       "4         Blount  Alabama             US  33.982109  -86.567906   \n",
       "...          ...      ...            ...        ...         ...   \n",
       "3334  Sweetwater  Wyoming             US  41.659439 -108.882788   \n",
       "3335       Teton  Wyoming             US  43.935225 -110.589080   \n",
       "3336       Uinta  Wyoming             US  41.287818 -110.547578   \n",
       "3338    Washakie  Wyoming             US  43.904516 -107.680187   \n",
       "3339      Weston  Wyoming             US  43.839612 -104.567488   \n",
       "\n",
       "                 Combined_Key  1/22/20  1/23/20  1/24/20  1/25/20  ...  \\\n",
       "0        Autauga, Alabama, US        0        0        0        0  ...   \n",
       "1        Baldwin, Alabama, US        0        0        0        0  ...   \n",
       "2        Barbour, Alabama, US        0        0        0        0  ...   \n",
       "3           Bibb, Alabama, US        0        0        0        0  ...   \n",
       "4         Blount, Alabama, US        0        0        0        0  ...   \n",
       "...                       ...      ...      ...      ...      ...  ...   \n",
       "3334  Sweetwater, Wyoming, US        0        0        0        0  ...   \n",
       "3335       Teton, Wyoming, US        0        0        0        0  ...   \n",
       "3336       Uinta, Wyoming, US        0        0        0        0  ...   \n",
       "3338    Washakie, Wyoming, US        0        0        0        0  ...   \n",
       "3339      Weston, Wyoming, US        0        0        0        0  ...   \n",
       "\n",
       "      1/10/21  1/11/21  1/12/21  1/13/21  1/14/21  1/15/21  1/16/21  1/17/21  \\\n",
       "0        4879     4902     4970     4998     5075     5103     5154     5184   \n",
       "1       15327    15417    15572    15701    15841    16002    16176    16251   \n",
       "2        1658     1663     1679     1685     1696     1712     1723     1729   \n",
       "3        2051     2060     2090     2109     2113     2130     2144     2151   \n",
       "4        5066     5080     5134     5170     5219     5264     5292     5304   \n",
       "...       ...      ...      ...      ...      ...      ...      ...      ...   \n",
       "3334     3162     3187     3210     3222     3250     3262     3280     3290   \n",
       "3335     2353     2447     2497     2502     2579     2605     2614     2685   \n",
       "3336     1708     1744     1764     1774     1794     1806     1813     1817   \n",
       "3338      805      817      825      830      837      840      842      843   \n",
       "3339      485      485      601      601      602      602      602      602   \n",
       "\n",
       "      1/18/21  1/19/21  \n",
       "0        5198     5227  \n",
       "1       16346    16513  \n",
       "2        1730     1738  \n",
       "3        2162     2170  \n",
       "4        5308     5320  \n",
       "...       ...      ...  \n",
       "3334     3312     3329  \n",
       "3335     2753     2769  \n",
       "3336     1833     1843  \n",
       "3338      844      846  \n",
       "3339      602      606  \n",
       "\n",
       "[3232 rows x 370 columns]"
      ],
      "text/html": "<div>\n<style scoped>\n    .dataframe tbody tr th:only-of-type {\n        vertical-align: middle;\n    }\n\n    .dataframe tbody tr th {\n        vertical-align: top;\n    }\n\n    .dataframe thead th {\n        text-align: right;\n    }\n</style>\n<table border=\"1\" class=\"dataframe\">\n  <thead>\n    <tr style=\"text-align: right;\">\n      <th></th>\n      <th>City</th>\n      <th>State</th>\n      <th>Country/Region</th>\n      <th>Lat</th>\n      <th>Long</th>\n      <th>Combined_Key</th>\n      <th>1/22/20</th>\n      <th>1/23/20</th>\n      <th>1/24/20</th>\n      <th>1/25/20</th>\n      <th>...</th>\n      <th>1/10/21</th>\n      <th>1/11/21</th>\n      <th>1/12/21</th>\n      <th>1/13/21</th>\n      <th>1/14/21</th>\n      <th>1/15/21</th>\n      <th>1/16/21</th>\n      <th>1/17/21</th>\n      <th>1/18/21</th>\n      <th>1/19/21</th>\n    </tr>\n  </thead>\n  <tbody>\n    <tr>\n      <th>0</th>\n      <td>Autauga</td>\n      <td>Alabama</td>\n      <td>US</td>\n      <td>32.539527</td>\n      <td>-86.644082</td>\n      <td>Autauga, Alabama, US</td>\n      <td>0</td>\n      <td>0</td>\n      <td>0</td>\n      <td>0</td>\n      <td>...</td>\n      <td>4879</td>\n      <td>4902</td>\n      <td>4970</td>\n      <td>4998</td>\n      <td>5075</td>\n      <td>5103</td>\n      <td>5154</td>\n      <td>5184</td>\n      <td>5198</td>\n      <td>5227</td>\n    </tr>\n    <tr>\n      <th>1</th>\n      <td>Baldwin</td>\n      <td>Alabama</td>\n      <td>US</td>\n      <td>30.727750</td>\n      <td>-87.722071</td>\n      <td>Baldwin, Alabama, US</td>\n      <td>0</td>\n      <td>0</td>\n      <td>0</td>\n      <td>0</td>\n      <td>...</td>\n      <td>15327</td>\n      <td>15417</td>\n      <td>15572</td>\n      <td>15701</td>\n      <td>15841</td>\n      <td>16002</td>\n      <td>16176</td>\n      <td>16251</td>\n      <td>16346</td>\n      <td>16513</td>\n    </tr>\n    <tr>\n      <th>2</th>\n      <td>Barbour</td>\n      <td>Alabama</td>\n      <td>US</td>\n      <td>31.868263</td>\n      <td>-85.387129</td>\n      <td>Barbour, Alabama, US</td>\n      <td>0</td>\n      <td>0</td>\n      <td>0</td>\n      <td>0</td>\n      <td>...</td>\n      <td>1658</td>\n      <td>1663</td>\n      <td>1679</td>\n      <td>1685</td>\n      <td>1696</td>\n      <td>1712</td>\n      <td>1723</td>\n      <td>1729</td>\n      <td>1730</td>\n      <td>1738</td>\n    </tr>\n    <tr>\n      <th>3</th>\n      <td>Bibb</td>\n      <td>Alabama</td>\n      <td>US</td>\n      <td>32.996421</td>\n      <td>-87.125115</td>\n      <td>Bibb, Alabama, US</td>\n      <td>0</td>\n      <td>0</td>\n      <td>0</td>\n      <td>0</td>\n      <td>...</td>\n      <td>2051</td>\n      <td>2060</td>\n      <td>2090</td>\n      <td>2109</td>\n      <td>2113</td>\n      <td>2130</td>\n      <td>2144</td>\n      <td>2151</td>\n      <td>2162</td>\n      <td>2170</td>\n    </tr>\n    <tr>\n      <th>4</th>\n      <td>Blount</td>\n      <td>Alabama</td>\n      <td>US</td>\n      <td>33.982109</td>\n      <td>-86.567906</td>\n      <td>Blount, Alabama, US</td>\n      <td>0</td>\n      <td>0</td>\n      <td>0</td>\n      <td>0</td>\n      <td>...</td>\n      <td>5066</td>\n      <td>5080</td>\n      <td>5134</td>\n      <td>5170</td>\n      <td>5219</td>\n      <td>5264</td>\n      <td>5292</td>\n      <td>5304</td>\n      <td>5308</td>\n      <td>5320</td>\n    </tr>\n    <tr>\n      <th>...</th>\n      <td>...</td>\n      <td>...</td>\n      <td>...</td>\n      <td>...</td>\n      <td>...</td>\n      <td>...</td>\n      <td>...</td>\n      <td>...</td>\n      <td>...</td>\n      <td>...</td>\n      <td>...</td>\n      <td>...</td>\n      <td>...</td>\n      <td>...</td>\n      <td>...</td>\n      <td>...</td>\n      <td>...</td>\n      <td>...</td>\n      <td>...</td>\n      <td>...</td>\n      <td>...</td>\n    </tr>\n    <tr>\n      <th>3334</th>\n      <td>Sweetwater</td>\n      <td>Wyoming</td>\n      <td>US</td>\n      <td>41.659439</td>\n      <td>-108.882788</td>\n      <td>Sweetwater, Wyoming, US</td>\n      <td>0</td>\n      <td>0</td>\n      <td>0</td>\n      <td>0</td>\n      <td>...</td>\n      <td>3162</td>\n      <td>3187</td>\n      <td>3210</td>\n      <td>3222</td>\n      <td>3250</td>\n      <td>3262</td>\n      <td>3280</td>\n      <td>3290</td>\n      <td>3312</td>\n      <td>3329</td>\n    </tr>\n    <tr>\n      <th>3335</th>\n      <td>Teton</td>\n      <td>Wyoming</td>\n      <td>US</td>\n      <td>43.935225</td>\n      <td>-110.589080</td>\n      <td>Teton, Wyoming, US</td>\n      <td>0</td>\n      <td>0</td>\n      <td>0</td>\n      <td>0</td>\n      <td>...</td>\n      <td>2353</td>\n      <td>2447</td>\n      <td>2497</td>\n      <td>2502</td>\n      <td>2579</td>\n      <td>2605</td>\n      <td>2614</td>\n      <td>2685</td>\n      <td>2753</td>\n      <td>2769</td>\n    </tr>\n    <tr>\n      <th>3336</th>\n      <td>Uinta</td>\n      <td>Wyoming</td>\n      <td>US</td>\n      <td>41.287818</td>\n      <td>-110.547578</td>\n      <td>Uinta, Wyoming, US</td>\n      <td>0</td>\n      <td>0</td>\n      <td>0</td>\n      <td>0</td>\n      <td>...</td>\n      <td>1708</td>\n      <td>1744</td>\n      <td>1764</td>\n      <td>1774</td>\n      <td>1794</td>\n      <td>1806</td>\n      <td>1813</td>\n      <td>1817</td>\n      <td>1833</td>\n      <td>1843</td>\n    </tr>\n    <tr>\n      <th>3338</th>\n      <td>Washakie</td>\n      <td>Wyoming</td>\n      <td>US</td>\n      <td>43.904516</td>\n      <td>-107.680187</td>\n      <td>Washakie, Wyoming, US</td>\n      <td>0</td>\n      <td>0</td>\n      <td>0</td>\n      <td>0</td>\n      <td>...</td>\n      <td>805</td>\n      <td>817</td>\n      <td>825</td>\n      <td>830</td>\n      <td>837</td>\n      <td>840</td>\n      <td>842</td>\n      <td>843</td>\n      <td>844</td>\n      <td>846</td>\n    </tr>\n    <tr>\n      <th>3339</th>\n      <td>Weston</td>\n      <td>Wyoming</td>\n      <td>US</td>\n      <td>43.839612</td>\n      <td>-104.567488</td>\n      <td>Weston, Wyoming, US</td>\n      <td>0</td>\n      <td>0</td>\n      <td>0</td>\n      <td>0</td>\n      <td>...</td>\n      <td>485</td>\n      <td>485</td>\n      <td>601</td>\n      <td>601</td>\n      <td>602</td>\n      <td>602</td>\n      <td>602</td>\n      <td>602</td>\n      <td>602</td>\n      <td>606</td>\n    </tr>\n  </tbody>\n</table>\n<p>3232 rows × 370 columns</p>\n</div>"
     },
     "metadata": {},
     "execution_count": 7
    }
   ],
   "source": [
    "df_time_deaths_US = pd.read_csv(\"covid_dataset\\\\time_series_covid_19_deaths_US.csv\")\n",
    "df_time_deaths_US.head()\n",
    "\n",
    "# Covid deaths in the USA per day\n",
    "# Shows population, could provide good insights but which?\n",
    "\n",
    "df_time_deaths_US_NaN = df_time_deaths_US[df_time_deaths_US.isna().any(axis=1)]\n",
    "df_time_deaths_US_NaN\n",
    "\n",
    "df_time_deaths_US.drop('UID', axis=1, inplace=True) \n",
    "# inplace is used to not have to redefine df_time_confirmed_US\n",
    "df_time_deaths_US.drop('iso2', axis=1, inplace=True) \n",
    "# axis = 1 is for columns, axis = 0 is for rows\n",
    "df_time_deaths_US.drop('iso3', axis=1, inplace=True) \n",
    "df_time_deaths_US.drop('code3', axis=1, inplace=True) \n",
    "df_time_deaths_US.drop('FIPS', axis=1, inplace=True)\n",
    "\n",
    "df_time_deaths_US['Province_State'] = df_time_deaths_US['Province_State'].fillna('N/A')\n",
    "df_time_deaths_US['Admin2'] = df_time_deaths_US['Admin2'].fillna('N/A')\n",
    "df_time_deaths_US_NaN = df_time_deaths_US[df_time_deaths_US.isna().any(axis=1)]\n",
    "\n",
    "df_time_deaths_US.rename(columns={'Long_': 'Long', \n",
    "                                     'State_Country': 'Combined_Key', \n",
    "                                     'Province_State' : 'State', \n",
    "                                     'Country_Region' : 'Country/Region', \n",
    "                                     'Admin2' : 'City'}, \n",
    "                                     inplace = True)\n",
    "\n",
    "df_filtered = df_time_deaths_US[(df_time_deaths_US['Long'] != 0.0) & (df_time_deaths_US['Lat'] != 0.0)]\n",
    "\n",
    "df_time_deaths_US = df_filtered #Done\n",
    "\n",
    "df_time_confirmed_US"
   ]
  },
  {
   "source": [
    "## US Recovered Time Series Improting and Modifications"
   ],
   "cell_type": "markdown",
   "metadata": {}
  },
  {
   "cell_type": "code",
   "execution_count": 8,
   "metadata": {},
   "outputs": [],
   "source": [
    "df_time_recovered = pd.read_csv(\"covid_dataset\\\\time_series_covid_19_recovered.csv\")\n",
    "\n",
    "df_time_recovered_NaN = df_time_recovered[df_time_recovered.isna().any(axis=1)]\n",
    "\n",
    "df_filtered = df_time_recovered[(df_time_recovered['Long'] != 0.0) & (df_time_recovered['Lat'] != 0.0)]\n",
    "\n",
    "df_time_recovered = df_filtered"
   ]
  },
  {
   "source": [
    "# Functions for Graphing!"
   ],
   "cell_type": "markdown",
   "metadata": {}
  },
  {
   "cell_type": "code",
   "execution_count": 9,
   "metadata": {},
   "outputs": [],
   "source": [
    "import plotly.express as px\r\n",
    "import datetime as datetime"
   ]
  },
  {
   "cell_type": "code",
   "execution_count": 10,
   "metadata": {},
   "outputs": [
    {
     "output_type": "display_data",
     "data": {
      "application/vnd.plotly.v1+json": {
       "config": {
        "plotlyServerURL": "https://plot.ly"
       },
       "data": [
        {
         "hovertemplate": "x=%{x}<br>y=%{y}<extra></extra>",
         "legendgroup": "",
         "line": {
          "color": "#636efa",
          "dash": "solid"
         },
         "mode": "lines",
         "name": "",
         "orientation": "v",
         "showlegend": false,
         "type": "scatter",
         "x": [
          "2020-01-22T00:00:00",
          "2020-01-23T00:00:00",
          "2020-01-24T00:00:00",
          "2020-01-25T00:00:00",
          "2020-01-26T00:00:00",
          "2020-01-27T00:00:00",
          "2020-01-28T00:00:00",
          "2020-01-29T00:00:00",
          "2020-01-30T00:00:00",
          "2020-01-31T00:00:00",
          "2020-02-01T00:00:00",
          "2020-02-02T00:00:00",
          "2020-02-03T00:00:00",
          "2020-02-04T00:00:00",
          "2020-02-05T00:00:00",
          "2020-02-06T00:00:00",
          "2020-02-07T00:00:00",
          "2020-02-08T00:00:00",
          "2020-02-09T00:00:00",
          "2020-02-10T00:00:00",
          "2020-02-11T00:00:00",
          "2020-02-12T00:00:00",
          "2020-02-13T00:00:00",
          "2020-02-14T00:00:00",
          "2020-02-15T00:00:00",
          "2020-02-16T00:00:00",
          "2020-02-17T00:00:00",
          "2020-02-18T00:00:00",
          "2020-02-19T00:00:00",
          "2020-02-20T00:00:00",
          "2020-02-21T00:00:00",
          "2020-02-22T00:00:00",
          "2020-02-23T00:00:00",
          "2020-02-24T00:00:00",
          "2020-02-25T00:00:00",
          "2020-02-26T00:00:00",
          "2020-02-27T00:00:00",
          "2020-02-28T00:00:00",
          "2020-02-29T00:00:00",
          "2020-03-01T00:00:00",
          "2020-03-02T00:00:00",
          "2020-03-03T00:00:00",
          "2020-03-04T00:00:00",
          "2020-03-05T00:00:00",
          "2020-03-06T00:00:00",
          "2020-03-07T00:00:00",
          "2020-03-08T00:00:00",
          "2020-03-09T00:00:00",
          "2020-03-10T00:00:00",
          "2020-03-11T00:00:00",
          "2020-03-12T00:00:00",
          "2020-03-13T00:00:00",
          "2020-03-14T00:00:00",
          "2020-03-15T00:00:00",
          "2020-03-16T00:00:00",
          "2020-03-17T00:00:00",
          "2020-03-18T00:00:00",
          "2020-03-19T00:00:00",
          "2020-03-20T00:00:00",
          "2020-03-21T00:00:00",
          "2020-03-22T00:00:00",
          "2020-03-23T00:00:00",
          "2020-03-24T00:00:00",
          "2020-03-25T00:00:00",
          "2020-03-26T00:00:00",
          "2020-03-27T00:00:00",
          "2020-03-28T00:00:00",
          "2020-03-29T00:00:00",
          "2020-03-30T00:00:00",
          "2020-03-31T00:00:00",
          "2020-04-01T00:00:00",
          "2020-04-02T00:00:00",
          "2020-04-03T00:00:00",
          "2020-04-04T00:00:00",
          "2020-04-05T00:00:00",
          "2020-04-06T00:00:00",
          "2020-04-07T00:00:00",
          "2020-04-08T00:00:00",
          "2020-04-09T00:00:00",
          "2020-04-10T00:00:00",
          "2020-04-11T00:00:00",
          "2020-04-12T00:00:00",
          "2020-04-13T00:00:00",
          "2020-04-14T00:00:00",
          "2020-04-15T00:00:00",
          "2020-04-16T00:00:00",
          "2020-04-17T00:00:00",
          "2020-04-18T00:00:00",
          "2020-04-19T00:00:00",
          "2020-04-20T00:00:00",
          "2020-04-21T00:00:00",
          "2020-04-22T00:00:00",
          "2020-04-23T00:00:00",
          "2020-04-24T00:00:00",
          "2020-04-25T00:00:00",
          "2020-04-26T00:00:00",
          "2020-04-27T00:00:00",
          "2020-04-28T00:00:00",
          "2020-04-29T00:00:00",
          "2020-04-30T00:00:00",
          "2020-05-01T00:00:00",
          "2020-05-02T00:00:00",
          "2020-05-03T00:00:00",
          "2020-05-04T00:00:00",
          "2020-05-05T00:00:00",
          "2020-05-06T00:00:00",
          "2020-05-07T00:00:00",
          "2020-05-08T00:00:00",
          "2020-05-09T00:00:00",
          "2020-05-10T00:00:00",
          "2020-05-11T00:00:00",
          "2020-05-12T00:00:00",
          "2020-05-13T00:00:00",
          "2020-05-14T00:00:00",
          "2020-05-15T00:00:00",
          "2020-05-16T00:00:00",
          "2020-05-17T00:00:00",
          "2020-05-18T00:00:00",
          "2020-05-19T00:00:00",
          "2020-05-20T00:00:00",
          "2020-05-21T00:00:00",
          "2020-05-22T00:00:00",
          "2020-05-23T00:00:00",
          "2020-05-24T00:00:00",
          "2020-05-25T00:00:00",
          "2020-05-26T00:00:00",
          "2020-05-27T00:00:00",
          "2020-05-28T00:00:00",
          "2020-05-29T00:00:00",
          "2020-05-30T00:00:00",
          "2020-05-31T00:00:00",
          "2020-06-01T00:00:00",
          "2020-06-02T00:00:00",
          "2020-06-03T00:00:00",
          "2020-06-04T00:00:00",
          "2020-06-05T00:00:00",
          "2020-06-06T00:00:00",
          "2020-06-07T00:00:00",
          "2020-06-08T00:00:00",
          "2020-06-09T00:00:00",
          "2020-06-10T00:00:00",
          "2020-06-11T00:00:00",
          "2020-06-12T00:00:00",
          "2020-06-13T00:00:00",
          "2020-06-14T00:00:00",
          "2020-06-15T00:00:00",
          "2020-06-16T00:00:00",
          "2020-06-17T00:00:00",
          "2020-06-18T00:00:00",
          "2020-06-19T00:00:00",
          "2020-06-20T00:00:00",
          "2020-06-21T00:00:00",
          "2020-06-22T00:00:00",
          "2020-06-23T00:00:00",
          "2020-06-24T00:00:00",
          "2020-06-25T00:00:00",
          "2020-06-26T00:00:00",
          "2020-06-27T00:00:00",
          "2020-06-28T00:00:00",
          "2020-06-29T00:00:00",
          "2020-06-30T00:00:00",
          "2020-07-01T00:00:00",
          "2020-07-02T00:00:00",
          "2020-07-03T00:00:00",
          "2020-07-04T00:00:00",
          "2020-07-05T00:00:00",
          "2020-07-06T00:00:00",
          "2020-07-07T00:00:00",
          "2020-07-08T00:00:00",
          "2020-07-09T00:00:00",
          "2020-07-10T00:00:00",
          "2020-07-11T00:00:00",
          "2020-07-12T00:00:00",
          "2020-07-13T00:00:00",
          "2020-07-14T00:00:00",
          "2020-07-15T00:00:00",
          "2020-07-16T00:00:00",
          "2020-07-17T00:00:00",
          "2020-07-18T00:00:00",
          "2020-07-19T00:00:00",
          "2020-07-20T00:00:00",
          "2020-07-21T00:00:00",
          "2020-07-22T00:00:00",
          "2020-07-23T00:00:00",
          "2020-07-24T00:00:00",
          "2020-07-25T00:00:00",
          "2020-07-26T00:00:00",
          "2020-07-27T00:00:00",
          "2020-07-28T00:00:00",
          "2020-07-29T00:00:00",
          "2020-07-30T00:00:00",
          "2020-07-31T00:00:00",
          "2020-08-01T00:00:00",
          "2020-08-02T00:00:00",
          "2020-08-03T00:00:00",
          "2020-08-04T00:00:00",
          "2020-08-05T00:00:00",
          "2020-08-06T00:00:00",
          "2020-08-07T00:00:00",
          "2020-08-08T00:00:00",
          "2020-08-09T00:00:00",
          "2020-08-10T00:00:00",
          "2020-08-11T00:00:00",
          "2020-08-12T00:00:00",
          "2020-08-13T00:00:00",
          "2020-08-14T00:00:00",
          "2020-08-15T00:00:00",
          "2020-08-16T00:00:00",
          "2020-08-17T00:00:00",
          "2020-08-18T00:00:00",
          "2020-08-19T00:00:00",
          "2020-08-20T00:00:00",
          "2020-08-21T00:00:00",
          "2020-08-22T00:00:00",
          "2020-08-23T00:00:00",
          "2020-08-24T00:00:00",
          "2020-08-25T00:00:00",
          "2020-08-26T00:00:00",
          "2020-08-27T00:00:00",
          "2020-08-28T00:00:00",
          "2020-08-29T00:00:00",
          "2020-08-30T00:00:00",
          "2020-08-31T00:00:00",
          "2020-09-01T00:00:00",
          "2020-09-02T00:00:00",
          "2020-09-03T00:00:00",
          "2020-09-04T00:00:00",
          "2020-09-05T00:00:00",
          "2020-09-06T00:00:00",
          "2020-09-07T00:00:00",
          "2020-09-08T00:00:00",
          "2020-09-09T00:00:00",
          "2020-09-10T00:00:00",
          "2020-09-11T00:00:00",
          "2020-09-12T00:00:00",
          "2020-09-13T00:00:00",
          "2020-09-14T00:00:00",
          "2020-09-15T00:00:00",
          "2020-09-16T00:00:00",
          "2020-09-17T00:00:00",
          "2020-09-18T00:00:00",
          "2020-09-19T00:00:00",
          "2020-09-20T00:00:00",
          "2020-09-21T00:00:00",
          "2020-09-22T00:00:00",
          "2020-09-23T00:00:00",
          "2020-09-24T00:00:00",
          "2020-09-25T00:00:00",
          "2020-09-26T00:00:00",
          "2020-09-27T00:00:00",
          "2020-09-28T00:00:00",
          "2020-09-29T00:00:00",
          "2020-09-30T00:00:00",
          "2020-10-01T00:00:00",
          "2020-10-02T00:00:00",
          "2020-10-03T00:00:00",
          "2020-10-04T00:00:00",
          "2020-10-05T00:00:00",
          "2020-10-06T00:00:00",
          "2020-10-07T00:00:00",
          "2020-10-08T00:00:00",
          "2020-10-09T00:00:00",
          "2020-10-10T00:00:00",
          "2020-10-11T00:00:00",
          "2020-10-12T00:00:00",
          "2020-10-13T00:00:00",
          "2020-10-14T00:00:00",
          "2020-10-15T00:00:00",
          "2020-10-16T00:00:00",
          "2020-10-17T00:00:00",
          "2020-10-18T00:00:00",
          "2020-10-19T00:00:00",
          "2020-10-20T00:00:00",
          "2020-10-21T00:00:00",
          "2020-10-22T00:00:00",
          "2020-10-23T00:00:00",
          "2020-10-24T00:00:00",
          "2020-10-25T00:00:00",
          "2020-10-26T00:00:00",
          "2020-10-27T00:00:00",
          "2020-10-28T00:00:00",
          "2020-10-29T00:00:00",
          "2020-10-30T00:00:00",
          "2020-10-31T00:00:00",
          "2020-11-01T00:00:00",
          "2020-11-02T00:00:00",
          "2020-11-03T00:00:00",
          "2020-11-04T00:00:00",
          "2020-11-05T00:00:00",
          "2020-11-06T00:00:00",
          "2020-11-07T00:00:00",
          "2020-11-08T00:00:00",
          "2020-11-09T00:00:00",
          "2020-11-10T00:00:00",
          "2020-11-11T00:00:00",
          "2020-11-12T00:00:00",
          "2020-11-13T00:00:00",
          "2020-11-14T00:00:00",
          "2020-11-15T00:00:00",
          "2020-11-16T00:00:00",
          "2020-11-17T00:00:00",
          "2020-11-18T00:00:00",
          "2020-11-19T00:00:00",
          "2020-11-20T00:00:00",
          "2020-11-21T00:00:00",
          "2020-11-22T00:00:00",
          "2020-11-23T00:00:00",
          "2020-11-24T00:00:00",
          "2020-11-25T00:00:00",
          "2020-11-26T00:00:00",
          "2020-11-27T00:00:00",
          "2020-11-28T00:00:00",
          "2020-11-29T00:00:00",
          "2020-11-30T00:00:00",
          "2020-12-01T00:00:00",
          "2020-12-02T00:00:00",
          "2020-12-03T00:00:00",
          "2020-12-04T00:00:00",
          "2020-12-05T00:00:00",
          "2020-12-06T00:00:00",
          "2020-12-07T00:00:00",
          "2020-12-08T00:00:00",
          "2020-12-09T00:00:00",
          "2020-12-10T00:00:00",
          "2020-12-11T00:00:00",
          "2020-12-12T00:00:00",
          "2020-12-13T00:00:00",
          "2020-12-14T00:00:00",
          "2020-12-15T00:00:00",
          "2020-12-16T00:00:00",
          "2020-12-17T00:00:00",
          "2020-12-18T00:00:00",
          "2020-12-19T00:00:00",
          "2020-12-20T00:00:00",
          "2020-12-21T00:00:00",
          "2020-12-22T00:00:00",
          "2020-12-23T00:00:00",
          "2020-12-24T00:00:00",
          "2020-12-25T00:00:00",
          "2020-12-26T00:00:00",
          "2020-12-27T00:00:00",
          "2020-12-28T00:00:00",
          "2020-12-29T00:00:00",
          "2020-12-30T00:00:00",
          "2020-12-31T00:00:00",
          "2021-01-01T00:00:00",
          "2021-01-02T00:00:00",
          "2021-01-03T00:00:00",
          "2021-01-04T00:00:00",
          "2021-01-05T00:00:00",
          "2021-01-06T00:00:00",
          "2021-01-07T00:00:00",
          "2021-01-08T00:00:00",
          "2021-01-09T00:00:00",
          "2021-01-10T00:00:00",
          "2021-01-11T00:00:00",
          "2021-01-12T00:00:00",
          "2021-01-13T00:00:00",
          "2021-01-14T00:00:00",
          "2021-01-15T00:00:00",
          "2021-01-16T00:00:00",
          "2021-01-17T00:00:00",
          "2021-01-18T00:00:00",
          "2021-01-19T00:00:00"
         ],
         "xaxis": "x",
         "y": [
          0,
          0,
          0,
          0,
          0,
          0,
          0,
          0,
          0,
          0,
          0,
          0,
          0,
          0,
          0,
          0,
          0,
          0,
          0,
          0,
          0,
          0,
          0,
          0,
          0,
          0,
          0,
          0,
          0,
          0,
          0,
          0,
          0,
          0,
          0,
          0,
          0,
          0,
          0,
          0,
          0,
          0,
          0,
          0,
          1,
          2,
          2,
          3,
          7,
          7,
          9,
          10,
          29,
          43,
          66,
          83,
          117,
          163,
          195,
          253,
          289,
          365,
          513,
          704,
          886,
          1174,
          1466,
          1679,
          2053,
          2457,
          3130,
          3787,
          4524,
          5281,
          5882,
          6452,
          7557,
          8589,
          9706,
          10829,
          11673,
          12330,
          13055,
          14135,
          15019,
          16059,
          16973,
          18081,
          18514,
          19090,
          20314,
          21171,
          21855,
          22873,
          23689,
          24053,
          24376,
          25347,
          26118,
          26754,
          27454,
          28039,
          28292,
          28565,
          29290,
          29937,
          30395,
          30975,
          31250,
          31467,
          31655,
          32270,
          32718,
          33071,
          33422,
          33833,
          33900,
          34046,
          34547,
          34876,
          35149,
          35440,
          35660,
          36039,
          36143,
          36274,
          36696,
          37039,
          37313,
          37467,
          37527,
          37613,
          37863,
          38117,
          38247,
          38505,
          38648,
          38702,
          38749,
          38946,
          39110,
          39186,
          39317,
          39424,
          39451,
          39480,
          39600,
          39710,
          39777,
          39861,
          39932,
          39963,
          39976,
          40070,
          40157,
          40256,
          40333,
          40373,
          40404,
          40425,
          40479,
          40576,
          40617,
          40666,
          40698,
          40717,
          40728,
          40782,
          40839,
          40870,
          40904,
          40921,
          40930,
          40940,
          40984,
          41010,
          41034,
          41060,
          41069,
          41080,
          41090,
          41115,
          41132,
          41141,
          41173,
          41188,
          41196,
          41199,
          41220,
          41254,
          41254,
          41274,
          41287,
          41292,
          41293,
          41311,
          41325,
          41343,
          41355,
          41358,
          41363,
          41381,
          41394,
          41414,
          41432,
          41443,
          41446,
          41451,
          41454,
          41466,
          41483,
          41489,
          41491,
          41509,
          41515,
          41519,
          41535,
          41552,
          41564,
          41573,
          41585,
          41586,
          41589,
          41592,
          41602,
          41616,
          41626,
          41638,
          41640,
          41643,
          41675,
          41683,
          41697,
          41703,
          41712,
          41717,
          41726,
          41753,
          41773,
          41794,
          41821,
          41848,
          41866,
          41877,
          41914,
          41951,
          41991,
          42025,
          42060,
          42077,
          42090,
          42162,
          42233,
          42292,
          42358,
          42407,
          42440,
          42459,
          42535,
          42605,
          42682,
          42769,
          42850,
          42915,
          42965,
          43108,
          43245,
          43383,
          43519,
          43669,
          43736,
          43816,
          44057,
          44248,
          44437,
          44661,
          44835,
          44986,
          45088,
          45455,
          45765,
          46045,
          46319,
          46645,
          46807,
          46943,
          47340,
          47832,
          48210,
          48565,
          48978,
          49134,
          49329,
          49861,
          50457,
          51020,
          51396,
          51858,
          52026,
          52240,
          52839,
          53368,
          53870,
          54381,
          54721,
          55120,
          55327,
          55935,
          56630,
          57128,
          57648,
          58127,
          58342,
          58545,
          59148,
          59796,
          60210,
          60714,
          61111,
          61342,
          61531,
          62130,
          62663,
          63179,
          63603,
          64123,
          64267,
          64500,
          65006,
          65618,
          66150,
          66640,
          67177,
          67503,
          67718,
          68409,
          69157,
          69732,
          70302,
          70513,
          70860,
          71217,
          71675,
          72657,
          73622,
          74237,
          74682,
          75137,
          75547,
          76428,
          77470,
          78632,
          79965,
          81000,
          81567,
          82096,
          83342,
          84910,
          86163,
          87448,
          88747,
          89429,
          90031,
          91643
         ],
         "yaxis": "y"
        }
       ],
       "layout": {
        "legend": {
         "tracegroupgap": 0
        },
        "margin": {
         "t": 60
        },
        "template": {
         "data": {
          "bar": [
           {
            "error_x": {
             "color": "#2a3f5f"
            },
            "error_y": {
             "color": "#2a3f5f"
            },
            "marker": {
             "line": {
              "color": "#E5ECF6",
              "width": 0.5
             }
            },
            "type": "bar"
           }
          ],
          "barpolar": [
           {
            "marker": {
             "line": {
              "color": "#E5ECF6",
              "width": 0.5
             }
            },
            "type": "barpolar"
           }
          ],
          "carpet": [
           {
            "aaxis": {
             "endlinecolor": "#2a3f5f",
             "gridcolor": "white",
             "linecolor": "white",
             "minorgridcolor": "white",
             "startlinecolor": "#2a3f5f"
            },
            "baxis": {
             "endlinecolor": "#2a3f5f",
             "gridcolor": "white",
             "linecolor": "white",
             "minorgridcolor": "white",
             "startlinecolor": "#2a3f5f"
            },
            "type": "carpet"
           }
          ],
          "choropleth": [
           {
            "colorbar": {
             "outlinewidth": 0,
             "ticks": ""
            },
            "type": "choropleth"
           }
          ],
          "contour": [
           {
            "colorbar": {
             "outlinewidth": 0,
             "ticks": ""
            },
            "colorscale": [
             [
              0,
              "#0d0887"
             ],
             [
              0.1111111111111111,
              "#46039f"
             ],
             [
              0.2222222222222222,
              "#7201a8"
             ],
             [
              0.3333333333333333,
              "#9c179e"
             ],
             [
              0.4444444444444444,
              "#bd3786"
             ],
             [
              0.5555555555555556,
              "#d8576b"
             ],
             [
              0.6666666666666666,
              "#ed7953"
             ],
             [
              0.7777777777777778,
              "#fb9f3a"
             ],
             [
              0.8888888888888888,
              "#fdca26"
             ],
             [
              1,
              "#f0f921"
             ]
            ],
            "type": "contour"
           }
          ],
          "contourcarpet": [
           {
            "colorbar": {
             "outlinewidth": 0,
             "ticks": ""
            },
            "type": "contourcarpet"
           }
          ],
          "heatmap": [
           {
            "colorbar": {
             "outlinewidth": 0,
             "ticks": ""
            },
            "colorscale": [
             [
              0,
              "#0d0887"
             ],
             [
              0.1111111111111111,
              "#46039f"
             ],
             [
              0.2222222222222222,
              "#7201a8"
             ],
             [
              0.3333333333333333,
              "#9c179e"
             ],
             [
              0.4444444444444444,
              "#bd3786"
             ],
             [
              0.5555555555555556,
              "#d8576b"
             ],
             [
              0.6666666666666666,
              "#ed7953"
             ],
             [
              0.7777777777777778,
              "#fb9f3a"
             ],
             [
              0.8888888888888888,
              "#fdca26"
             ],
             [
              1,
              "#f0f921"
             ]
            ],
            "type": "heatmap"
           }
          ],
          "heatmapgl": [
           {
            "colorbar": {
             "outlinewidth": 0,
             "ticks": ""
            },
            "colorscale": [
             [
              0,
              "#0d0887"
             ],
             [
              0.1111111111111111,
              "#46039f"
             ],
             [
              0.2222222222222222,
              "#7201a8"
             ],
             [
              0.3333333333333333,
              "#9c179e"
             ],
             [
              0.4444444444444444,
              "#bd3786"
             ],
             [
              0.5555555555555556,
              "#d8576b"
             ],
             [
              0.6666666666666666,
              "#ed7953"
             ],
             [
              0.7777777777777778,
              "#fb9f3a"
             ],
             [
              0.8888888888888888,
              "#fdca26"
             ],
             [
              1,
              "#f0f921"
             ]
            ],
            "type": "heatmapgl"
           }
          ],
          "histogram": [
           {
            "marker": {
             "colorbar": {
              "outlinewidth": 0,
              "ticks": ""
             }
            },
            "type": "histogram"
           }
          ],
          "histogram2d": [
           {
            "colorbar": {
             "outlinewidth": 0,
             "ticks": ""
            },
            "colorscale": [
             [
              0,
              "#0d0887"
             ],
             [
              0.1111111111111111,
              "#46039f"
             ],
             [
              0.2222222222222222,
              "#7201a8"
             ],
             [
              0.3333333333333333,
              "#9c179e"
             ],
             [
              0.4444444444444444,
              "#bd3786"
             ],
             [
              0.5555555555555556,
              "#d8576b"
             ],
             [
              0.6666666666666666,
              "#ed7953"
             ],
             [
              0.7777777777777778,
              "#fb9f3a"
             ],
             [
              0.8888888888888888,
              "#fdca26"
             ],
             [
              1,
              "#f0f921"
             ]
            ],
            "type": "histogram2d"
           }
          ],
          "histogram2dcontour": [
           {
            "colorbar": {
             "outlinewidth": 0,
             "ticks": ""
            },
            "colorscale": [
             [
              0,
              "#0d0887"
             ],
             [
              0.1111111111111111,
              "#46039f"
             ],
             [
              0.2222222222222222,
              "#7201a8"
             ],
             [
              0.3333333333333333,
              "#9c179e"
             ],
             [
              0.4444444444444444,
              "#bd3786"
             ],
             [
              0.5555555555555556,
              "#d8576b"
             ],
             [
              0.6666666666666666,
              "#ed7953"
             ],
             [
              0.7777777777777778,
              "#fb9f3a"
             ],
             [
              0.8888888888888888,
              "#fdca26"
             ],
             [
              1,
              "#f0f921"
             ]
            ],
            "type": "histogram2dcontour"
           }
          ],
          "mesh3d": [
           {
            "colorbar": {
             "outlinewidth": 0,
             "ticks": ""
            },
            "type": "mesh3d"
           }
          ],
          "parcoords": [
           {
            "line": {
             "colorbar": {
              "outlinewidth": 0,
              "ticks": ""
             }
            },
            "type": "parcoords"
           }
          ],
          "pie": [
           {
            "automargin": true,
            "type": "pie"
           }
          ],
          "scatter": [
           {
            "marker": {
             "colorbar": {
              "outlinewidth": 0,
              "ticks": ""
             }
            },
            "type": "scatter"
           }
          ],
          "scatter3d": [
           {
            "line": {
             "colorbar": {
              "outlinewidth": 0,
              "ticks": ""
             }
            },
            "marker": {
             "colorbar": {
              "outlinewidth": 0,
              "ticks": ""
             }
            },
            "type": "scatter3d"
           }
          ],
          "scattercarpet": [
           {
            "marker": {
             "colorbar": {
              "outlinewidth": 0,
              "ticks": ""
             }
            },
            "type": "scattercarpet"
           }
          ],
          "scattergeo": [
           {
            "marker": {
             "colorbar": {
              "outlinewidth": 0,
              "ticks": ""
             }
            },
            "type": "scattergeo"
           }
          ],
          "scattergl": [
           {
            "marker": {
             "colorbar": {
              "outlinewidth": 0,
              "ticks": ""
             }
            },
            "type": "scattergl"
           }
          ],
          "scattermapbox": [
           {
            "marker": {
             "colorbar": {
              "outlinewidth": 0,
              "ticks": ""
             }
            },
            "type": "scattermapbox"
           }
          ],
          "scatterpolar": [
           {
            "marker": {
             "colorbar": {
              "outlinewidth": 0,
              "ticks": ""
             }
            },
            "type": "scatterpolar"
           }
          ],
          "scatterpolargl": [
           {
            "marker": {
             "colorbar": {
              "outlinewidth": 0,
              "ticks": ""
             }
            },
            "type": "scatterpolargl"
           }
          ],
          "scatterternary": [
           {
            "marker": {
             "colorbar": {
              "outlinewidth": 0,
              "ticks": ""
             }
            },
            "type": "scatterternary"
           }
          ],
          "surface": [
           {
            "colorbar": {
             "outlinewidth": 0,
             "ticks": ""
            },
            "colorscale": [
             [
              0,
              "#0d0887"
             ],
             [
              0.1111111111111111,
              "#46039f"
             ],
             [
              0.2222222222222222,
              "#7201a8"
             ],
             [
              0.3333333333333333,
              "#9c179e"
             ],
             [
              0.4444444444444444,
              "#bd3786"
             ],
             [
              0.5555555555555556,
              "#d8576b"
             ],
             [
              0.6666666666666666,
              "#ed7953"
             ],
             [
              0.7777777777777778,
              "#fb9f3a"
             ],
             [
              0.8888888888888888,
              "#fdca26"
             ],
             [
              1,
              "#f0f921"
             ]
            ],
            "type": "surface"
           }
          ],
          "table": [
           {
            "cells": {
             "fill": {
              "color": "#EBF0F8"
             },
             "line": {
              "color": "white"
             }
            },
            "header": {
             "fill": {
              "color": "#C8D4E3"
             },
             "line": {
              "color": "white"
             }
            },
            "type": "table"
           }
          ]
         },
         "layout": {
          "annotationdefaults": {
           "arrowcolor": "#2a3f5f",
           "arrowhead": 0,
           "arrowwidth": 1
          },
          "autotypenumbers": "strict",
          "coloraxis": {
           "colorbar": {
            "outlinewidth": 0,
            "ticks": ""
           }
          },
          "colorscale": {
           "diverging": [
            [
             0,
             "#8e0152"
            ],
            [
             0.1,
             "#c51b7d"
            ],
            [
             0.2,
             "#de77ae"
            ],
            [
             0.3,
             "#f1b6da"
            ],
            [
             0.4,
             "#fde0ef"
            ],
            [
             0.5,
             "#f7f7f7"
            ],
            [
             0.6,
             "#e6f5d0"
            ],
            [
             0.7,
             "#b8e186"
            ],
            [
             0.8,
             "#7fbc41"
            ],
            [
             0.9,
             "#4d9221"
            ],
            [
             1,
             "#276419"
            ]
           ],
           "sequential": [
            [
             0,
             "#0d0887"
            ],
            [
             0.1111111111111111,
             "#46039f"
            ],
            [
             0.2222222222222222,
             "#7201a8"
            ],
            [
             0.3333333333333333,
             "#9c179e"
            ],
            [
             0.4444444444444444,
             "#bd3786"
            ],
            [
             0.5555555555555556,
             "#d8576b"
            ],
            [
             0.6666666666666666,
             "#ed7953"
            ],
            [
             0.7777777777777778,
             "#fb9f3a"
            ],
            [
             0.8888888888888888,
             "#fdca26"
            ],
            [
             1,
             "#f0f921"
            ]
           ],
           "sequentialminus": [
            [
             0,
             "#0d0887"
            ],
            [
             0.1111111111111111,
             "#46039f"
            ],
            [
             0.2222222222222222,
             "#7201a8"
            ],
            [
             0.3333333333333333,
             "#9c179e"
            ],
            [
             0.4444444444444444,
             "#bd3786"
            ],
            [
             0.5555555555555556,
             "#d8576b"
            ],
            [
             0.6666666666666666,
             "#ed7953"
            ],
            [
             0.7777777777777778,
             "#fb9f3a"
            ],
            [
             0.8888888888888888,
             "#fdca26"
            ],
            [
             1,
             "#f0f921"
            ]
           ]
          },
          "colorway": [
           "#636efa",
           "#EF553B",
           "#00cc96",
           "#ab63fa",
           "#FFA15A",
           "#19d3f3",
           "#FF6692",
           "#B6E880",
           "#FF97FF",
           "#FECB52"
          ],
          "font": {
           "color": "#2a3f5f"
          },
          "geo": {
           "bgcolor": "white",
           "lakecolor": "white",
           "landcolor": "#E5ECF6",
           "showlakes": true,
           "showland": true,
           "subunitcolor": "white"
          },
          "hoverlabel": {
           "align": "left"
          },
          "hovermode": "closest",
          "mapbox": {
           "style": "light"
          },
          "paper_bgcolor": "white",
          "plot_bgcolor": "#E5ECF6",
          "polar": {
           "angularaxis": {
            "gridcolor": "white",
            "linecolor": "white",
            "ticks": ""
           },
           "bgcolor": "#E5ECF6",
           "radialaxis": {
            "gridcolor": "white",
            "linecolor": "white",
            "ticks": ""
           }
          },
          "scene": {
           "xaxis": {
            "backgroundcolor": "#E5ECF6",
            "gridcolor": "white",
            "gridwidth": 2,
            "linecolor": "white",
            "showbackground": true,
            "ticks": "",
            "zerolinecolor": "white"
           },
           "yaxis": {
            "backgroundcolor": "#E5ECF6",
            "gridcolor": "white",
            "gridwidth": 2,
            "linecolor": "white",
            "showbackground": true,
            "ticks": "",
            "zerolinecolor": "white"
           },
           "zaxis": {
            "backgroundcolor": "#E5ECF6",
            "gridcolor": "white",
            "gridwidth": 2,
            "linecolor": "white",
            "showbackground": true,
            "ticks": "",
            "zerolinecolor": "white"
           }
          },
          "shapedefaults": {
           "line": {
            "color": "#2a3f5f"
           }
          },
          "ternary": {
           "aaxis": {
            "gridcolor": "white",
            "linecolor": "white",
            "ticks": ""
           },
           "baxis": {
            "gridcolor": "white",
            "linecolor": "white",
            "ticks": ""
           },
           "bgcolor": "#E5ECF6",
           "caxis": {
            "gridcolor": "white",
            "linecolor": "white",
            "ticks": ""
           }
          },
          "title": {
           "x": 0.05
          },
          "xaxis": {
           "automargin": true,
           "gridcolor": "white",
           "linecolor": "white",
           "ticks": "",
           "title": {
            "standoff": 15
           },
           "zerolinecolor": "white",
           "zerolinewidth": 2
          },
          "yaxis": {
           "automargin": true,
           "gridcolor": "white",
           "linecolor": "white",
           "ticks": "",
           "title": {
            "standoff": 15
           },
           "zerolinecolor": "white",
           "zerolinewidth": 2
          }
         }
        },
        "title": {
         "text": "Total UK Deaths"
        },
        "xaxis": {
         "anchor": "y",
         "domain": [
          0,
          1
         ],
         "title": {
          "text": "Date"
         }
        },
        "yaxis": {
         "anchor": "x",
         "domain": [
          0,
          1
         ],
         "title": {
          "text": "Total Numbers"
         }
        }
       }
      }
     },
     "metadata": {}
    }
   ],
   "source": [
    "def filter(country, df, title):\n",
    "\n",
    "    # [IGNORE] I deleted the province/region column, so this is necessary because territories are included and have bee proved problematic for the function\n",
    "    df=df.groupby(by='Country/Region').sum()\n",
    "\n",
    "    if country.lower() == 'all':\n",
    "        column_list = df.columns.tolist()\n",
    "\n",
    "        column_list = column_list[3:]\n",
    "        dates = []\n",
    "\n",
    "        for i in column_list:\n",
    "            dates.append(pd.to_datetime(i))\n",
    "        dates_series = pd.Series(dates)\n",
    "\n",
    "        confirmed_series = df[5:].sum(axis=0)\n",
    "        \n",
    "        confirmed_series = confirmed_series[3:]\n",
    "\n",
    "        fig = px.line(x = dates_series, y=confirmed_series)\n",
    "        fig.update_xaxes(title=\"Date\")\n",
    "        fig.update_yaxes(title=\"Daily Numbers\")\n",
    "        fig.update_layout(title={\"text\":title})\n",
    "        fig.show()\n",
    "\n",
    "    elif country not in df.index:\n",
    "        print(\"Country data not found. Try again.\")\n",
    "    \n",
    "    else:\n",
    "        column_list = df.columns.tolist()\n",
    "\n",
    "        column_list = column_list[2:]\n",
    "        dates = []\n",
    "\n",
    "        for i in column_list:\n",
    "            dates.append(pd.to_datetime(i))\n",
    "\n",
    "        dates_series = pd.Series(dates)\n",
    "\n",
    "        confirmed_series = df.loc[country]\n",
    "        confirmed_series = confirmed_series.drop(['Lat','Long'])\n",
    "\n",
    "        fig = px.line(x = dates_series, y=confirmed_series)\n",
    "        fig.update_xaxes(title=\"Date\")\n",
    "        fig.update_yaxes(title=\"Total Numbers\")\n",
    "        fig.update_layout(title={\"text\":title})\n",
    "        fig.show()\n",
    "\n",
    "filter('United Kingdom', df_time_deaths, 'Total UK Deaths')"
   ]
  },
  {
   "cell_type": "code",
   "execution_count": 11,
   "metadata": {},
   "outputs": [
    {
     "output_type": "display_data",
     "data": {
      "application/vnd.plotly.v1+json": {
       "config": {
        "plotlyServerURL": "https://plot.ly"
       },
       "data": [
        {
         "hovertemplate": "x=%{x}<br>y=%{y}<extra></extra>",
         "legendgroup": "",
         "line": {
          "color": "#636efa",
          "dash": "solid"
         },
         "mode": "lines",
         "name": "",
         "orientation": "v",
         "showlegend": false,
         "type": "scatter",
         "x": [
          "2020-01-22T00:00:00",
          "2020-01-23T00:00:00",
          "2020-01-24T00:00:00",
          "2020-01-25T00:00:00",
          "2020-01-26T00:00:00",
          "2020-01-27T00:00:00",
          "2020-01-28T00:00:00",
          "2020-01-29T00:00:00",
          "2020-01-30T00:00:00",
          "2020-01-31T00:00:00",
          "2020-02-01T00:00:00",
          "2020-02-02T00:00:00",
          "2020-02-03T00:00:00",
          "2020-02-04T00:00:00",
          "2020-02-05T00:00:00",
          "2020-02-06T00:00:00",
          "2020-02-07T00:00:00",
          "2020-02-08T00:00:00",
          "2020-02-09T00:00:00",
          "2020-02-10T00:00:00",
          "2020-02-11T00:00:00",
          "2020-02-12T00:00:00",
          "2020-02-13T00:00:00",
          "2020-02-14T00:00:00",
          "2020-02-15T00:00:00",
          "2020-02-16T00:00:00",
          "2020-02-17T00:00:00",
          "2020-02-18T00:00:00",
          "2020-02-19T00:00:00",
          "2020-02-20T00:00:00",
          "2020-02-21T00:00:00",
          "2020-02-22T00:00:00",
          "2020-02-23T00:00:00",
          "2020-02-24T00:00:00",
          "2020-02-25T00:00:00",
          "2020-02-26T00:00:00",
          "2020-02-27T00:00:00",
          "2020-02-28T00:00:00",
          "2020-02-29T00:00:00",
          "2020-03-01T00:00:00",
          "2020-03-02T00:00:00",
          "2020-03-03T00:00:00",
          "2020-03-04T00:00:00",
          "2020-03-05T00:00:00",
          "2020-03-06T00:00:00",
          "2020-03-07T00:00:00",
          "2020-03-08T00:00:00",
          "2020-03-09T00:00:00",
          "2020-03-10T00:00:00",
          "2020-03-11T00:00:00",
          "2020-03-12T00:00:00",
          "2020-03-13T00:00:00",
          "2020-03-14T00:00:00",
          "2020-03-15T00:00:00",
          "2020-03-16T00:00:00",
          "2020-03-17T00:00:00",
          "2020-03-18T00:00:00",
          "2020-03-19T00:00:00",
          "2020-03-20T00:00:00",
          "2020-03-21T00:00:00",
          "2020-03-22T00:00:00",
          "2020-03-23T00:00:00",
          "2020-03-24T00:00:00",
          "2020-03-25T00:00:00",
          "2020-03-26T00:00:00",
          "2020-03-27T00:00:00",
          "2020-03-28T00:00:00",
          "2020-03-29T00:00:00",
          "2020-03-30T00:00:00",
          "2020-03-31T00:00:00",
          "2020-04-01T00:00:00",
          "2020-04-02T00:00:00",
          "2020-04-03T00:00:00",
          "2020-04-04T00:00:00",
          "2020-04-05T00:00:00",
          "2020-04-06T00:00:00",
          "2020-04-07T00:00:00",
          "2020-04-08T00:00:00",
          "2020-04-09T00:00:00",
          "2020-04-10T00:00:00",
          "2020-04-11T00:00:00",
          "2020-04-12T00:00:00",
          "2020-04-13T00:00:00",
          "2020-04-14T00:00:00",
          "2020-04-15T00:00:00",
          "2020-04-16T00:00:00",
          "2020-04-17T00:00:00",
          "2020-04-18T00:00:00",
          "2020-04-19T00:00:00",
          "2020-04-20T00:00:00",
          "2020-04-21T00:00:00",
          "2020-04-22T00:00:00",
          "2020-04-23T00:00:00",
          "2020-04-24T00:00:00",
          "2020-04-25T00:00:00",
          "2020-04-26T00:00:00",
          "2020-04-27T00:00:00",
          "2020-04-28T00:00:00",
          "2020-04-29T00:00:00",
          "2020-04-30T00:00:00",
          "2020-05-01T00:00:00",
          "2020-05-02T00:00:00",
          "2020-05-03T00:00:00",
          "2020-05-04T00:00:00",
          "2020-05-05T00:00:00",
          "2020-05-06T00:00:00",
          "2020-05-07T00:00:00",
          "2020-05-08T00:00:00",
          "2020-05-09T00:00:00",
          "2020-05-10T00:00:00",
          "2020-05-11T00:00:00",
          "2020-05-12T00:00:00",
          "2020-05-13T00:00:00",
          "2020-05-14T00:00:00",
          "2020-05-15T00:00:00",
          "2020-05-16T00:00:00",
          "2020-05-17T00:00:00",
          "2020-05-18T00:00:00",
          "2020-05-19T00:00:00",
          "2020-05-20T00:00:00",
          "2020-05-21T00:00:00",
          "2020-05-22T00:00:00",
          "2020-05-23T00:00:00",
          "2020-05-24T00:00:00",
          "2020-05-25T00:00:00",
          "2020-05-26T00:00:00",
          "2020-05-27T00:00:00",
          "2020-05-28T00:00:00",
          "2020-05-29T00:00:00",
          "2020-05-30T00:00:00",
          "2020-05-31T00:00:00",
          "2020-06-01T00:00:00",
          "2020-06-02T00:00:00",
          "2020-06-03T00:00:00",
          "2020-06-04T00:00:00",
          "2020-06-05T00:00:00",
          "2020-06-06T00:00:00",
          "2020-06-07T00:00:00",
          "2020-06-08T00:00:00",
          "2020-06-09T00:00:00",
          "2020-06-10T00:00:00",
          "2020-06-11T00:00:00",
          "2020-06-12T00:00:00",
          "2020-06-13T00:00:00",
          "2020-06-14T00:00:00",
          "2020-06-15T00:00:00",
          "2020-06-16T00:00:00",
          "2020-06-17T00:00:00",
          "2020-06-18T00:00:00",
          "2020-06-19T00:00:00",
          "2020-06-20T00:00:00",
          "2020-06-21T00:00:00",
          "2020-06-22T00:00:00",
          "2020-06-23T00:00:00",
          "2020-06-24T00:00:00",
          "2020-06-25T00:00:00",
          "2020-06-26T00:00:00",
          "2020-06-27T00:00:00",
          "2020-06-28T00:00:00",
          "2020-06-29T00:00:00",
          "2020-06-30T00:00:00",
          "2020-07-01T00:00:00",
          "2020-07-02T00:00:00",
          "2020-07-03T00:00:00",
          "2020-07-04T00:00:00",
          "2020-07-05T00:00:00",
          "2020-07-06T00:00:00",
          "2020-07-07T00:00:00",
          "2020-07-08T00:00:00",
          "2020-07-09T00:00:00",
          "2020-07-10T00:00:00",
          "2020-07-11T00:00:00",
          "2020-07-12T00:00:00",
          "2020-07-13T00:00:00",
          "2020-07-14T00:00:00",
          "2020-07-15T00:00:00",
          "2020-07-16T00:00:00",
          "2020-07-17T00:00:00",
          "2020-07-18T00:00:00",
          "2020-07-19T00:00:00",
          "2020-07-20T00:00:00",
          "2020-07-21T00:00:00",
          "2020-07-22T00:00:00",
          "2020-07-23T00:00:00",
          "2020-07-24T00:00:00",
          "2020-07-25T00:00:00",
          "2020-07-26T00:00:00",
          "2020-07-27T00:00:00",
          "2020-07-28T00:00:00",
          "2020-07-29T00:00:00",
          "2020-07-30T00:00:00",
          "2020-07-31T00:00:00",
          "2020-08-01T00:00:00",
          "2020-08-02T00:00:00",
          "2020-08-03T00:00:00",
          "2020-08-04T00:00:00",
          "2020-08-05T00:00:00",
          "2020-08-06T00:00:00",
          "2020-08-07T00:00:00",
          "2020-08-08T00:00:00",
          "2020-08-09T00:00:00",
          "2020-08-10T00:00:00",
          "2020-08-11T00:00:00",
          "2020-08-12T00:00:00",
          "2020-08-13T00:00:00",
          "2020-08-14T00:00:00",
          "2020-08-15T00:00:00",
          "2020-08-16T00:00:00",
          "2020-08-17T00:00:00",
          "2020-08-18T00:00:00",
          "2020-08-19T00:00:00",
          "2020-08-20T00:00:00",
          "2020-08-21T00:00:00",
          "2020-08-22T00:00:00",
          "2020-08-23T00:00:00",
          "2020-08-24T00:00:00",
          "2020-08-25T00:00:00",
          "2020-08-26T00:00:00",
          "2020-08-27T00:00:00",
          "2020-08-28T00:00:00",
          "2020-08-29T00:00:00",
          "2020-08-30T00:00:00",
          "2020-08-31T00:00:00",
          "2020-09-01T00:00:00",
          "2020-09-02T00:00:00",
          "2020-09-03T00:00:00",
          "2020-09-04T00:00:00",
          "2020-09-05T00:00:00",
          "2020-09-06T00:00:00",
          "2020-09-07T00:00:00",
          "2020-09-08T00:00:00",
          "2020-09-09T00:00:00",
          "2020-09-10T00:00:00",
          "2020-09-11T00:00:00",
          "2020-09-12T00:00:00",
          "2020-09-13T00:00:00",
          "2020-09-14T00:00:00",
          "2020-09-15T00:00:00",
          "2020-09-16T00:00:00",
          "2020-09-17T00:00:00",
          "2020-09-18T00:00:00",
          "2020-09-19T00:00:00",
          "2020-09-20T00:00:00",
          "2020-09-21T00:00:00",
          "2020-09-22T00:00:00",
          "2020-09-23T00:00:00",
          "2020-09-24T00:00:00",
          "2020-09-25T00:00:00",
          "2020-09-26T00:00:00",
          "2020-09-27T00:00:00",
          "2020-09-28T00:00:00",
          "2020-09-29T00:00:00",
          "2020-09-30T00:00:00",
          "2020-10-01T00:00:00",
          "2020-10-02T00:00:00",
          "2020-10-03T00:00:00",
          "2020-10-04T00:00:00",
          "2020-10-05T00:00:00",
          "2020-10-06T00:00:00",
          "2020-10-07T00:00:00",
          "2020-10-08T00:00:00",
          "2020-10-09T00:00:00",
          "2020-10-10T00:00:00",
          "2020-10-11T00:00:00",
          "2020-10-12T00:00:00",
          "2020-10-13T00:00:00",
          "2020-10-14T00:00:00",
          "2020-10-15T00:00:00",
          "2020-10-16T00:00:00",
          "2020-10-17T00:00:00",
          "2020-10-18T00:00:00",
          "2020-10-19T00:00:00",
          "2020-10-20T00:00:00",
          "2020-10-21T00:00:00",
          "2020-10-22T00:00:00",
          "2020-10-23T00:00:00",
          "2020-10-24T00:00:00",
          "2020-10-25T00:00:00",
          "2020-10-26T00:00:00",
          "2020-10-27T00:00:00",
          "2020-10-28T00:00:00",
          "2020-10-29T00:00:00",
          "2020-10-30T00:00:00",
          "2020-10-31T00:00:00",
          "2020-11-01T00:00:00",
          "2020-11-02T00:00:00",
          "2020-11-03T00:00:00",
          "2020-11-04T00:00:00",
          "2020-11-05T00:00:00",
          "2020-11-06T00:00:00",
          "2020-11-07T00:00:00",
          "2020-11-08T00:00:00",
          "2020-11-09T00:00:00",
          "2020-11-10T00:00:00",
          "2020-11-11T00:00:00",
          "2020-11-12T00:00:00",
          "2020-11-13T00:00:00",
          "2020-11-14T00:00:00",
          "2020-11-15T00:00:00",
          "2020-11-16T00:00:00",
          "2020-11-17T00:00:00",
          "2020-11-18T00:00:00",
          "2020-11-19T00:00:00",
          "2020-11-20T00:00:00",
          "2020-11-21T00:00:00",
          "2020-11-22T00:00:00",
          "2020-11-23T00:00:00",
          "2020-11-24T00:00:00",
          "2020-11-25T00:00:00",
          "2020-11-26T00:00:00",
          "2020-11-27T00:00:00",
          "2020-11-28T00:00:00",
          "2020-11-29T00:00:00",
          "2020-11-30T00:00:00",
          "2020-12-01T00:00:00",
          "2020-12-02T00:00:00",
          "2020-12-03T00:00:00",
          "2020-12-04T00:00:00",
          "2020-12-05T00:00:00",
          "2020-12-06T00:00:00",
          "2020-12-07T00:00:00",
          "2020-12-08T00:00:00",
          "2020-12-09T00:00:00",
          "2020-12-10T00:00:00",
          "2020-12-11T00:00:00",
          "2020-12-12T00:00:00",
          "2020-12-13T00:00:00",
          "2020-12-14T00:00:00",
          "2020-12-15T00:00:00",
          "2020-12-16T00:00:00",
          "2020-12-17T00:00:00",
          "2020-12-18T00:00:00",
          "2020-12-19T00:00:00",
          "2020-12-20T00:00:00",
          "2020-12-21T00:00:00",
          "2020-12-22T00:00:00",
          "2020-12-23T00:00:00",
          "2020-12-24T00:00:00",
          "2020-12-25T00:00:00",
          "2020-12-26T00:00:00",
          "2020-12-27T00:00:00",
          "2020-12-28T00:00:00",
          "2020-12-29T00:00:00",
          "2020-12-30T00:00:00",
          "2020-12-31T00:00:00",
          "2021-01-01T00:00:00",
          "2021-01-02T00:00:00",
          "2021-01-03T00:00:00",
          "2021-01-04T00:00:00",
          "2021-01-05T00:00:00",
          "2021-01-06T00:00:00",
          "2021-01-07T00:00:00",
          "2021-01-08T00:00:00",
          "2021-01-09T00:00:00",
          "2021-01-10T00:00:00",
          "2021-01-11T00:00:00",
          "2021-01-12T00:00:00",
          "2021-01-13T00:00:00",
          "2021-01-14T00:00:00",
          "2021-01-15T00:00:00",
          "2021-01-16T00:00:00",
          "2021-01-17T00:00:00",
          "2021-01-18T00:00:00",
          "2021-01-19T00:00:00"
         ],
         "xaxis": "x",
         "y": [
          0,
          0,
          0,
          0,
          0,
          0,
          0,
          0,
          0,
          0,
          0,
          0,
          0,
          0,
          0,
          0,
          0,
          0,
          0,
          0,
          0,
          0,
          0,
          0,
          0,
          0,
          0,
          0,
          0,
          0,
          0,
          0,
          0,
          0,
          1,
          0,
          0,
          0,
          0,
          0,
          2,
          2,
          7,
          0,
          5,
          0,
          2,
          1,
          0,
          0,
          4,
          2,
          11,
          11,
          6,
          6,
          14,
          13,
          3,
          49,
          62,
          29,
          34,
          38,
          65,
          42,
          45,
          57,
          73,
          132,
          131,
          139,
          185,
          80,
          69,
          103,
          45,
          104,
          94,
          95,
          64,
          89,
          69,
          87,
          90,
          108,
          150,
          116,
          95,
          89,
          93,
          99,
          97,
          120,
          129,
          126,
          135,
          132,
          199,
          158,
          148,
          141,
          179,
          174,
          190,
          159,
          185,
          187,
          189,
          165,
          168,
          176,
          186,
          189,
          187,
          192,
          198,
          182,
          176,
          165,
          186,
          190,
          195,
          193,
          197,
          194,
          160,
          140,
          137,
          133,
          127,
          119,
          113,
          107,
          98,
          104,
          115,
          104,
          111,
          117,
          102,
          105,
          109,
          112,
          109,
          112,
          116,
          121,
          117,
          119,
          127,
          140,
          149,
          156,
          172,
          197,
          240,
          283,
          305,
          298,
          336,
          365,
          385,
          413,
          430,
          441,
          463,
          475,
          469,
          460,
          434,
          470,
          483,
          494,
          527,
          554,
          585,
          593,
          601,
          535,
          607,
          587,
          594,
          612,
          675,
          605,
          593,
          616,
          642,
          614,
          602,
          563,
          556,
          515,
          507,
          532,
          551,
          571,
          529,
          538,
          467,
          552,
          492,
          495,
          488,
          477,
          469,
          450,
          442,
          419,
          403,
          411,
          409,
          401,
          392,
          398,
          370,
          391,
          397,
          387,
          378,
          365,
          348,
          339,
          325,
          311,
          304,
          298,
          293,
          289,
          285,
          278,
          272,
          264,
          255,
          247,
          242,
          238,
          232,
          228,
          219,
          210,
          203,
          197,
          191,
          186,
          179,
          175,
          160,
          153,
          146,
          155,
          162,
          160,
          157,
          148,
          141,
          134,
          129,
          121,
          138,
          146,
          136,
          132,
          253,
          74,
          185,
          193,
          221,
          205,
          199,
          214,
          213,
          252,
          276,
          273,
          250,
          263,
          276,
          287,
          320,
          306,
          319,
          291,
          330,
          302,
          405,
          548,
          642,
          631,
          581,
          670,
          642,
          753,
          811,
          851,
          867,
          844,
          860,
          910,
          1002,
          1038,
          1023,
          1103,
          1019,
          1088,
          1005,
          1133,
          1025,
          1085,
          1058,
          1044,
          1009,
          978,
          953,
          932,
          843,
          803,
          772,
          750,
          573,
          591,
          598,
          565,
          542,
          517,
          464,
          495,
          468,
          442,
          426,
          438,
          410,
          422,
          456,
          410,
          480,
          458,
          434,
          416,
          392,
          382,
          357,
          323,
          299,
          287,
          262,
          249,
          237,
          228,
          247,
          262,
          275,
          256,
          231,
          225,
          272,
          219,
          267,
          254,
          230,
          222,
          259,
          249
         ],
         "yaxis": "y"
        }
       ],
       "layout": {
        "legend": {
         "tracegroupgap": 0
        },
        "margin": {
         "t": 60
        },
        "template": {
         "data": {
          "bar": [
           {
            "error_x": {
             "color": "#2a3f5f"
            },
            "error_y": {
             "color": "#2a3f5f"
            },
            "marker": {
             "line": {
              "color": "#E5ECF6",
              "width": 0.5
             }
            },
            "type": "bar"
           }
          ],
          "barpolar": [
           {
            "marker": {
             "line": {
              "color": "#E5ECF6",
              "width": 0.5
             }
            },
            "type": "barpolar"
           }
          ],
          "carpet": [
           {
            "aaxis": {
             "endlinecolor": "#2a3f5f",
             "gridcolor": "white",
             "linecolor": "white",
             "minorgridcolor": "white",
             "startlinecolor": "#2a3f5f"
            },
            "baxis": {
             "endlinecolor": "#2a3f5f",
             "gridcolor": "white",
             "linecolor": "white",
             "minorgridcolor": "white",
             "startlinecolor": "#2a3f5f"
            },
            "type": "carpet"
           }
          ],
          "choropleth": [
           {
            "colorbar": {
             "outlinewidth": 0,
             "ticks": ""
            },
            "type": "choropleth"
           }
          ],
          "contour": [
           {
            "colorbar": {
             "outlinewidth": 0,
             "ticks": ""
            },
            "colorscale": [
             [
              0,
              "#0d0887"
             ],
             [
              0.1111111111111111,
              "#46039f"
             ],
             [
              0.2222222222222222,
              "#7201a8"
             ],
             [
              0.3333333333333333,
              "#9c179e"
             ],
             [
              0.4444444444444444,
              "#bd3786"
             ],
             [
              0.5555555555555556,
              "#d8576b"
             ],
             [
              0.6666666666666666,
              "#ed7953"
             ],
             [
              0.7777777777777778,
              "#fb9f3a"
             ],
             [
              0.8888888888888888,
              "#fdca26"
             ],
             [
              1,
              "#f0f921"
             ]
            ],
            "type": "contour"
           }
          ],
          "contourcarpet": [
           {
            "colorbar": {
             "outlinewidth": 0,
             "ticks": ""
            },
            "type": "contourcarpet"
           }
          ],
          "heatmap": [
           {
            "colorbar": {
             "outlinewidth": 0,
             "ticks": ""
            },
            "colorscale": [
             [
              0,
              "#0d0887"
             ],
             [
              0.1111111111111111,
              "#46039f"
             ],
             [
              0.2222222222222222,
              "#7201a8"
             ],
             [
              0.3333333333333333,
              "#9c179e"
             ],
             [
              0.4444444444444444,
              "#bd3786"
             ],
             [
              0.5555555555555556,
              "#d8576b"
             ],
             [
              0.6666666666666666,
              "#ed7953"
             ],
             [
              0.7777777777777778,
              "#fb9f3a"
             ],
             [
              0.8888888888888888,
              "#fdca26"
             ],
             [
              1,
              "#f0f921"
             ]
            ],
            "type": "heatmap"
           }
          ],
          "heatmapgl": [
           {
            "colorbar": {
             "outlinewidth": 0,
             "ticks": ""
            },
            "colorscale": [
             [
              0,
              "#0d0887"
             ],
             [
              0.1111111111111111,
              "#46039f"
             ],
             [
              0.2222222222222222,
              "#7201a8"
             ],
             [
              0.3333333333333333,
              "#9c179e"
             ],
             [
              0.4444444444444444,
              "#bd3786"
             ],
             [
              0.5555555555555556,
              "#d8576b"
             ],
             [
              0.6666666666666666,
              "#ed7953"
             ],
             [
              0.7777777777777778,
              "#fb9f3a"
             ],
             [
              0.8888888888888888,
              "#fdca26"
             ],
             [
              1,
              "#f0f921"
             ]
            ],
            "type": "heatmapgl"
           }
          ],
          "histogram": [
           {
            "marker": {
             "colorbar": {
              "outlinewidth": 0,
              "ticks": ""
             }
            },
            "type": "histogram"
           }
          ],
          "histogram2d": [
           {
            "colorbar": {
             "outlinewidth": 0,
             "ticks": ""
            },
            "colorscale": [
             [
              0,
              "#0d0887"
             ],
             [
              0.1111111111111111,
              "#46039f"
             ],
             [
              0.2222222222222222,
              "#7201a8"
             ],
             [
              0.3333333333333333,
              "#9c179e"
             ],
             [
              0.4444444444444444,
              "#bd3786"
             ],
             [
              0.5555555555555556,
              "#d8576b"
             ],
             [
              0.6666666666666666,
              "#ed7953"
             ],
             [
              0.7777777777777778,
              "#fb9f3a"
             ],
             [
              0.8888888888888888,
              "#fdca26"
             ],
             [
              1,
              "#f0f921"
             ]
            ],
            "type": "histogram2d"
           }
          ],
          "histogram2dcontour": [
           {
            "colorbar": {
             "outlinewidth": 0,
             "ticks": ""
            },
            "colorscale": [
             [
              0,
              "#0d0887"
             ],
             [
              0.1111111111111111,
              "#46039f"
             ],
             [
              0.2222222222222222,
              "#7201a8"
             ],
             [
              0.3333333333333333,
              "#9c179e"
             ],
             [
              0.4444444444444444,
              "#bd3786"
             ],
             [
              0.5555555555555556,
              "#d8576b"
             ],
             [
              0.6666666666666666,
              "#ed7953"
             ],
             [
              0.7777777777777778,
              "#fb9f3a"
             ],
             [
              0.8888888888888888,
              "#fdca26"
             ],
             [
              1,
              "#f0f921"
             ]
            ],
            "type": "histogram2dcontour"
           }
          ],
          "mesh3d": [
           {
            "colorbar": {
             "outlinewidth": 0,
             "ticks": ""
            },
            "type": "mesh3d"
           }
          ],
          "parcoords": [
           {
            "line": {
             "colorbar": {
              "outlinewidth": 0,
              "ticks": ""
             }
            },
            "type": "parcoords"
           }
          ],
          "pie": [
           {
            "automargin": true,
            "type": "pie"
           }
          ],
          "scatter": [
           {
            "marker": {
             "colorbar": {
              "outlinewidth": 0,
              "ticks": ""
             }
            },
            "type": "scatter"
           }
          ],
          "scatter3d": [
           {
            "line": {
             "colorbar": {
              "outlinewidth": 0,
              "ticks": ""
             }
            },
            "marker": {
             "colorbar": {
              "outlinewidth": 0,
              "ticks": ""
             }
            },
            "type": "scatter3d"
           }
          ],
          "scattercarpet": [
           {
            "marker": {
             "colorbar": {
              "outlinewidth": 0,
              "ticks": ""
             }
            },
            "type": "scattercarpet"
           }
          ],
          "scattergeo": [
           {
            "marker": {
             "colorbar": {
              "outlinewidth": 0,
              "ticks": ""
             }
            },
            "type": "scattergeo"
           }
          ],
          "scattergl": [
           {
            "marker": {
             "colorbar": {
              "outlinewidth": 0,
              "ticks": ""
             }
            },
            "type": "scattergl"
           }
          ],
          "scattermapbox": [
           {
            "marker": {
             "colorbar": {
              "outlinewidth": 0,
              "ticks": ""
             }
            },
            "type": "scattermapbox"
           }
          ],
          "scatterpolar": [
           {
            "marker": {
             "colorbar": {
              "outlinewidth": 0,
              "ticks": ""
             }
            },
            "type": "scatterpolar"
           }
          ],
          "scatterpolargl": [
           {
            "marker": {
             "colorbar": {
              "outlinewidth": 0,
              "ticks": ""
             }
            },
            "type": "scatterpolargl"
           }
          ],
          "scatterternary": [
           {
            "marker": {
             "colorbar": {
              "outlinewidth": 0,
              "ticks": ""
             }
            },
            "type": "scatterternary"
           }
          ],
          "surface": [
           {
            "colorbar": {
             "outlinewidth": 0,
             "ticks": ""
            },
            "colorscale": [
             [
              0,
              "#0d0887"
             ],
             [
              0.1111111111111111,
              "#46039f"
             ],
             [
              0.2222222222222222,
              "#7201a8"
             ],
             [
              0.3333333333333333,
              "#9c179e"
             ],
             [
              0.4444444444444444,
              "#bd3786"
             ],
             [
              0.5555555555555556,
              "#d8576b"
             ],
             [
              0.6666666666666666,
              "#ed7953"
             ],
             [
              0.7777777777777778,
              "#fb9f3a"
             ],
             [
              0.8888888888888888,
              "#fdca26"
             ],
             [
              1,
              "#f0f921"
             ]
            ],
            "type": "surface"
           }
          ],
          "table": [
           {
            "cells": {
             "fill": {
              "color": "#EBF0F8"
             },
             "line": {
              "color": "white"
             }
            },
            "header": {
             "fill": {
              "color": "#C8D4E3"
             },
             "line": {
              "color": "white"
             }
            },
            "type": "table"
           }
          ]
         },
         "layout": {
          "annotationdefaults": {
           "arrowcolor": "#2a3f5f",
           "arrowhead": 0,
           "arrowwidth": 1
          },
          "autotypenumbers": "strict",
          "coloraxis": {
           "colorbar": {
            "outlinewidth": 0,
            "ticks": ""
           }
          },
          "colorscale": {
           "diverging": [
            [
             0,
             "#8e0152"
            ],
            [
             0.1,
             "#c51b7d"
            ],
            [
             0.2,
             "#de77ae"
            ],
            [
             0.3,
             "#f1b6da"
            ],
            [
             0.4,
             "#fde0ef"
            ],
            [
             0.5,
             "#f7f7f7"
            ],
            [
             0.6,
             "#e6f5d0"
            ],
            [
             0.7,
             "#b8e186"
            ],
            [
             0.8,
             "#7fbc41"
            ],
            [
             0.9,
             "#4d9221"
            ],
            [
             1,
             "#276419"
            ]
           ],
           "sequential": [
            [
             0,
             "#0d0887"
            ],
            [
             0.1111111111111111,
             "#46039f"
            ],
            [
             0.2222222222222222,
             "#7201a8"
            ],
            [
             0.3333333333333333,
             "#9c179e"
            ],
            [
             0.4444444444444444,
             "#bd3786"
            ],
            [
             0.5555555555555556,
             "#d8576b"
            ],
            [
             0.6666666666666666,
             "#ed7953"
            ],
            [
             0.7777777777777778,
             "#fb9f3a"
            ],
            [
             0.8888888888888888,
             "#fdca26"
            ],
            [
             1,
             "#f0f921"
            ]
           ],
           "sequentialminus": [
            [
             0,
             "#0d0887"
            ],
            [
             0.1111111111111111,
             "#46039f"
            ],
            [
             0.2222222222222222,
             "#7201a8"
            ],
            [
             0.3333333333333333,
             "#9c179e"
            ],
            [
             0.4444444444444444,
             "#bd3786"
            ],
            [
             0.5555555555555556,
             "#d8576b"
            ],
            [
             0.6666666666666666,
             "#ed7953"
            ],
            [
             0.7777777777777778,
             "#fb9f3a"
            ],
            [
             0.8888888888888888,
             "#fdca26"
            ],
            [
             1,
             "#f0f921"
            ]
           ]
          },
          "colorway": [
           "#636efa",
           "#EF553B",
           "#00cc96",
           "#ab63fa",
           "#FFA15A",
           "#19d3f3",
           "#FF6692",
           "#B6E880",
           "#FF97FF",
           "#FECB52"
          ],
          "font": {
           "color": "#2a3f5f"
          },
          "geo": {
           "bgcolor": "white",
           "lakecolor": "white",
           "landcolor": "#E5ECF6",
           "showlakes": true,
           "showland": true,
           "subunitcolor": "white"
          },
          "hoverlabel": {
           "align": "left"
          },
          "hovermode": "closest",
          "mapbox": {
           "style": "light"
          },
          "paper_bgcolor": "white",
          "plot_bgcolor": "#E5ECF6",
          "polar": {
           "angularaxis": {
            "gridcolor": "white",
            "linecolor": "white",
            "ticks": ""
           },
           "bgcolor": "#E5ECF6",
           "radialaxis": {
            "gridcolor": "white",
            "linecolor": "white",
            "ticks": ""
           }
          },
          "scene": {
           "xaxis": {
            "backgroundcolor": "#E5ECF6",
            "gridcolor": "white",
            "gridwidth": 2,
            "linecolor": "white",
            "showbackground": true,
            "ticks": "",
            "zerolinecolor": "white"
           },
           "yaxis": {
            "backgroundcolor": "#E5ECF6",
            "gridcolor": "white",
            "gridwidth": 2,
            "linecolor": "white",
            "showbackground": true,
            "ticks": "",
            "zerolinecolor": "white"
           },
           "zaxis": {
            "backgroundcolor": "#E5ECF6",
            "gridcolor": "white",
            "gridwidth": 2,
            "linecolor": "white",
            "showbackground": true,
            "ticks": "",
            "zerolinecolor": "white"
           }
          },
          "shapedefaults": {
           "line": {
            "color": "#2a3f5f"
           }
          },
          "ternary": {
           "aaxis": {
            "gridcolor": "white",
            "linecolor": "white",
            "ticks": ""
           },
           "baxis": {
            "gridcolor": "white",
            "linecolor": "white",
            "ticks": ""
           },
           "bgcolor": "#E5ECF6",
           "caxis": {
            "gridcolor": "white",
            "linecolor": "white",
            "ticks": ""
           }
          },
          "title": {
           "x": 0.05
          },
          "xaxis": {
           "automargin": true,
           "gridcolor": "white",
           "linecolor": "white",
           "ticks": "",
           "title": {
            "standoff": 15
           },
           "zerolinecolor": "white",
           "zerolinewidth": 2
          },
          "yaxis": {
           "automargin": true,
           "gridcolor": "white",
           "linecolor": "white",
           "ticks": "",
           "title": {
            "standoff": 15
           },
           "zerolinecolor": "white",
           "zerolinewidth": 2
          }
         }
        },
        "title": {
         "text": "Global Daily Confirmed Cases"
        },
        "xaxis": {
         "anchor": "y",
         "domain": [
          0,
          1
         ],
         "title": {
          "text": "Date"
         }
        },
        "yaxis": {
         "anchor": "x",
         "domain": [
          0,
          1
         ],
         "title": {
          "text": "Daily Numbers"
         }
        }
       }
      }
     },
     "metadata": {}
    }
   ],
   "source": [
    "def filter_daily(country, df, title=None):\n",
    "    \n",
    "    #I deleted the province/region column, so this is necessary because territories are included and have bee proved problematic for the function\n",
    "    df=df.groupby(by='Country/Region').sum()\n",
    "    \n",
    "    if country.lower() == 'all':\n",
    "        column_list = df.columns.tolist()\n",
    "\n",
    "        column_list = column_list[3:]\n",
    "        dates = []\n",
    "\n",
    "        for i in column_list:\n",
    "            dates.append(pd.to_datetime(i))\n",
    "        dates_series = pd.Series(dates)\n",
    "\n",
    "        confirmed_series = df[5:].sum(axis=0)\n",
    "        \n",
    "        confirmed_series = confirmed_series[3:]\n",
    "\n",
    "        for i in range(confirmed_series.shape[0]-1, 0, -1):\n",
    "            if i == 0:\n",
    "                break\n",
    "            else:\n",
    "                confirmed_series.iloc[i] = confirmed_series.iloc[i]-confirmed_series.iloc[i-1]\n",
    "\n",
    "        fig = px.line(x = dates_series, y=confirmed_series)\n",
    "        fig.update_xaxes(title=\"Date\")\n",
    "        fig.update_yaxes(title=\"Daily Numbers\")\n",
    "        fig.update_layout(title={\"text\":title})\n",
    "        fig.show()\n",
    "\n",
    "    elif country not in df.index:\n",
    "        print(\"Country data not found. Try again.\")\n",
    "\n",
    "    else:\n",
    "        column_list = df.columns.tolist()\n",
    "\n",
    "        column_list = column_list[2:]\n",
    "        dates = []\n",
    "\n",
    "        for i in column_list:\n",
    "            dates.append(pd.to_datetime(i))\n",
    "\n",
    "        dates_series = pd.Series(dates)\n",
    "\n",
    "        confirmed_series = df.loc[country]\n",
    "        confirmed_series = confirmed_series.drop(['Lat','Long'])\n",
    "\n",
    "        for i in range(confirmed_series.shape[0]-1, 0, -1):\n",
    "            if i == 0:\n",
    "                break\n",
    "            else:\n",
    "                confirmed_series.iloc[i] = confirmed_series.iloc[i]-confirmed_series.iloc[i-1]\n",
    "\n",
    "        fig = px.line(x = dates_series, y=confirmed_series)\n",
    "        fig.update_xaxes(title=\"Date\")\n",
    "        fig.update_yaxes(title=\"Daily Numbers\")\n",
    "        fig.update_layout(title={\"text\":title})\n",
    "        fig.show()\n",
    "\n",
    "filter_daily('Algeria', df_time_confirmed, 'Global Daily Confirmed Cases')"
   ]
  },
  {
   "cell_type": "code",
   "execution_count": 12,
   "metadata": {},
   "outputs": [
    {
     "output_type": "display_data",
     "data": {
      "application/vnd.plotly.v1+json": {
       "config": {
        "plotlyServerURL": "https://plot.ly"
       },
       "data": [
        {
         "hovertemplate": "x=%{x}<br>y=%{y}<extra></extra>",
         "legendgroup": "",
         "line": {
          "color": "#636efa",
          "dash": "solid"
         },
         "mode": "lines",
         "name": "",
         "orientation": "v",
         "showlegend": false,
         "type": "scatter",
         "x": [
          "2020-01-22T00:00:00",
          "2020-01-23T00:00:00",
          "2020-01-24T00:00:00",
          "2020-01-25T00:00:00",
          "2020-01-26T00:00:00",
          "2020-01-27T00:00:00",
          "2020-01-28T00:00:00",
          "2020-01-29T00:00:00",
          "2020-01-30T00:00:00",
          "2020-01-31T00:00:00",
          "2020-02-01T00:00:00",
          "2020-02-02T00:00:00",
          "2020-02-03T00:00:00",
          "2020-02-04T00:00:00",
          "2020-02-05T00:00:00",
          "2020-02-06T00:00:00",
          "2020-02-07T00:00:00",
          "2020-02-08T00:00:00",
          "2020-02-09T00:00:00",
          "2020-02-10T00:00:00",
          "2020-02-11T00:00:00",
          "2020-02-12T00:00:00",
          "2020-02-13T00:00:00",
          "2020-02-14T00:00:00",
          "2020-02-15T00:00:00",
          "2020-02-16T00:00:00",
          "2020-02-17T00:00:00",
          "2020-02-18T00:00:00",
          "2020-02-19T00:00:00",
          "2020-02-20T00:00:00",
          "2020-02-21T00:00:00",
          "2020-02-22T00:00:00",
          "2020-02-23T00:00:00",
          "2020-02-24T00:00:00",
          "2020-02-25T00:00:00",
          "2020-02-26T00:00:00",
          "2020-02-27T00:00:00",
          "2020-02-28T00:00:00",
          "2020-02-29T00:00:00",
          "2020-03-01T00:00:00",
          "2020-03-02T00:00:00",
          "2020-03-03T00:00:00",
          "2020-03-04T00:00:00",
          "2020-03-05T00:00:00",
          "2020-03-06T00:00:00",
          "2020-03-07T00:00:00",
          "2020-03-08T00:00:00",
          "2020-03-09T00:00:00",
          "2020-03-10T00:00:00",
          "2020-03-11T00:00:00",
          "2020-03-12T00:00:00",
          "2020-03-13T00:00:00",
          "2020-03-14T00:00:00",
          "2020-03-15T00:00:00",
          "2020-03-16T00:00:00",
          "2020-03-17T00:00:00",
          "2020-03-18T00:00:00",
          "2020-03-19T00:00:00",
          "2020-03-20T00:00:00",
          "2020-03-21T00:00:00",
          "2020-03-22T00:00:00",
          "2020-03-23T00:00:00",
          "2020-03-24T00:00:00",
          "2020-03-25T00:00:00",
          "2020-03-26T00:00:00",
          "2020-03-27T00:00:00",
          "2020-03-28T00:00:00",
          "2020-03-29T00:00:00",
          "2020-03-30T00:00:00",
          "2020-03-31T00:00:00",
          "2020-04-01T00:00:00",
          "2020-04-02T00:00:00",
          "2020-04-03T00:00:00",
          "2020-04-04T00:00:00",
          "2020-04-05T00:00:00",
          "2020-04-06T00:00:00",
          "2020-04-07T00:00:00",
          "2020-04-08T00:00:00",
          "2020-04-09T00:00:00",
          "2020-04-10T00:00:00",
          "2020-04-11T00:00:00",
          "2020-04-12T00:00:00",
          "2020-04-13T00:00:00",
          "2020-04-14T00:00:00",
          "2020-04-15T00:00:00",
          "2020-04-16T00:00:00",
          "2020-04-17T00:00:00",
          "2020-04-18T00:00:00",
          "2020-04-19T00:00:00",
          "2020-04-20T00:00:00",
          "2020-04-21T00:00:00",
          "2020-04-22T00:00:00",
          "2020-04-23T00:00:00",
          "2020-04-24T00:00:00",
          "2020-04-25T00:00:00",
          "2020-04-26T00:00:00",
          "2020-04-27T00:00:00",
          "2020-04-28T00:00:00",
          "2020-04-29T00:00:00",
          "2020-04-30T00:00:00",
          "2020-05-01T00:00:00",
          "2020-05-02T00:00:00",
          "2020-05-03T00:00:00",
          "2020-05-04T00:00:00",
          "2020-05-05T00:00:00",
          "2020-05-06T00:00:00",
          "2020-05-07T00:00:00",
          "2020-05-08T00:00:00",
          "2020-05-09T00:00:00",
          "2020-05-10T00:00:00",
          "2020-05-11T00:00:00",
          "2020-05-12T00:00:00",
          "2020-05-13T00:00:00",
          "2020-05-14T00:00:00",
          "2020-05-15T00:00:00",
          "2020-05-16T00:00:00",
          "2020-05-17T00:00:00",
          "2020-05-18T00:00:00",
          "2020-05-19T00:00:00",
          "2020-05-20T00:00:00",
          "2020-05-21T00:00:00",
          "2020-05-22T00:00:00",
          "2020-05-23T00:00:00",
          "2020-05-24T00:00:00",
          "2020-05-25T00:00:00",
          "2020-05-26T00:00:00",
          "2020-05-27T00:00:00",
          "2020-05-28T00:00:00",
          "2020-05-29T00:00:00",
          "2020-05-30T00:00:00",
          "2020-05-31T00:00:00",
          "2020-06-01T00:00:00",
          "2020-06-02T00:00:00",
          "2020-06-03T00:00:00",
          "2020-06-04T00:00:00",
          "2020-06-05T00:00:00",
          "2020-06-06T00:00:00",
          "2020-06-07T00:00:00",
          "2020-06-08T00:00:00",
          "2020-06-09T00:00:00",
          "2020-06-10T00:00:00",
          "2020-06-11T00:00:00",
          "2020-06-12T00:00:00",
          "2020-06-13T00:00:00",
          "2020-06-14T00:00:00",
          "2020-06-15T00:00:00",
          "2020-06-16T00:00:00",
          "2020-06-17T00:00:00",
          "2020-06-18T00:00:00",
          "2020-06-19T00:00:00",
          "2020-06-20T00:00:00",
          "2020-06-21T00:00:00",
          "2020-06-22T00:00:00",
          "2020-06-23T00:00:00",
          "2020-06-24T00:00:00",
          "2020-06-25T00:00:00",
          "2020-06-26T00:00:00",
          "2020-06-27T00:00:00",
          "2020-06-28T00:00:00",
          "2020-06-29T00:00:00",
          "2020-06-30T00:00:00",
          "2020-07-01T00:00:00",
          "2020-07-02T00:00:00",
          "2020-07-03T00:00:00",
          "2020-07-04T00:00:00",
          "2020-07-05T00:00:00",
          "2020-07-06T00:00:00",
          "2020-07-07T00:00:00",
          "2020-07-08T00:00:00",
          "2020-07-09T00:00:00",
          "2020-07-10T00:00:00",
          "2020-07-11T00:00:00",
          "2020-07-12T00:00:00",
          "2020-07-13T00:00:00",
          "2020-07-14T00:00:00",
          "2020-07-15T00:00:00",
          "2020-07-16T00:00:00",
          "2020-07-17T00:00:00",
          "2020-07-18T00:00:00",
          "2020-07-19T00:00:00",
          "2020-07-20T00:00:00",
          "2020-07-21T00:00:00",
          "2020-07-22T00:00:00",
          "2020-07-23T00:00:00",
          "2020-07-24T00:00:00",
          "2020-07-25T00:00:00",
          "2020-07-26T00:00:00",
          "2020-07-27T00:00:00",
          "2020-07-28T00:00:00",
          "2020-07-29T00:00:00",
          "2020-07-30T00:00:00",
          "2020-07-31T00:00:00",
          "2020-08-01T00:00:00",
          "2020-08-02T00:00:00",
          "2020-08-03T00:00:00",
          "2020-08-04T00:00:00",
          "2020-08-05T00:00:00",
          "2020-08-06T00:00:00",
          "2020-08-07T00:00:00",
          "2020-08-08T00:00:00",
          "2020-08-09T00:00:00",
          "2020-08-10T00:00:00",
          "2020-08-11T00:00:00",
          "2020-08-12T00:00:00",
          "2020-08-13T00:00:00",
          "2020-08-14T00:00:00",
          "2020-08-15T00:00:00",
          "2020-08-16T00:00:00",
          "2020-08-17T00:00:00",
          "2020-08-18T00:00:00",
          "2020-08-19T00:00:00",
          "2020-08-20T00:00:00",
          "2020-08-21T00:00:00",
          "2020-08-22T00:00:00",
          "2020-08-23T00:00:00",
          "2020-08-24T00:00:00",
          "2020-08-25T00:00:00",
          "2020-08-26T00:00:00",
          "2020-08-27T00:00:00",
          "2020-08-28T00:00:00",
          "2020-08-29T00:00:00",
          "2020-08-30T00:00:00",
          "2020-08-31T00:00:00",
          "2020-09-01T00:00:00",
          "2020-09-02T00:00:00",
          "2020-09-03T00:00:00",
          "2020-09-04T00:00:00",
          "2020-09-05T00:00:00",
          "2020-09-06T00:00:00",
          "2020-09-07T00:00:00",
          "2020-09-08T00:00:00",
          "2020-09-09T00:00:00",
          "2020-09-10T00:00:00",
          "2020-09-11T00:00:00",
          "2020-09-12T00:00:00",
          "2020-09-13T00:00:00",
          "2020-09-14T00:00:00",
          "2020-09-15T00:00:00",
          "2020-09-16T00:00:00",
          "2020-09-17T00:00:00",
          "2020-09-18T00:00:00",
          "2020-09-19T00:00:00",
          "2020-09-20T00:00:00",
          "2020-09-21T00:00:00",
          "2020-09-22T00:00:00",
          "2020-09-23T00:00:00",
          "2020-09-24T00:00:00",
          "2020-09-25T00:00:00",
          "2020-09-26T00:00:00",
          "2020-09-27T00:00:00",
          "2020-09-28T00:00:00",
          "2020-09-29T00:00:00",
          "2020-09-30T00:00:00",
          "2020-10-01T00:00:00",
          "2020-10-02T00:00:00",
          "2020-10-03T00:00:00",
          "2020-10-04T00:00:00",
          "2020-10-05T00:00:00",
          "2020-10-06T00:00:00",
          "2020-10-07T00:00:00",
          "2020-10-08T00:00:00",
          "2020-10-09T00:00:00",
          "2020-10-10T00:00:00",
          "2020-10-11T00:00:00",
          "2020-10-12T00:00:00",
          "2020-10-13T00:00:00",
          "2020-10-14T00:00:00",
          "2020-10-15T00:00:00",
          "2020-10-16T00:00:00",
          "2020-10-17T00:00:00",
          "2020-10-18T00:00:00",
          "2020-10-19T00:00:00",
          "2020-10-20T00:00:00",
          "2020-10-21T00:00:00",
          "2020-10-22T00:00:00",
          "2020-10-23T00:00:00",
          "2020-10-24T00:00:00",
          "2020-10-25T00:00:00",
          "2020-10-26T00:00:00",
          "2020-10-27T00:00:00",
          "2020-10-28T00:00:00",
          "2020-10-29T00:00:00",
          "2020-10-30T00:00:00",
          "2020-10-31T00:00:00",
          "2020-11-01T00:00:00",
          "2020-11-02T00:00:00",
          "2020-11-03T00:00:00",
          "2020-11-04T00:00:00",
          "2020-11-05T00:00:00",
          "2020-11-06T00:00:00",
          "2020-11-07T00:00:00",
          "2020-11-08T00:00:00",
          "2020-11-09T00:00:00",
          "2020-11-10T00:00:00",
          "2020-11-11T00:00:00",
          "2020-11-12T00:00:00",
          "2020-11-13T00:00:00",
          "2020-11-14T00:00:00",
          "2020-11-15T00:00:00",
          "2020-11-16T00:00:00",
          "2020-11-17T00:00:00",
          "2020-11-18T00:00:00",
          "2020-11-19T00:00:00",
          "2020-11-20T00:00:00",
          "2020-11-21T00:00:00",
          "2020-11-22T00:00:00",
          "2020-11-23T00:00:00",
          "2020-11-24T00:00:00",
          "2020-11-25T00:00:00",
          "2020-11-26T00:00:00",
          "2020-11-27T00:00:00",
          "2020-11-28T00:00:00",
          "2020-11-29T00:00:00",
          "2020-11-30T00:00:00",
          "2020-12-01T00:00:00",
          "2020-12-02T00:00:00",
          "2020-12-03T00:00:00",
          "2020-12-04T00:00:00",
          "2020-12-05T00:00:00",
          "2020-12-06T00:00:00",
          "2020-12-07T00:00:00",
          "2020-12-08T00:00:00",
          "2020-12-09T00:00:00",
          "2020-12-10T00:00:00",
          "2020-12-11T00:00:00",
          "2020-12-12T00:00:00",
          "2020-12-13T00:00:00",
          "2020-12-14T00:00:00",
          "2020-12-15T00:00:00",
          "2020-12-16T00:00:00",
          "2020-12-17T00:00:00",
          "2020-12-18T00:00:00",
          "2020-12-19T00:00:00",
          "2020-12-20T00:00:00",
          "2020-12-21T00:00:00",
          "2020-12-22T00:00:00",
          "2020-12-23T00:00:00",
          "2020-12-24T00:00:00",
          "2020-12-25T00:00:00",
          "2020-12-26T00:00:00",
          "2020-12-27T00:00:00",
          "2020-12-28T00:00:00",
          "2020-12-29T00:00:00",
          "2020-12-30T00:00:00",
          "2020-12-31T00:00:00",
          "2021-01-01T00:00:00",
          "2021-01-02T00:00:00",
          "2021-01-03T00:00:00",
          "2021-01-04T00:00:00",
          "2021-01-05T00:00:00",
          "2021-01-06T00:00:00",
          "2021-01-07T00:00:00",
          "2021-01-08T00:00:00",
          "2021-01-09T00:00:00",
          "2021-01-10T00:00:00",
          "2021-01-11T00:00:00",
          "2021-01-12T00:00:00",
          "2021-01-13T00:00:00",
          "2021-01-14T00:00:00",
          "2021-01-15T00:00:00",
          "2021-01-16T00:00:00",
          "2021-01-17T00:00:00",
          "2021-01-18T00:00:00",
          "2021-01-19T00:00:00"
         ],
         "xaxis": "x",
         "y": [
          0,
          0,
          0,
          0,
          2,
          2,
          2,
          2,
          2,
          3,
          3,
          3,
          6,
          6,
          6,
          6,
          6,
          6,
          6,
          6,
          7,
          7,
          8,
          8,
          8,
          8,
          8,
          8,
          8,
          8,
          10,
          10,
          10,
          10,
          10,
          10,
          11,
          11,
          12,
          12,
          21,
          25,
          35,
          51,
          59,
          81,
          95,
          101,
          144,
          178,
          221,
          281,
          371,
          373,
          557,
          700,
          831,
          1009,
          1243,
          1412,
          1651,
          2113,
          2542,
          3009,
          3910,
          4667,
          5110,
          5863,
          7155,
          8233,
          9410,
          10790,
          12016,
          12837,
          15034,
          15981,
          17309,
          18730,
          19706,
          21077,
          21713,
          22792,
          23934,
          25389,
          26686,
          27677,
          29157,
          30511,
          31431,
          33686,
          35480,
          37352,
          39561,
          41355,
          42368,
          43559,
          44972,
          46164,
          48747,
          50130,
          52026,
          53347,
          54903,
          55884,
          58456,
          60616,
          62148,
          63800,
          66572,
          67600,
          69329,
          70980,
          72798,
          74871,
          76693,
          78725,
          80166,
          81518,
          83764,
          86018,
          88056,
          90281,
          92564,
          94069,
          96470,
          99492,
          101071,
          103813,
          106638,
          109895,
          111951,
          114733,
          117215,
          119374,
          122194,
          125783,
          128606,
          130657,
          133816,
          136681,
          139715,
          143439,
          146659,
          150034,
          152349,
          155726,
          158961,
          162798,
          167133,
          170862,
          175243,
          178657,
          184765,
          191477,
          196024,
          201112,
          206844,
          210692,
          215487,
          223646,
          231418,
          238681,
          246550,
          250514,
          252895,
          264681,
          271035,
          284012,
          292560,
          302484,
          310885,
          318761,
          324543,
          333357,
          346211,
          354885,
          364706,
          373259,
          380745,
          386906,
          397870,
          409305,
          421286,
          430773,
          440185,
          446452,
          452288,
          458121,
          470762,
          484913,
          492934,
          500556,
          506613,
          512175,
          516851,
          526685,
          530606,
          541339,
          546814,
          554388,
          559746,
          574231,
          578946,
          591376,
          597984,
          613101,
          617994,
          623873,
          629415,
          638140,
          647274,
          652267,
          658900,
          664435,
          669280,
          675561,
          681032,
          687004,
          691821,
          697385,
          702038,
          705951,
          712475,
          715617,
          721281,
          726018,
          730662,
          735314,
          738856,
          740965,
          744344,
          747290,
          750961,
          754905,
          758933,
          761728,
          765134,
          768204,
          771321,
          775037,
          779491,
          783313,
          786168,
          790096,
          793065,
          796436,
          799516,
          803660,
          807451,
          809890,
          812711,
          815654,
          819115,
          822205,
          826013,
          829521,
          832713,
          835507,
          838202,
          841928,
          845270,
          849076,
          852410,
          855190,
          857913,
          861310,
          865204,
          868148,
          871253,
          873614,
          875692,
          879645,
          883746,
          886939,
          893364,
          898799,
          903684,
          906596,
          910438,
          914888,
          919276,
          923648,
          928028,
          932143,
          936144,
          941508,
          946513,
          951857,
          958136,
          964396,
          969362,
          975907,
          982856,
          991162,
          996435,
          1006099,
          1015813,
          1024032,
          1032932,
          1044194,
          1054766,
          1066345,
          1079685,
          1092837,
          1106467,
          1115155,
          1133048,
          1149616,
          1163645,
          1172383,
          1188502,
          1202757,
          1216784,
          1234059,
          1250655,
          1268765,
          1290775,
          1314478,
          1340171,
          1368237,
          1395859,
          1422187,
          1454124,
          1487917,
          1524440,
          1553908,
          1586858,
          1610446,
          1652718,
          1714945,
          1759823,
          1808046,
          1844836,
          1886558,
          1930772,
          1964863,
          2010004,
          2044130,
          2065804,
          2123125,
          2158641,
          2199594,
          2232911,
          2265300,
          2297039,
          2342745,
          2390626,
          2428610,
          2464290,
          2500302,
          2536686,
          2576355,
          2620039,
          2675262,
          2717862,
          2758021,
          2804663,
          2843062,
          2883699,
          2922690,
          2959863,
          2991731,
          3019758,
          3049037
         ],
         "yaxis": "y"
        }
       ],
       "layout": {
        "legend": {
         "tracegroupgap": 0
        },
        "margin": {
         "t": 60
        },
        "template": {
         "data": {
          "bar": [
           {
            "error_x": {
             "color": "#2a3f5f"
            },
            "error_y": {
             "color": "#2a3f5f"
            },
            "marker": {
             "line": {
              "color": "#E5ECF6",
              "width": 0.5
             }
            },
            "type": "bar"
           }
          ],
          "barpolar": [
           {
            "marker": {
             "line": {
              "color": "#E5ECF6",
              "width": 0.5
             }
            },
            "type": "barpolar"
           }
          ],
          "carpet": [
           {
            "aaxis": {
             "endlinecolor": "#2a3f5f",
             "gridcolor": "white",
             "linecolor": "white",
             "minorgridcolor": "white",
             "startlinecolor": "#2a3f5f"
            },
            "baxis": {
             "endlinecolor": "#2a3f5f",
             "gridcolor": "white",
             "linecolor": "white",
             "minorgridcolor": "white",
             "startlinecolor": "#2a3f5f"
            },
            "type": "carpet"
           }
          ],
          "choropleth": [
           {
            "colorbar": {
             "outlinewidth": 0,
             "ticks": ""
            },
            "type": "choropleth"
           }
          ],
          "contour": [
           {
            "colorbar": {
             "outlinewidth": 0,
             "ticks": ""
            },
            "colorscale": [
             [
              0,
              "#0d0887"
             ],
             [
              0.1111111111111111,
              "#46039f"
             ],
             [
              0.2222222222222222,
              "#7201a8"
             ],
             [
              0.3333333333333333,
              "#9c179e"
             ],
             [
              0.4444444444444444,
              "#bd3786"
             ],
             [
              0.5555555555555556,
              "#d8576b"
             ],
             [
              0.6666666666666666,
              "#ed7953"
             ],
             [
              0.7777777777777778,
              "#fb9f3a"
             ],
             [
              0.8888888888888888,
              "#fdca26"
             ],
             [
              1,
              "#f0f921"
             ]
            ],
            "type": "contour"
           }
          ],
          "contourcarpet": [
           {
            "colorbar": {
             "outlinewidth": 0,
             "ticks": ""
            },
            "type": "contourcarpet"
           }
          ],
          "heatmap": [
           {
            "colorbar": {
             "outlinewidth": 0,
             "ticks": ""
            },
            "colorscale": [
             [
              0,
              "#0d0887"
             ],
             [
              0.1111111111111111,
              "#46039f"
             ],
             [
              0.2222222222222222,
              "#7201a8"
             ],
             [
              0.3333333333333333,
              "#9c179e"
             ],
             [
              0.4444444444444444,
              "#bd3786"
             ],
             [
              0.5555555555555556,
              "#d8576b"
             ],
             [
              0.6666666666666666,
              "#ed7953"
             ],
             [
              0.7777777777777778,
              "#fb9f3a"
             ],
             [
              0.8888888888888888,
              "#fdca26"
             ],
             [
              1,
              "#f0f921"
             ]
            ],
            "type": "heatmap"
           }
          ],
          "heatmapgl": [
           {
            "colorbar": {
             "outlinewidth": 0,
             "ticks": ""
            },
            "colorscale": [
             [
              0,
              "#0d0887"
             ],
             [
              0.1111111111111111,
              "#46039f"
             ],
             [
              0.2222222222222222,
              "#7201a8"
             ],
             [
              0.3333333333333333,
              "#9c179e"
             ],
             [
              0.4444444444444444,
              "#bd3786"
             ],
             [
              0.5555555555555556,
              "#d8576b"
             ],
             [
              0.6666666666666666,
              "#ed7953"
             ],
             [
              0.7777777777777778,
              "#fb9f3a"
             ],
             [
              0.8888888888888888,
              "#fdca26"
             ],
             [
              1,
              "#f0f921"
             ]
            ],
            "type": "heatmapgl"
           }
          ],
          "histogram": [
           {
            "marker": {
             "colorbar": {
              "outlinewidth": 0,
              "ticks": ""
             }
            },
            "type": "histogram"
           }
          ],
          "histogram2d": [
           {
            "colorbar": {
             "outlinewidth": 0,
             "ticks": ""
            },
            "colorscale": [
             [
              0,
              "#0d0887"
             ],
             [
              0.1111111111111111,
              "#46039f"
             ],
             [
              0.2222222222222222,
              "#7201a8"
             ],
             [
              0.3333333333333333,
              "#9c179e"
             ],
             [
              0.4444444444444444,
              "#bd3786"
             ],
             [
              0.5555555555555556,
              "#d8576b"
             ],
             [
              0.6666666666666666,
              "#ed7953"
             ],
             [
              0.7777777777777778,
              "#fb9f3a"
             ],
             [
              0.8888888888888888,
              "#fdca26"
             ],
             [
              1,
              "#f0f921"
             ]
            ],
            "type": "histogram2d"
           }
          ],
          "histogram2dcontour": [
           {
            "colorbar": {
             "outlinewidth": 0,
             "ticks": ""
            },
            "colorscale": [
             [
              0,
              "#0d0887"
             ],
             [
              0.1111111111111111,
              "#46039f"
             ],
             [
              0.2222222222222222,
              "#7201a8"
             ],
             [
              0.3333333333333333,
              "#9c179e"
             ],
             [
              0.4444444444444444,
              "#bd3786"
             ],
             [
              0.5555555555555556,
              "#d8576b"
             ],
             [
              0.6666666666666666,
              "#ed7953"
             ],
             [
              0.7777777777777778,
              "#fb9f3a"
             ],
             [
              0.8888888888888888,
              "#fdca26"
             ],
             [
              1,
              "#f0f921"
             ]
            ],
            "type": "histogram2dcontour"
           }
          ],
          "mesh3d": [
           {
            "colorbar": {
             "outlinewidth": 0,
             "ticks": ""
            },
            "type": "mesh3d"
           }
          ],
          "parcoords": [
           {
            "line": {
             "colorbar": {
              "outlinewidth": 0,
              "ticks": ""
             }
            },
            "type": "parcoords"
           }
          ],
          "pie": [
           {
            "automargin": true,
            "type": "pie"
           }
          ],
          "scatter": [
           {
            "marker": {
             "colorbar": {
              "outlinewidth": 0,
              "ticks": ""
             }
            },
            "type": "scatter"
           }
          ],
          "scatter3d": [
           {
            "line": {
             "colorbar": {
              "outlinewidth": 0,
              "ticks": ""
             }
            },
            "marker": {
             "colorbar": {
              "outlinewidth": 0,
              "ticks": ""
             }
            },
            "type": "scatter3d"
           }
          ],
          "scattercarpet": [
           {
            "marker": {
             "colorbar": {
              "outlinewidth": 0,
              "ticks": ""
             }
            },
            "type": "scattercarpet"
           }
          ],
          "scattergeo": [
           {
            "marker": {
             "colorbar": {
              "outlinewidth": 0,
              "ticks": ""
             }
            },
            "type": "scattergeo"
           }
          ],
          "scattergl": [
           {
            "marker": {
             "colorbar": {
              "outlinewidth": 0,
              "ticks": ""
             }
            },
            "type": "scattergl"
           }
          ],
          "scattermapbox": [
           {
            "marker": {
             "colorbar": {
              "outlinewidth": 0,
              "ticks": ""
             }
            },
            "type": "scattermapbox"
           }
          ],
          "scatterpolar": [
           {
            "marker": {
             "colorbar": {
              "outlinewidth": 0,
              "ticks": ""
             }
            },
            "type": "scatterpolar"
           }
          ],
          "scatterpolargl": [
           {
            "marker": {
             "colorbar": {
              "outlinewidth": 0,
              "ticks": ""
             }
            },
            "type": "scatterpolargl"
           }
          ],
          "scatterternary": [
           {
            "marker": {
             "colorbar": {
              "outlinewidth": 0,
              "ticks": ""
             }
            },
            "type": "scatterternary"
           }
          ],
          "surface": [
           {
            "colorbar": {
             "outlinewidth": 0,
             "ticks": ""
            },
            "colorscale": [
             [
              0,
              "#0d0887"
             ],
             [
              0.1111111111111111,
              "#46039f"
             ],
             [
              0.2222222222222222,
              "#7201a8"
             ],
             [
              0.3333333333333333,
              "#9c179e"
             ],
             [
              0.4444444444444444,
              "#bd3786"
             ],
             [
              0.5555555555555556,
              "#d8576b"
             ],
             [
              0.6666666666666666,
              "#ed7953"
             ],
             [
              0.7777777777777778,
              "#fb9f3a"
             ],
             [
              0.8888888888888888,
              "#fdca26"
             ],
             [
              1,
              "#f0f921"
             ]
            ],
            "type": "surface"
           }
          ],
          "table": [
           {
            "cells": {
             "fill": {
              "color": "#EBF0F8"
             },
             "line": {
              "color": "white"
             }
            },
            "header": {
             "fill": {
              "color": "#C8D4E3"
             },
             "line": {
              "color": "white"
             }
            },
            "type": "table"
           }
          ]
         },
         "layout": {
          "annotationdefaults": {
           "arrowcolor": "#2a3f5f",
           "arrowhead": 0,
           "arrowwidth": 1
          },
          "autotypenumbers": "strict",
          "coloraxis": {
           "colorbar": {
            "outlinewidth": 0,
            "ticks": ""
           }
          },
          "colorscale": {
           "diverging": [
            [
             0,
             "#8e0152"
            ],
            [
             0.1,
             "#c51b7d"
            ],
            [
             0.2,
             "#de77ae"
            ],
            [
             0.3,
             "#f1b6da"
            ],
            [
             0.4,
             "#fde0ef"
            ],
            [
             0.5,
             "#f7f7f7"
            ],
            [
             0.6,
             "#e6f5d0"
            ],
            [
             0.7,
             "#b8e186"
            ],
            [
             0.8,
             "#7fbc41"
            ],
            [
             0.9,
             "#4d9221"
            ],
            [
             1,
             "#276419"
            ]
           ],
           "sequential": [
            [
             0,
             "#0d0887"
            ],
            [
             0.1111111111111111,
             "#46039f"
            ],
            [
             0.2222222222222222,
             "#7201a8"
            ],
            [
             0.3333333333333333,
             "#9c179e"
            ],
            [
             0.4444444444444444,
             "#bd3786"
            ],
            [
             0.5555555555555556,
             "#d8576b"
            ],
            [
             0.6666666666666666,
             "#ed7953"
            ],
            [
             0.7777777777777778,
             "#fb9f3a"
            ],
            [
             0.8888888888888888,
             "#fdca26"
            ],
            [
             1,
             "#f0f921"
            ]
           ],
           "sequentialminus": [
            [
             0,
             "#0d0887"
            ],
            [
             0.1111111111111111,
             "#46039f"
            ],
            [
             0.2222222222222222,
             "#7201a8"
            ],
            [
             0.3333333333333333,
             "#9c179e"
            ],
            [
             0.4444444444444444,
             "#bd3786"
            ],
            [
             0.5555555555555556,
             "#d8576b"
            ],
            [
             0.6666666666666666,
             "#ed7953"
            ],
            [
             0.7777777777777778,
             "#fb9f3a"
            ],
            [
             0.8888888888888888,
             "#fdca26"
            ],
            [
             1,
             "#f0f921"
            ]
           ]
          },
          "colorway": [
           "#636efa",
           "#EF553B",
           "#00cc96",
           "#ab63fa",
           "#FFA15A",
           "#19d3f3",
           "#FF6692",
           "#B6E880",
           "#FF97FF",
           "#FECB52"
          ],
          "font": {
           "color": "#2a3f5f"
          },
          "geo": {
           "bgcolor": "white",
           "lakecolor": "white",
           "landcolor": "#E5ECF6",
           "showlakes": true,
           "showland": true,
           "subunitcolor": "white"
          },
          "hoverlabel": {
           "align": "left"
          },
          "hovermode": "closest",
          "mapbox": {
           "style": "light"
          },
          "paper_bgcolor": "white",
          "plot_bgcolor": "#E5ECF6",
          "polar": {
           "angularaxis": {
            "gridcolor": "white",
            "linecolor": "white",
            "ticks": ""
           },
           "bgcolor": "#E5ECF6",
           "radialaxis": {
            "gridcolor": "white",
            "linecolor": "white",
            "ticks": ""
           }
          },
          "scene": {
           "xaxis": {
            "backgroundcolor": "#E5ECF6",
            "gridcolor": "white",
            "gridwidth": 2,
            "linecolor": "white",
            "showbackground": true,
            "ticks": "",
            "zerolinecolor": "white"
           },
           "yaxis": {
            "backgroundcolor": "#E5ECF6",
            "gridcolor": "white",
            "gridwidth": 2,
            "linecolor": "white",
            "showbackground": true,
            "ticks": "",
            "zerolinecolor": "white"
           },
           "zaxis": {
            "backgroundcolor": "#E5ECF6",
            "gridcolor": "white",
            "gridwidth": 2,
            "linecolor": "white",
            "showbackground": true,
            "ticks": "",
            "zerolinecolor": "white"
           }
          },
          "shapedefaults": {
           "line": {
            "color": "#2a3f5f"
           }
          },
          "ternary": {
           "aaxis": {
            "gridcolor": "white",
            "linecolor": "white",
            "ticks": ""
           },
           "baxis": {
            "gridcolor": "white",
            "linecolor": "white",
            "ticks": ""
           },
           "bgcolor": "#E5ECF6",
           "caxis": {
            "gridcolor": "white",
            "linecolor": "white",
            "ticks": ""
           }
          },
          "title": {
           "x": 0.05
          },
          "xaxis": {
           "automargin": true,
           "gridcolor": "white",
           "linecolor": "white",
           "ticks": "",
           "title": {
            "standoff": 15
           },
           "zerolinecolor": "white",
           "zerolinewidth": 2
          },
          "yaxis": {
           "automargin": true,
           "gridcolor": "white",
           "linecolor": "white",
           "ticks": "",
           "title": {
            "standoff": 15
           },
           "zerolinecolor": "white",
           "zerolinewidth": 2
          }
         }
        },
        "title": {
         "text": "California Confirmed Cases Total"
        },
        "xaxis": {
         "anchor": "y",
         "domain": [
          0,
          1
         ],
         "title": {
          "text": "Date"
         }
        },
        "yaxis": {
         "anchor": "x",
         "domain": [
          0,
          1
         ],
         "title": {
          "text": "Total Numbers"
         }
        }
       }
      }
     },
     "metadata": {}
    }
   ],
   "source": [
    "def filter_US(state, df, title=None):\n",
    "\n",
    "    # Grouping by state, so let's add them up\n",
    "    df=df.groupby(by='State').sum()\n",
    "    \n",
    "    # Sum of confirmed daily cases country-wide\n",
    "    if state.lower() == 'all':\n",
    "        column_list = df.columns.tolist()\n",
    "\n",
    "        column_list = column_list[3:]\n",
    "        dates = []\n",
    "\n",
    "        for i in column_list:\n",
    "            dates.append(pd.to_datetime(i))\n",
    "        dates_series = pd.Series(dates)\n",
    "\n",
    "        confirmed_series = df[5:].sum(axis=0)\n",
    "        \n",
    "        confirmed_series = confirmed_series[3:]\n",
    "\n",
    "        fig = px.line(x = dates_series, y=confirmed_series)\n",
    "        fig.update_xaxes(title=\"Date\")\n",
    "        fig.update_yaxes(title=\"Total Numbers\")\n",
    "        fig.update_layout(title={\"text\":title})\n",
    "        fig.show()\n",
    "\n",
    "    elif state not in df.index:\n",
    "        print(\"State data not found. Try again.\")\n",
    "    \n",
    "    else:\n",
    "        column_list = df.columns.tolist()[2:]\n",
    "\n",
    "        dates = []\n",
    "\n",
    "        for i in column_list:\n",
    "            dates.append(pd.to_datetime(i))\n",
    "\n",
    "        dates_series = pd.Series(dates)\n",
    "\n",
    "        confirmed_series = df.loc[state]\n",
    "        confirmed_series = confirmed_series[2:]\n",
    "\n",
    "        fig = px.line(x = dates_series, y=confirmed_series)\n",
    "        fig.update_xaxes(title=\"Date\")\n",
    "        fig.update_yaxes(title=\"Total Numbers\")\n",
    "        fig.update_layout(title={\"text\":title})\n",
    "        fig.show()\n",
    "\n",
    "filter_US('California', df_time_confirmed_US, \"California Confirmed Cases Total\")"
   ]
  },
  {
   "cell_type": "code",
   "execution_count": 13,
   "metadata": {},
   "outputs": [
    {
     "output_type": "display_data",
     "data": {
      "application/vnd.plotly.v1+json": {
       "config": {
        "plotlyServerURL": "https://plot.ly"
       },
       "data": [
        {
         "hovertemplate": "x=%{x}<br>y=%{y}<extra></extra>",
         "legendgroup": "",
         "line": {
          "color": "#636efa",
          "dash": "solid"
         },
         "mode": "lines",
         "name": "",
         "orientation": "v",
         "showlegend": false,
         "type": "scatter",
         "x": [
          "2020-01-23T00:00:00",
          "2020-01-24T00:00:00",
          "2020-01-25T00:00:00",
          "2020-01-26T00:00:00",
          "2020-01-27T00:00:00",
          "2020-01-28T00:00:00",
          "2020-01-29T00:00:00",
          "2020-01-30T00:00:00",
          "2020-01-31T00:00:00",
          "2020-02-01T00:00:00",
          "2020-02-02T00:00:00",
          "2020-02-03T00:00:00",
          "2020-02-04T00:00:00",
          "2020-02-05T00:00:00",
          "2020-02-06T00:00:00",
          "2020-02-07T00:00:00",
          "2020-02-08T00:00:00",
          "2020-02-09T00:00:00",
          "2020-02-10T00:00:00",
          "2020-02-11T00:00:00",
          "2020-02-12T00:00:00",
          "2020-02-13T00:00:00",
          "2020-02-14T00:00:00",
          "2020-02-15T00:00:00",
          "2020-02-16T00:00:00",
          "2020-02-17T00:00:00",
          "2020-02-18T00:00:00",
          "2020-02-19T00:00:00",
          "2020-02-20T00:00:00",
          "2020-02-21T00:00:00",
          "2020-02-22T00:00:00",
          "2020-02-23T00:00:00",
          "2020-02-24T00:00:00",
          "2020-02-25T00:00:00",
          "2020-02-26T00:00:00",
          "2020-02-27T00:00:00",
          "2020-02-28T00:00:00",
          "2020-02-29T00:00:00",
          "2020-03-01T00:00:00",
          "2020-03-02T00:00:00",
          "2020-03-03T00:00:00",
          "2020-03-04T00:00:00",
          "2020-03-05T00:00:00",
          "2020-03-06T00:00:00",
          "2020-03-07T00:00:00",
          "2020-03-08T00:00:00",
          "2020-03-09T00:00:00",
          "2020-03-10T00:00:00",
          "2020-03-11T00:00:00",
          "2020-03-12T00:00:00",
          "2020-03-13T00:00:00",
          "2020-03-14T00:00:00",
          "2020-03-15T00:00:00",
          "2020-03-16T00:00:00",
          "2020-03-17T00:00:00",
          "2020-03-18T00:00:00",
          "2020-03-19T00:00:00",
          "2020-03-20T00:00:00",
          "2020-03-21T00:00:00",
          "2020-03-22T00:00:00",
          "2020-03-23T00:00:00",
          "2020-03-24T00:00:00",
          "2020-03-25T00:00:00",
          "2020-03-26T00:00:00",
          "2020-03-27T00:00:00",
          "2020-03-28T00:00:00",
          "2020-03-29T00:00:00",
          "2020-03-30T00:00:00",
          "2020-03-31T00:00:00",
          "2020-04-01T00:00:00",
          "2020-04-02T00:00:00",
          "2020-04-03T00:00:00",
          "2020-04-04T00:00:00",
          "2020-04-05T00:00:00",
          "2020-04-06T00:00:00",
          "2020-04-07T00:00:00",
          "2020-04-08T00:00:00",
          "2020-04-09T00:00:00",
          "2020-04-10T00:00:00",
          "2020-04-11T00:00:00",
          "2020-04-12T00:00:00",
          "2020-04-13T00:00:00",
          "2020-04-14T00:00:00",
          "2020-04-15T00:00:00",
          "2020-04-16T00:00:00",
          "2020-04-17T00:00:00",
          "2020-04-18T00:00:00",
          "2020-04-19T00:00:00",
          "2020-04-20T00:00:00",
          "2020-04-21T00:00:00",
          "2020-04-22T00:00:00",
          "2020-04-23T00:00:00",
          "2020-04-24T00:00:00",
          "2020-04-25T00:00:00",
          "2020-04-26T00:00:00",
          "2020-04-27T00:00:00",
          "2020-04-28T00:00:00",
          "2020-04-29T00:00:00",
          "2020-04-30T00:00:00",
          "2020-05-01T00:00:00",
          "2020-05-02T00:00:00",
          "2020-05-03T00:00:00",
          "2020-05-04T00:00:00",
          "2020-05-05T00:00:00",
          "2020-05-06T00:00:00",
          "2020-05-07T00:00:00",
          "2020-05-08T00:00:00",
          "2020-05-09T00:00:00",
          "2020-05-10T00:00:00",
          "2020-05-11T00:00:00",
          "2020-05-12T00:00:00",
          "2020-05-13T00:00:00",
          "2020-05-14T00:00:00",
          "2020-05-15T00:00:00",
          "2020-05-16T00:00:00",
          "2020-05-17T00:00:00",
          "2020-05-18T00:00:00",
          "2020-05-19T00:00:00",
          "2020-05-20T00:00:00",
          "2020-05-21T00:00:00",
          "2020-05-22T00:00:00",
          "2020-05-23T00:00:00",
          "2020-05-24T00:00:00",
          "2020-05-25T00:00:00",
          "2020-05-26T00:00:00",
          "2020-05-27T00:00:00",
          "2020-05-28T00:00:00",
          "2020-05-29T00:00:00",
          "2020-05-30T00:00:00",
          "2020-05-31T00:00:00",
          "2020-06-01T00:00:00",
          "2020-06-02T00:00:00",
          "2020-06-03T00:00:00",
          "2020-06-04T00:00:00",
          "2020-06-05T00:00:00",
          "2020-06-06T00:00:00",
          "2020-06-07T00:00:00",
          "2020-06-08T00:00:00",
          "2020-06-09T00:00:00",
          "2020-06-10T00:00:00",
          "2020-06-11T00:00:00",
          "2020-06-12T00:00:00",
          "2020-06-13T00:00:00",
          "2020-06-14T00:00:00",
          "2020-06-15T00:00:00",
          "2020-06-16T00:00:00",
          "2020-06-17T00:00:00",
          "2020-06-18T00:00:00",
          "2020-06-19T00:00:00",
          "2020-06-20T00:00:00",
          "2020-06-21T00:00:00",
          "2020-06-22T00:00:00",
          "2020-06-23T00:00:00",
          "2020-06-24T00:00:00",
          "2020-06-25T00:00:00",
          "2020-06-26T00:00:00",
          "2020-06-27T00:00:00",
          "2020-06-28T00:00:00",
          "2020-06-29T00:00:00",
          "2020-06-30T00:00:00",
          "2020-07-01T00:00:00",
          "2020-07-02T00:00:00",
          "2020-07-03T00:00:00",
          "2020-07-04T00:00:00",
          "2020-07-05T00:00:00",
          "2020-07-06T00:00:00",
          "2020-07-07T00:00:00",
          "2020-07-08T00:00:00",
          "2020-07-09T00:00:00",
          "2020-07-10T00:00:00",
          "2020-07-11T00:00:00",
          "2020-07-12T00:00:00",
          "2020-07-13T00:00:00",
          "2020-07-14T00:00:00",
          "2020-07-15T00:00:00",
          "2020-07-16T00:00:00",
          "2020-07-17T00:00:00",
          "2020-07-18T00:00:00",
          "2020-07-19T00:00:00",
          "2020-07-20T00:00:00",
          "2020-07-21T00:00:00",
          "2020-07-22T00:00:00",
          "2020-07-23T00:00:00",
          "2020-07-24T00:00:00",
          "2020-07-25T00:00:00",
          "2020-07-26T00:00:00",
          "2020-07-27T00:00:00",
          "2020-07-28T00:00:00",
          "2020-07-29T00:00:00",
          "2020-07-30T00:00:00",
          "2020-07-31T00:00:00",
          "2020-08-01T00:00:00",
          "2020-08-02T00:00:00",
          "2020-08-03T00:00:00",
          "2020-08-04T00:00:00",
          "2020-08-05T00:00:00",
          "2020-08-06T00:00:00",
          "2020-08-07T00:00:00",
          "2020-08-08T00:00:00",
          "2020-08-09T00:00:00",
          "2020-08-10T00:00:00",
          "2020-08-11T00:00:00",
          "2020-08-12T00:00:00",
          "2020-08-13T00:00:00",
          "2020-08-14T00:00:00",
          "2020-08-15T00:00:00",
          "2020-08-16T00:00:00",
          "2020-08-17T00:00:00",
          "2020-08-18T00:00:00",
          "2020-08-19T00:00:00",
          "2020-08-20T00:00:00",
          "2020-08-21T00:00:00",
          "2020-08-22T00:00:00",
          "2020-08-23T00:00:00",
          "2020-08-24T00:00:00",
          "2020-08-25T00:00:00",
          "2020-08-26T00:00:00",
          "2020-08-27T00:00:00",
          "2020-08-28T00:00:00",
          "2020-08-29T00:00:00",
          "2020-08-30T00:00:00",
          "2020-08-31T00:00:00",
          "2020-09-01T00:00:00",
          "2020-09-02T00:00:00",
          "2020-09-03T00:00:00",
          "2020-09-04T00:00:00",
          "2020-09-05T00:00:00",
          "2020-09-06T00:00:00",
          "2020-09-07T00:00:00",
          "2020-09-08T00:00:00",
          "2020-09-09T00:00:00",
          "2020-09-10T00:00:00",
          "2020-09-11T00:00:00",
          "2020-09-12T00:00:00",
          "2020-09-13T00:00:00",
          "2020-09-14T00:00:00",
          "2020-09-15T00:00:00",
          "2020-09-16T00:00:00",
          "2020-09-17T00:00:00",
          "2020-09-18T00:00:00",
          "2020-09-19T00:00:00",
          "2020-09-20T00:00:00",
          "2020-09-21T00:00:00",
          "2020-09-22T00:00:00",
          "2020-09-23T00:00:00",
          "2020-09-24T00:00:00",
          "2020-09-25T00:00:00",
          "2020-09-26T00:00:00",
          "2020-09-27T00:00:00",
          "2020-09-28T00:00:00",
          "2020-09-29T00:00:00",
          "2020-09-30T00:00:00",
          "2020-10-01T00:00:00",
          "2020-10-02T00:00:00",
          "2020-10-03T00:00:00",
          "2020-10-04T00:00:00",
          "2020-10-05T00:00:00",
          "2020-10-06T00:00:00",
          "2020-10-07T00:00:00",
          "2020-10-08T00:00:00",
          "2020-10-09T00:00:00",
          "2020-10-10T00:00:00",
          "2020-10-11T00:00:00",
          "2020-10-12T00:00:00",
          "2020-10-13T00:00:00",
          "2020-10-14T00:00:00",
          "2020-10-15T00:00:00",
          "2020-10-16T00:00:00",
          "2020-10-17T00:00:00",
          "2020-10-18T00:00:00",
          "2020-10-19T00:00:00",
          "2020-10-20T00:00:00",
          "2020-10-21T00:00:00",
          "2020-10-22T00:00:00",
          "2020-10-23T00:00:00",
          "2020-10-24T00:00:00",
          "2020-10-25T00:00:00",
          "2020-10-26T00:00:00",
          "2020-10-27T00:00:00",
          "2020-10-28T00:00:00",
          "2020-10-29T00:00:00",
          "2020-10-30T00:00:00",
          "2020-10-31T00:00:00",
          "2020-11-01T00:00:00",
          "2020-11-02T00:00:00",
          "2020-11-03T00:00:00",
          "2020-11-04T00:00:00",
          "2020-11-05T00:00:00",
          "2020-11-06T00:00:00",
          "2020-11-07T00:00:00",
          "2020-11-08T00:00:00",
          "2020-11-09T00:00:00",
          "2020-11-10T00:00:00",
          "2020-11-11T00:00:00",
          "2020-11-12T00:00:00",
          "2020-11-13T00:00:00",
          "2020-11-14T00:00:00",
          "2020-11-15T00:00:00",
          "2020-11-16T00:00:00",
          "2020-11-17T00:00:00",
          "2020-11-18T00:00:00",
          "2020-11-19T00:00:00",
          "2020-11-20T00:00:00",
          "2020-11-21T00:00:00",
          "2020-11-22T00:00:00",
          "2020-11-23T00:00:00",
          "2020-11-24T00:00:00",
          "2020-11-25T00:00:00",
          "2020-11-26T00:00:00",
          "2020-11-27T00:00:00",
          "2020-11-28T00:00:00",
          "2020-11-29T00:00:00",
          "2020-11-30T00:00:00",
          "2020-12-01T00:00:00",
          "2020-12-02T00:00:00",
          "2020-12-03T00:00:00",
          "2020-12-04T00:00:00",
          "2020-12-05T00:00:00",
          "2020-12-06T00:00:00",
          "2020-12-07T00:00:00",
          "2020-12-08T00:00:00",
          "2020-12-09T00:00:00",
          "2020-12-10T00:00:00",
          "2020-12-11T00:00:00",
          "2020-12-12T00:00:00",
          "2020-12-13T00:00:00",
          "2020-12-14T00:00:00",
          "2020-12-15T00:00:00",
          "2020-12-16T00:00:00",
          "2020-12-17T00:00:00",
          "2020-12-18T00:00:00",
          "2020-12-19T00:00:00",
          "2020-12-20T00:00:00",
          "2020-12-21T00:00:00",
          "2020-12-22T00:00:00",
          "2020-12-23T00:00:00",
          "2020-12-24T00:00:00",
          "2020-12-25T00:00:00",
          "2020-12-26T00:00:00",
          "2020-12-27T00:00:00",
          "2020-12-28T00:00:00",
          "2020-12-29T00:00:00",
          "2020-12-30T00:00:00",
          "2020-12-31T00:00:00",
          "2021-01-01T00:00:00",
          "2021-01-02T00:00:00",
          "2021-01-03T00:00:00",
          "2021-01-04T00:00:00",
          "2021-01-05T00:00:00",
          "2021-01-06T00:00:00",
          "2021-01-07T00:00:00",
          "2021-01-08T00:00:00",
          "2021-01-09T00:00:00",
          "2021-01-10T00:00:00",
          "2021-01-11T00:00:00",
          "2021-01-12T00:00:00",
          "2021-01-13T00:00:00",
          "2021-01-14T00:00:00",
          "2021-01-15T00:00:00",
          "2021-01-16T00:00:00",
          "2021-01-17T00:00:00",
          "2021-01-18T00:00:00",
          "2021-01-19T00:00:00"
         ],
         "xaxis": "x",
         "y": [
          0,
          1,
          0,
          2,
          0,
          0,
          1,
          0,
          2,
          0,
          0,
          3,
          0,
          0,
          1,
          0,
          0,
          0,
          0,
          1,
          0,
          1,
          0,
          0,
          0,
          0,
          0,
          0,
          0,
          2,
          0,
          0,
          0,
          0,
          0,
          1,
          0,
          8,
          7,
          23,
          19,
          33,
          77,
          52,
          164,
          116,
          75,
          181,
          367,
          403,
          557,
          754,
          334,
          1417,
          1771,
          2632,
          3942,
          5730,
          6410,
          8552,
          10494,
          10423,
          11398,
          16129,
          18150,
          18699,
          17754,
          20439,
          26309,
          30266,
          31429,
          31563,
          33191,
          29146,
          30804,
          31241,
          30854,
          35258,
          34139,
          27954,
          26545,
          26259,
          27522,
          26223,
          29636,
          32232,
          27077,
          26118,
          29288,
          22441,
          29910,
          32897,
          31743,
          30599,
          25744,
          23119,
          24049,
          25884,
          28642,
          33732,
          26281,
          23830,
          23266,
          23701,
          23728,
          26219,
          25647,
          24402,
          17533,
          20074,
          21506,
          19689,
          25560,
          23512,
          22481,
          17225,
          20446,
          20018,
          22280,
          24077,
          22577,
          19962,
          18992,
          18189,
          18819,
          17250,
          21463,
          22846,
          21660,
          16854,
          16759,
          19082,
          18310,
          20163,
          22818,
          19278,
          15237,
          16998,
          16528,
          18383,
          20378,
          21123,
          21558,
          16256,
          18074,
          20271,
          23682,
          24278,
          26903,
          26691,
          21650,
          28668,
          30834,
          31524,
          34053,
          39879,
          36437,
          33412,
          36984,
          41298,
          44401,
          47863,
          47114,
          41620,
          45378,
          38167,
          53487,
          53357,
          55615,
          61150,
          54845,
          52833,
          54402,
          59791,
          62576,
          69140,
          64426,
          55859,
          54755,
          56560,
          59398,
          64787,
          63286,
          65774,
          58697,
          49420,
          50994,
          61349,
          67480,
          62075,
          62383,
          50235,
          41676,
          42001,
          55752,
          50227,
          55246,
          53980,
          50897,
          42189,
          45569,
          44189,
          55300,
          48381,
          62974,
          45302,
          37216,
          33829,
          42275,
          45425,
          41934,
          45408,
          40996,
          32904,
          34950,
          36528,
          43406,
          42425,
          43421,
          39964,
          32547,
          32929,
          40145,
          39270,
          40571,
          46510,
          40708,
          29140,
          22030,
          25497,
          33064,
          35293,
          44650,
          37338,
          32630,
          32208,
          36290,
          36503,
          41079,
          45131,
          39291,
          36159,
          49120,
          37611,
          36738,
          42874,
          46087,
          42523,
          35753,
          30843,
          40135,
          36679,
          42595,
          51442,
          46242,
          34282,
          36846,
          42133,
          48252,
          54289,
          52590,
          52277,
          43654,
          38906,
          48980,
          56893,
          60538,
          64918,
          53427,
          47154,
          63103,
          58498,
          59693,
          68957,
          75143,
          79329,
          58945,
          62968,
          71848,
          76230,
          85536,
          91676,
          83866,
          100799,
          80227,
          121404,
          101300,
          122155,
          126845,
          119890,
          109821,
          112058,
          133872,
          141214,
          154858,
          167839,
          158382,
          129125,
          160574,
          154588,
          167124,
          178832,
          186694,
          168434,
          137879,
          164775,
          161965,
          179059,
          102922,
          197695,
          144591,
          133266,
          150123,
          167468,
          191721,
          206559,
          213723,
          199670,
          171226,
          181743,
          199517,
          215794,
          214575,
          220263,
          199354,
          176350,
          170448,
          195342,
          238966,
          220201,
          232527,
          179388,
          177876,
          181781,
          179069,
          218232,
          178700,
          88548,
          213933,
          151243,
          152966,
          183793,
          219392,
          214681,
          139255,
          278247,
          186120,
          166193,
          212347,
          238673,
          253785,
          270101,
          243730,
          197516,
          197206,
          208810,
          222937,
          219588,
          224188,
          187754,
          166928,
          133718,
          151727
         ],
         "yaxis": "y"
        }
       ],
       "layout": {
        "legend": {
         "tracegroupgap": 0
        },
        "margin": {
         "t": 60
        },
        "template": {
         "data": {
          "bar": [
           {
            "error_x": {
             "color": "#2a3f5f"
            },
            "error_y": {
             "color": "#2a3f5f"
            },
            "marker": {
             "line": {
              "color": "#E5ECF6",
              "width": 0.5
             }
            },
            "type": "bar"
           }
          ],
          "barpolar": [
           {
            "marker": {
             "line": {
              "color": "#E5ECF6",
              "width": 0.5
             }
            },
            "type": "barpolar"
           }
          ],
          "carpet": [
           {
            "aaxis": {
             "endlinecolor": "#2a3f5f",
             "gridcolor": "white",
             "linecolor": "white",
             "minorgridcolor": "white",
             "startlinecolor": "#2a3f5f"
            },
            "baxis": {
             "endlinecolor": "#2a3f5f",
             "gridcolor": "white",
             "linecolor": "white",
             "minorgridcolor": "white",
             "startlinecolor": "#2a3f5f"
            },
            "type": "carpet"
           }
          ],
          "choropleth": [
           {
            "colorbar": {
             "outlinewidth": 0,
             "ticks": ""
            },
            "type": "choropleth"
           }
          ],
          "contour": [
           {
            "colorbar": {
             "outlinewidth": 0,
             "ticks": ""
            },
            "colorscale": [
             [
              0,
              "#0d0887"
             ],
             [
              0.1111111111111111,
              "#46039f"
             ],
             [
              0.2222222222222222,
              "#7201a8"
             ],
             [
              0.3333333333333333,
              "#9c179e"
             ],
             [
              0.4444444444444444,
              "#bd3786"
             ],
             [
              0.5555555555555556,
              "#d8576b"
             ],
             [
              0.6666666666666666,
              "#ed7953"
             ],
             [
              0.7777777777777778,
              "#fb9f3a"
             ],
             [
              0.8888888888888888,
              "#fdca26"
             ],
             [
              1,
              "#f0f921"
             ]
            ],
            "type": "contour"
           }
          ],
          "contourcarpet": [
           {
            "colorbar": {
             "outlinewidth": 0,
             "ticks": ""
            },
            "type": "contourcarpet"
           }
          ],
          "heatmap": [
           {
            "colorbar": {
             "outlinewidth": 0,
             "ticks": ""
            },
            "colorscale": [
             [
              0,
              "#0d0887"
             ],
             [
              0.1111111111111111,
              "#46039f"
             ],
             [
              0.2222222222222222,
              "#7201a8"
             ],
             [
              0.3333333333333333,
              "#9c179e"
             ],
             [
              0.4444444444444444,
              "#bd3786"
             ],
             [
              0.5555555555555556,
              "#d8576b"
             ],
             [
              0.6666666666666666,
              "#ed7953"
             ],
             [
              0.7777777777777778,
              "#fb9f3a"
             ],
             [
              0.8888888888888888,
              "#fdca26"
             ],
             [
              1,
              "#f0f921"
             ]
            ],
            "type": "heatmap"
           }
          ],
          "heatmapgl": [
           {
            "colorbar": {
             "outlinewidth": 0,
             "ticks": ""
            },
            "colorscale": [
             [
              0,
              "#0d0887"
             ],
             [
              0.1111111111111111,
              "#46039f"
             ],
             [
              0.2222222222222222,
              "#7201a8"
             ],
             [
              0.3333333333333333,
              "#9c179e"
             ],
             [
              0.4444444444444444,
              "#bd3786"
             ],
             [
              0.5555555555555556,
              "#d8576b"
             ],
             [
              0.6666666666666666,
              "#ed7953"
             ],
             [
              0.7777777777777778,
              "#fb9f3a"
             ],
             [
              0.8888888888888888,
              "#fdca26"
             ],
             [
              1,
              "#f0f921"
             ]
            ],
            "type": "heatmapgl"
           }
          ],
          "histogram": [
           {
            "marker": {
             "colorbar": {
              "outlinewidth": 0,
              "ticks": ""
             }
            },
            "type": "histogram"
           }
          ],
          "histogram2d": [
           {
            "colorbar": {
             "outlinewidth": 0,
             "ticks": ""
            },
            "colorscale": [
             [
              0,
              "#0d0887"
             ],
             [
              0.1111111111111111,
              "#46039f"
             ],
             [
              0.2222222222222222,
              "#7201a8"
             ],
             [
              0.3333333333333333,
              "#9c179e"
             ],
             [
              0.4444444444444444,
              "#bd3786"
             ],
             [
              0.5555555555555556,
              "#d8576b"
             ],
             [
              0.6666666666666666,
              "#ed7953"
             ],
             [
              0.7777777777777778,
              "#fb9f3a"
             ],
             [
              0.8888888888888888,
              "#fdca26"
             ],
             [
              1,
              "#f0f921"
             ]
            ],
            "type": "histogram2d"
           }
          ],
          "histogram2dcontour": [
           {
            "colorbar": {
             "outlinewidth": 0,
             "ticks": ""
            },
            "colorscale": [
             [
              0,
              "#0d0887"
             ],
             [
              0.1111111111111111,
              "#46039f"
             ],
             [
              0.2222222222222222,
              "#7201a8"
             ],
             [
              0.3333333333333333,
              "#9c179e"
             ],
             [
              0.4444444444444444,
              "#bd3786"
             ],
             [
              0.5555555555555556,
              "#d8576b"
             ],
             [
              0.6666666666666666,
              "#ed7953"
             ],
             [
              0.7777777777777778,
              "#fb9f3a"
             ],
             [
              0.8888888888888888,
              "#fdca26"
             ],
             [
              1,
              "#f0f921"
             ]
            ],
            "type": "histogram2dcontour"
           }
          ],
          "mesh3d": [
           {
            "colorbar": {
             "outlinewidth": 0,
             "ticks": ""
            },
            "type": "mesh3d"
           }
          ],
          "parcoords": [
           {
            "line": {
             "colorbar": {
              "outlinewidth": 0,
              "ticks": ""
             }
            },
            "type": "parcoords"
           }
          ],
          "pie": [
           {
            "automargin": true,
            "type": "pie"
           }
          ],
          "scatter": [
           {
            "marker": {
             "colorbar": {
              "outlinewidth": 0,
              "ticks": ""
             }
            },
            "type": "scatter"
           }
          ],
          "scatter3d": [
           {
            "line": {
             "colorbar": {
              "outlinewidth": 0,
              "ticks": ""
             }
            },
            "marker": {
             "colorbar": {
              "outlinewidth": 0,
              "ticks": ""
             }
            },
            "type": "scatter3d"
           }
          ],
          "scattercarpet": [
           {
            "marker": {
             "colorbar": {
              "outlinewidth": 0,
              "ticks": ""
             }
            },
            "type": "scattercarpet"
           }
          ],
          "scattergeo": [
           {
            "marker": {
             "colorbar": {
              "outlinewidth": 0,
              "ticks": ""
             }
            },
            "type": "scattergeo"
           }
          ],
          "scattergl": [
           {
            "marker": {
             "colorbar": {
              "outlinewidth": 0,
              "ticks": ""
             }
            },
            "type": "scattergl"
           }
          ],
          "scattermapbox": [
           {
            "marker": {
             "colorbar": {
              "outlinewidth": 0,
              "ticks": ""
             }
            },
            "type": "scattermapbox"
           }
          ],
          "scatterpolar": [
           {
            "marker": {
             "colorbar": {
              "outlinewidth": 0,
              "ticks": ""
             }
            },
            "type": "scatterpolar"
           }
          ],
          "scatterpolargl": [
           {
            "marker": {
             "colorbar": {
              "outlinewidth": 0,
              "ticks": ""
             }
            },
            "type": "scatterpolargl"
           }
          ],
          "scatterternary": [
           {
            "marker": {
             "colorbar": {
              "outlinewidth": 0,
              "ticks": ""
             }
            },
            "type": "scatterternary"
           }
          ],
          "surface": [
           {
            "colorbar": {
             "outlinewidth": 0,
             "ticks": ""
            },
            "colorscale": [
             [
              0,
              "#0d0887"
             ],
             [
              0.1111111111111111,
              "#46039f"
             ],
             [
              0.2222222222222222,
              "#7201a8"
             ],
             [
              0.3333333333333333,
              "#9c179e"
             ],
             [
              0.4444444444444444,
              "#bd3786"
             ],
             [
              0.5555555555555556,
              "#d8576b"
             ],
             [
              0.6666666666666666,
              "#ed7953"
             ],
             [
              0.7777777777777778,
              "#fb9f3a"
             ],
             [
              0.8888888888888888,
              "#fdca26"
             ],
             [
              1,
              "#f0f921"
             ]
            ],
            "type": "surface"
           }
          ],
          "table": [
           {
            "cells": {
             "fill": {
              "color": "#EBF0F8"
             },
             "line": {
              "color": "white"
             }
            },
            "header": {
             "fill": {
              "color": "#C8D4E3"
             },
             "line": {
              "color": "white"
             }
            },
            "type": "table"
           }
          ]
         },
         "layout": {
          "annotationdefaults": {
           "arrowcolor": "#2a3f5f",
           "arrowhead": 0,
           "arrowwidth": 1
          },
          "autotypenumbers": "strict",
          "coloraxis": {
           "colorbar": {
            "outlinewidth": 0,
            "ticks": ""
           }
          },
          "colorscale": {
           "diverging": [
            [
             0,
             "#8e0152"
            ],
            [
             0.1,
             "#c51b7d"
            ],
            [
             0.2,
             "#de77ae"
            ],
            [
             0.3,
             "#f1b6da"
            ],
            [
             0.4,
             "#fde0ef"
            ],
            [
             0.5,
             "#f7f7f7"
            ],
            [
             0.6,
             "#e6f5d0"
            ],
            [
             0.7,
             "#b8e186"
            ],
            [
             0.8,
             "#7fbc41"
            ],
            [
             0.9,
             "#4d9221"
            ],
            [
             1,
             "#276419"
            ]
           ],
           "sequential": [
            [
             0,
             "#0d0887"
            ],
            [
             0.1111111111111111,
             "#46039f"
            ],
            [
             0.2222222222222222,
             "#7201a8"
            ],
            [
             0.3333333333333333,
             "#9c179e"
            ],
            [
             0.4444444444444444,
             "#bd3786"
            ],
            [
             0.5555555555555556,
             "#d8576b"
            ],
            [
             0.6666666666666666,
             "#ed7953"
            ],
            [
             0.7777777777777778,
             "#fb9f3a"
            ],
            [
             0.8888888888888888,
             "#fdca26"
            ],
            [
             1,
             "#f0f921"
            ]
           ],
           "sequentialminus": [
            [
             0,
             "#0d0887"
            ],
            [
             0.1111111111111111,
             "#46039f"
            ],
            [
             0.2222222222222222,
             "#7201a8"
            ],
            [
             0.3333333333333333,
             "#9c179e"
            ],
            [
             0.4444444444444444,
             "#bd3786"
            ],
            [
             0.5555555555555556,
             "#d8576b"
            ],
            [
             0.6666666666666666,
             "#ed7953"
            ],
            [
             0.7777777777777778,
             "#fb9f3a"
            ],
            [
             0.8888888888888888,
             "#fdca26"
            ],
            [
             1,
             "#f0f921"
            ]
           ]
          },
          "colorway": [
           "#636efa",
           "#EF553B",
           "#00cc96",
           "#ab63fa",
           "#FFA15A",
           "#19d3f3",
           "#FF6692",
           "#B6E880",
           "#FF97FF",
           "#FECB52"
          ],
          "font": {
           "color": "#2a3f5f"
          },
          "geo": {
           "bgcolor": "white",
           "lakecolor": "white",
           "landcolor": "#E5ECF6",
           "showlakes": true,
           "showland": true,
           "subunitcolor": "white"
          },
          "hoverlabel": {
           "align": "left"
          },
          "hovermode": "closest",
          "mapbox": {
           "style": "light"
          },
          "paper_bgcolor": "white",
          "plot_bgcolor": "#E5ECF6",
          "polar": {
           "angularaxis": {
            "gridcolor": "white",
            "linecolor": "white",
            "ticks": ""
           },
           "bgcolor": "#E5ECF6",
           "radialaxis": {
            "gridcolor": "white",
            "linecolor": "white",
            "ticks": ""
           }
          },
          "scene": {
           "xaxis": {
            "backgroundcolor": "#E5ECF6",
            "gridcolor": "white",
            "gridwidth": 2,
            "linecolor": "white",
            "showbackground": true,
            "ticks": "",
            "zerolinecolor": "white"
           },
           "yaxis": {
            "backgroundcolor": "#E5ECF6",
            "gridcolor": "white",
            "gridwidth": 2,
            "linecolor": "white",
            "showbackground": true,
            "ticks": "",
            "zerolinecolor": "white"
           },
           "zaxis": {
            "backgroundcolor": "#E5ECF6",
            "gridcolor": "white",
            "gridwidth": 2,
            "linecolor": "white",
            "showbackground": true,
            "ticks": "",
            "zerolinecolor": "white"
           }
          },
          "shapedefaults": {
           "line": {
            "color": "#2a3f5f"
           }
          },
          "ternary": {
           "aaxis": {
            "gridcolor": "white",
            "linecolor": "white",
            "ticks": ""
           },
           "baxis": {
            "gridcolor": "white",
            "linecolor": "white",
            "ticks": ""
           },
           "bgcolor": "#E5ECF6",
           "caxis": {
            "gridcolor": "white",
            "linecolor": "white",
            "ticks": ""
           }
          },
          "title": {
           "x": 0.05
          },
          "xaxis": {
           "automargin": true,
           "gridcolor": "white",
           "linecolor": "white",
           "ticks": "",
           "title": {
            "standoff": 15
           },
           "zerolinecolor": "white",
           "zerolinewidth": 2
          },
          "yaxis": {
           "automargin": true,
           "gridcolor": "white",
           "linecolor": "white",
           "ticks": "",
           "title": {
            "standoff": 15
           },
           "zerolinecolor": "white",
           "zerolinewidth": 2
          }
         }
        },
        "title": {
         "text": "All US Daily Confirmed"
        },
        "xaxis": {
         "anchor": "y",
         "domain": [
          0,
          1
         ],
         "title": {
          "text": "Date"
         }
        },
        "yaxis": {
         "anchor": "x",
         "domain": [
          0,
          1
         ],
         "title": {
          "text": "Daily Numbers"
         }
        }
       }
      }
     },
     "metadata": {}
    }
   ],
   "source": [
    "def filter_daily_US(state, df, title=None):\n",
    "\n",
    "    # Grouping by state, so let's add them up\n",
    "    df=df.groupby(by='State').sum()\n",
    "\n",
    "    # Sum of confirmed daily cases country-wide\n",
    "    if state.lower() == 'all':\n",
    "        column_list = df.columns.tolist()\n",
    "\n",
    "        column_list = column_list[3:]\n",
    "        dates = []\n",
    "\n",
    "        for i in column_list:\n",
    "            dates.append(pd.to_datetime(i))\n",
    "        dates_series = pd.Series(dates)\n",
    "\n",
    "        confirmed_series = df[5:].sum(axis=0)\n",
    "\n",
    "        for i in range(confirmed_series.shape[0]-1, 0, -1):\n",
    "            if i == 0:\n",
    "                break\n",
    "            else:\n",
    "                confirmed_series.iloc[i] = confirmed_series.iloc[i]-confirmed_series.iloc[i-1]\n",
    "        \n",
    "        confirmed_series = confirmed_series[3:]\n",
    "\n",
    "    elif state not in df.index:\n",
    "        print(\"State data not found. Try again.\")\n",
    "    \n",
    "    else:\n",
    "        column_list = df.columns.tolist()\n",
    "\n",
    "        column_list = column_list[5:]\n",
    "        dates = []\n",
    "\n",
    "        for i in column_list:\n",
    "            dates.append(pd.to_datetime(i))\n",
    "\n",
    "        dates_series = pd.Series(dates)\n",
    "\n",
    "        confirmed_series = df.loc[state]\n",
    "        confirmed_series = confirmed_series[5:]\n",
    "\n",
    "        for i in range(confirmed_series.shape[0]-1, 0, -1):\n",
    "            if i == 0:\n",
    "                break\n",
    "            else:\n",
    "                confirmed_series.iloc[i] = confirmed_series.iloc[i]-confirmed_series.iloc[i-1]\n",
    "\n",
    "    fig = px.line(x = dates_series, y=confirmed_series)\n",
    "    fig.update_xaxes(title=\"Date\")\n",
    "    fig.update_yaxes(title=\"Daily Numbers\")\n",
    "    fig.update_layout(title={\"text\":title})\n",
    "    fig.show()\n",
    "\n",
    "filter_daily_US('all', df_time_confirmed_US, 'All US Daily Confirmed')"
   ]
  },
  {
   "source": [
    "#TODO: Map, all states, countries functions, scikitlearn"
   ],
   "cell_type": "code",
   "metadata": {},
   "execution_count": 14,
   "outputs": []
  },
  {
   "cell_type": "code",
   "execution_count": 15,
   "metadata": {},
   "outputs": [
    {
     "output_type": "execute_result",
     "data": {
      "text/plain": [
       "'\\n# We must create functions that allow us to obtain long, lat, and total cases\\n# Also make one that obtains series of total cases (slider feature)\\n\\nfig = px.density_mapbox(df_time_confirmed, lat = \\'Lat\\', lon = \\'Long\\', z = \\'1/19/21\\', hover_name = \\'Country/Region\\', radius = 20, center = dict(lat = 9, lon = 9), zoom = 1, opacity = .5, range_color = [-1, 1], mapbox_style= \\'stamen-terrain\\',\\nlabels= {\\n    \\'Lat\\':\\'Latitude\\',\\n    \\'Long\\':\\'Longitude\\',\\n    \\'Country/Region\\':f\"{\\'Province/State\\'}, {\\'Country/Region\\'}\",\\n    \\'1/19/21\\':\\'Cases\\'\\n})\\nfig.show()\\n\\n# Make functions to make it display these maps\\n'"
      ]
     },
     "metadata": {},
     "execution_count": 15
    }
   ],
   "source": [
    "\"\"\"\n",
    "# We must create functions that allow us to obtain long, lat, and total cases\n",
    "# Also make one that obtains series of total cases (slider feature)\n",
    "\n",
    "fig = px.density_mapbox(df_time_confirmed, lat = 'Lat', lon = 'Long', z = '1/19/21', hover_name = 'Country/Region', radius = 20, center = dict(lat = 9, lon = 9), zoom = 1, opacity = .5, range_color = [-1, 1], mapbox_style= 'stamen-terrain',\n",
    "labels= {\n",
    "    'Lat':'Latitude',\n",
    "    'Long':'Longitude',\n",
    "    'Country/Region':f\"{'Province/State'}, {'Country/Region'}\",\n",
    "    '1/19/21':'Cases'\n",
    "})\n",
    "fig.show()\n",
    "\n",
    "# Make functions to make it display these maps\n",
    "\"\"\""
   ]
  },
  {
   "cell_type": "code",
   "execution_count": 16,
   "metadata": {},
   "outputs": [
    {
     "output_type": "error",
     "ename": "ValueError",
     "evalue": "Value of 'hover_data_0' is not the name of a column in 'data_frame'. Expected one of ['Province/State', 'Country/Region', 'Lat', 'Long', '1/22/20', '1/23/20', '1/24/20', '1/25/20', '1/26/20', '1/27/20', '1/28/20', '1/29/20', '1/30/20', '1/31/20', '2/1/20', '2/2/20', '2/3/20', '2/4/20', '2/5/20', '2/6/20', '2/7/20', '2/8/20', '2/9/20', '2/10/20', '2/11/20', '2/12/20', '2/13/20', '2/14/20', '2/15/20', '2/16/20', '2/17/20', '2/18/20', '2/19/20', '2/20/20', '2/21/20', '2/22/20', '2/23/20', '2/24/20', '2/25/20', '2/26/20', '2/27/20', '2/28/20', '2/29/20', '3/1/20', '3/2/20', '3/3/20', '3/4/20', '3/5/20', '3/6/20', '3/7/20', '3/8/20', '3/9/20', '3/10/20', '3/11/20', '3/12/20', '3/13/20', '3/14/20', '3/15/20', '3/16/20', '3/17/20', '3/18/20', '3/19/20', '3/20/20', '3/21/20', '3/22/20', '3/23/20', '3/24/20', '3/25/20', '3/26/20', '3/27/20', '3/28/20', '3/29/20', '3/30/20', '3/31/20', '4/1/20', '4/2/20', '4/3/20', '4/4/20', '4/5/20', '4/6/20', '4/7/20', '4/8/20', '4/9/20', '4/10/20', '4/11/20', '4/12/20', '4/13/20', '4/14/20', '4/15/20', '4/16/20', '4/17/20', '4/18/20', '4/19/20', '4/20/20', '4/21/20', '4/22/20', '4/23/20', '4/24/20', '4/25/20', '4/26/20', '4/27/20', '4/28/20', '4/29/20', '4/30/20', '5/1/20', '5/2/20', '5/3/20', '5/4/20', '5/5/20', '5/6/20', '5/7/20', '5/8/20', '5/9/20', '5/10/20', '5/11/20', '5/12/20', '5/13/20', '5/14/20', '5/15/20', '5/16/20', '5/17/20', '5/18/20', '5/19/20', '5/20/20', '5/21/20', '5/22/20', '5/23/20', '5/24/20', '5/25/20', '5/26/20', '5/27/20', '5/28/20', '5/29/20', '5/30/20', '5/31/20', '6/1/20', '6/2/20', '6/3/20', '6/4/20', '6/5/20', '6/6/20', '6/7/20', '6/8/20', '6/9/20', '6/10/20', '6/11/20', '6/12/20', '6/13/20', '6/14/20', '6/15/20', '6/16/20', '6/17/20', '6/18/20', '6/19/20', '6/20/20', '6/21/20', '6/22/20', '6/23/20', '6/24/20', '6/25/20', '6/26/20', '6/27/20', '6/28/20', '6/29/20', '6/30/20', '7/1/20', '7/2/20', '7/3/20', '7/4/20', '7/5/20', '7/6/20', '7/7/20', '7/8/20', '7/9/20', '7/10/20', '7/11/20', '7/12/20', '7/13/20', '7/14/20', '7/15/20', '7/16/20', '7/17/20', '7/18/20', '7/19/20', '7/20/20', '7/21/20', '7/22/20', '7/23/20', '7/24/20', '7/25/20', '7/26/20', '7/27/20', '7/28/20', '7/29/20', '7/30/20', '7/31/20', '8/1/20', '8/2/20', '8/3/20', '8/4/20', '8/5/20', '8/6/20', '8/7/20', '8/8/20', '8/9/20', '8/10/20', '8/11/20', '8/12/20', '8/13/20', '8/14/20', '8/15/20', '8/16/20', '8/17/20', '8/18/20', '8/19/20', '8/20/20', '8/21/20', '8/22/20', '8/23/20', '8/24/20', '8/25/20', '8/26/20', '8/27/20', '8/28/20', '8/29/20', '8/30/20', '8/31/20', '9/1/20', '9/2/20', '9/3/20', '9/4/20', '9/5/20', '9/6/20', '9/7/20', '9/8/20', '9/9/20', '9/10/20', '9/11/20', '9/12/20', '9/13/20', '9/14/20', '9/15/20', '9/16/20', '9/17/20', '9/18/20', '9/19/20', '9/20/20', '9/21/20', '9/22/20', '9/23/20', '9/24/20', '9/25/20', '9/26/20', '9/27/20', '9/28/20', '9/29/20', '9/30/20', '10/1/20', '10/2/20', '10/3/20', '10/4/20', '10/5/20', '10/6/20', '10/7/20', '10/8/20', '10/9/20', '10/10/20', '10/11/20', '10/12/20', '10/13/20', '10/14/20', '10/15/20', '10/16/20', '10/17/20', '10/18/20', '10/19/20', '10/20/20', '10/21/20', '10/22/20', '10/23/20', '10/24/20', '10/25/20', '10/26/20', '10/27/20', '10/28/20', '10/29/20', '10/30/20', '10/31/20', '11/1/20', '11/2/20', '11/3/20', '11/4/20', '11/5/20', '11/6/20', '11/7/20', '11/8/20', '11/9/20', '11/10/20', '11/11/20', '11/12/20', '11/13/20', '11/14/20', '11/15/20', '11/16/20', '11/17/20', '11/18/20', '11/19/20', '11/20/20', '11/21/20', '11/22/20', '11/23/20', '11/24/20', '11/25/20', '11/26/20', '11/27/20', '11/28/20', '11/29/20', '11/30/20', '12/1/20', '12/2/20', '12/3/20', '12/4/20', '12/5/20', '12/6/20', '12/7/20', '12/8/20', '12/9/20', '12/10/20', '12/11/20', '12/12/20', '12/13/20', '12/14/20', '12/15/20', '12/16/20', '12/17/20', '12/18/20', '12/19/20', '12/20/20', '12/21/20', '12/22/20', '12/23/20', '12/24/20', '12/25/20', '12/26/20', '12/27/20', '12/28/20', '12/29/20', '12/30/20', '12/31/20', '1/1/21', '1/2/21', '1/3/21', '1/4/21', '1/5/21', '1/6/21', '1/7/21', '1/8/21', '1/9/21', '1/10/21', '1/11/21', '1/12/21', '1/13/21', '1/14/21', '1/15/21', '1/16/21', '1/17/21', '1/18/21', '1/19/21'] but received: P",
     "traceback": [
      "\u001b[1;31m---------------------------------------------------------------------------\u001b[0m",
      "\u001b[1;31mValueError\u001b[0m                                Traceback (most recent call last)",
      "\u001b[1;32m<ipython-input-16-e3ee7d4b1a90>\u001b[0m in \u001b[0;36m<module>\u001b[1;34m\u001b[0m\n\u001b[0;32m     19\u001b[0m     \u001b[1;34m\"\"\"animation_frame= df[5:]\"\"\"\u001b[0m\u001b[1;33m\u001b[0m\u001b[1;33m\u001b[0m\u001b[0m\n\u001b[0;32m     20\u001b[0m \u001b[1;33m\u001b[0m\u001b[0m\n\u001b[1;32m---> 21\u001b[1;33m \u001b[0mglobal_maps\u001b[0m\u001b[1;33m(\u001b[0m\u001b[0mdf_time_confirmed\u001b[0m\u001b[1;33m,\u001b[0m \u001b[1;34m'yes'\u001b[0m\u001b[1;33m)\u001b[0m\u001b[1;33m\u001b[0m\u001b[1;33m\u001b[0m\u001b[0m\n\u001b[0m\u001b[0;32m     22\u001b[0m \u001b[1;33m\u001b[0m\u001b[0m\n\u001b[0;32m     23\u001b[0m \u001b[1;31m# Need to figure out how to get dataframe, multiply country-province combination by amount of date columns, then add those dates followed by corresponding case per date in country-province combo. Province-State may have to be eliminated (groupby country.sum()) in order to simplify enough for plotly to render all bubbles\u001b[0m\u001b[1;33m\u001b[0m\u001b[1;33m\u001b[0m\u001b[1;33m\u001b[0m\u001b[0m\n",
      "\u001b[1;32m<ipython-input-16-e3ee7d4b1a90>\u001b[0m in \u001b[0;36mglobal_maps\u001b[1;34m(df, title)\u001b[0m\n\u001b[0;32m     12\u001b[0m \u001b[1;33m\u001b[0m\u001b[0m\n\u001b[0;32m     13\u001b[0m \u001b[1;33m\u001b[0m\u001b[0m\n\u001b[1;32m---> 14\u001b[1;33m     fig = px.scatter_geo(df_time_confirmed, lat = \"Lat\", lon = \"Long\",\n\u001b[0m\u001b[0;32m     15\u001b[0m                      \u001b[0mcolor\u001b[0m \u001b[1;33m=\u001b[0m \u001b[1;34m\"Country/Region\"\u001b[0m\u001b[1;33m,\u001b[0m \u001b[0mhover_name\u001b[0m \u001b[1;33m=\u001b[0m \u001b[1;34m\"Country/Region\"\u001b[0m\u001b[1;33m,\u001b[0m\u001b[1;33m\u001b[0m\u001b[1;33m\u001b[0m\u001b[0m\n\u001b[0;32m     16\u001b[0m                      \u001b[0mhover_data\u001b[0m \u001b[1;33m=\u001b[0m \u001b[1;34m\"Province/State\"\u001b[0m\u001b[1;33m,\u001b[0m \u001b[0msize\u001b[0m \u001b[1;33m=\u001b[0m \u001b[1;34m\"1/19/21\"\u001b[0m\u001b[1;33m,\u001b[0m\u001b[1;33m\u001b[0m\u001b[1;33m\u001b[0m\u001b[0m\n",
      "\u001b[1;32m~\\anaconda3\\lib\\site-packages\\plotly\\express\\_chart_types.py\u001b[0m in \u001b[0;36mscatter_geo\u001b[1;34m(data_frame, lat, lon, locations, locationmode, geojson, featureidkey, color, text, symbol, facet_row, facet_col, facet_col_wrap, facet_row_spacing, facet_col_spacing, hover_name, hover_data, custom_data, size, animation_frame, animation_group, category_orders, labels, color_discrete_sequence, color_discrete_map, color_continuous_scale, range_color, color_continuous_midpoint, symbol_sequence, symbol_map, opacity, size_max, projection, scope, center, fitbounds, basemap_visible, title, template, width, height)\u001b[0m\n\u001b[0;32m   1029\u001b[0m     \u001b[0mby\u001b[0m \u001b[0ma\u001b[0m \u001b[0msymbol\u001b[0m \u001b[0mmark\u001b[0m \u001b[0mon\u001b[0m \u001b[0ma\u001b[0m \u001b[0mmap\u001b[0m\u001b[1;33m.\u001b[0m\u001b[1;33m\u001b[0m\u001b[1;33m\u001b[0m\u001b[0m\n\u001b[0;32m   1030\u001b[0m     \"\"\"\n\u001b[1;32m-> 1031\u001b[1;33m     return make_figure(\n\u001b[0m\u001b[0;32m   1032\u001b[0m         \u001b[0margs\u001b[0m\u001b[1;33m=\u001b[0m\u001b[0mlocals\u001b[0m\u001b[1;33m(\u001b[0m\u001b[1;33m)\u001b[0m\u001b[1;33m,\u001b[0m\u001b[1;33m\u001b[0m\u001b[1;33m\u001b[0m\u001b[0m\n\u001b[0;32m   1033\u001b[0m         \u001b[0mconstructor\u001b[0m\u001b[1;33m=\u001b[0m\u001b[0mgo\u001b[0m\u001b[1;33m.\u001b[0m\u001b[0mScattergeo\u001b[0m\u001b[1;33m,\u001b[0m\u001b[1;33m\u001b[0m\u001b[1;33m\u001b[0m\u001b[0m\n",
      "\u001b[1;32m~\\anaconda3\\lib\\site-packages\\plotly\\express\\_core.py\u001b[0m in \u001b[0;36mmake_figure\u001b[1;34m(args, constructor, trace_patch, layout_patch)\u001b[0m\n\u001b[0;32m   1859\u001b[0m     \u001b[0mapply_default_cascade\u001b[0m\u001b[1;33m(\u001b[0m\u001b[0margs\u001b[0m\u001b[1;33m)\u001b[0m\u001b[1;33m\u001b[0m\u001b[1;33m\u001b[0m\u001b[0m\n\u001b[0;32m   1860\u001b[0m \u001b[1;33m\u001b[0m\u001b[0m\n\u001b[1;32m-> 1861\u001b[1;33m     \u001b[0margs\u001b[0m \u001b[1;33m=\u001b[0m \u001b[0mbuild_dataframe\u001b[0m\u001b[1;33m(\u001b[0m\u001b[0margs\u001b[0m\u001b[1;33m,\u001b[0m \u001b[0mconstructor\u001b[0m\u001b[1;33m)\u001b[0m\u001b[1;33m\u001b[0m\u001b[1;33m\u001b[0m\u001b[0m\n\u001b[0m\u001b[0;32m   1862\u001b[0m     \u001b[1;32mif\u001b[0m \u001b[0mconstructor\u001b[0m \u001b[1;32min\u001b[0m \u001b[1;33m[\u001b[0m\u001b[0mgo\u001b[0m\u001b[1;33m.\u001b[0m\u001b[0mTreemap\u001b[0m\u001b[1;33m,\u001b[0m \u001b[0mgo\u001b[0m\u001b[1;33m.\u001b[0m\u001b[0mSunburst\u001b[0m\u001b[1;33m]\u001b[0m \u001b[1;32mand\u001b[0m \u001b[0margs\u001b[0m\u001b[1;33m[\u001b[0m\u001b[1;34m\"path\"\u001b[0m\u001b[1;33m]\u001b[0m \u001b[1;32mis\u001b[0m \u001b[1;32mnot\u001b[0m \u001b[1;32mNone\u001b[0m\u001b[1;33m:\u001b[0m\u001b[1;33m\u001b[0m\u001b[1;33m\u001b[0m\u001b[0m\n\u001b[0;32m   1863\u001b[0m         \u001b[0margs\u001b[0m \u001b[1;33m=\u001b[0m \u001b[0mprocess_dataframe_hierarchy\u001b[0m\u001b[1;33m(\u001b[0m\u001b[0margs\u001b[0m\u001b[1;33m)\u001b[0m\u001b[1;33m\u001b[0m\u001b[1;33m\u001b[0m\u001b[0m\n",
      "\u001b[1;32m~\\anaconda3\\lib\\site-packages\\plotly\\express\\_core.py\u001b[0m in \u001b[0;36mbuild_dataframe\u001b[1;34m(args, constructor)\u001b[0m\n\u001b[0;32m   1375\u001b[0m     \u001b[1;31m# now that things have been prepped, we do the systematic rewriting of `args`\u001b[0m\u001b[1;33m\u001b[0m\u001b[1;33m\u001b[0m\u001b[1;33m\u001b[0m\u001b[0m\n\u001b[0;32m   1376\u001b[0m \u001b[1;33m\u001b[0m\u001b[0m\n\u001b[1;32m-> 1377\u001b[1;33m     df_output, wide_id_vars = process_args_into_dataframe(\n\u001b[0m\u001b[0;32m   1378\u001b[0m         \u001b[0margs\u001b[0m\u001b[1;33m,\u001b[0m \u001b[0mwide_mode\u001b[0m\u001b[1;33m,\u001b[0m \u001b[0mvar_name\u001b[0m\u001b[1;33m,\u001b[0m \u001b[0mvalue_name\u001b[0m\u001b[1;33m\u001b[0m\u001b[1;33m\u001b[0m\u001b[0m\n\u001b[0;32m   1379\u001b[0m     )\n",
      "\u001b[1;32m~\\anaconda3\\lib\\site-packages\\plotly\\express\\_core.py\u001b[0m in \u001b[0;36mprocess_args_into_dataframe\u001b[1;34m(args, wide_mode, var_name, value_name)\u001b[0m\n\u001b[0;32m   1181\u001b[0m                         \u001b[1;32mif\u001b[0m \u001b[0margument\u001b[0m \u001b[1;33m==\u001b[0m \u001b[1;34m\"index\"\u001b[0m\u001b[1;33m:\u001b[0m\u001b[1;33m\u001b[0m\u001b[1;33m\u001b[0m\u001b[0m\n\u001b[0;32m   1182\u001b[0m                             \u001b[0merr_msg\u001b[0m \u001b[1;33m+=\u001b[0m \u001b[1;34m\"\\n To use the index, pass it in directly as `df.index`.\"\u001b[0m\u001b[1;33m\u001b[0m\u001b[1;33m\u001b[0m\u001b[0m\n\u001b[1;32m-> 1183\u001b[1;33m                         \u001b[1;32mraise\u001b[0m \u001b[0mValueError\u001b[0m\u001b[1;33m(\u001b[0m\u001b[0merr_msg\u001b[0m\u001b[1;33m)\u001b[0m\u001b[1;33m\u001b[0m\u001b[1;33m\u001b[0m\u001b[0m\n\u001b[0m\u001b[0;32m   1184\u001b[0m                 \u001b[1;32melif\u001b[0m \u001b[0mlength\u001b[0m \u001b[1;32mand\u001b[0m \u001b[0mlen\u001b[0m\u001b[1;33m(\u001b[0m\u001b[0mdf_input\u001b[0m\u001b[1;33m[\u001b[0m\u001b[0margument\u001b[0m\u001b[1;33m]\u001b[0m\u001b[1;33m)\u001b[0m \u001b[1;33m!=\u001b[0m \u001b[0mlength\u001b[0m\u001b[1;33m:\u001b[0m\u001b[1;33m\u001b[0m\u001b[1;33m\u001b[0m\u001b[0m\n\u001b[0;32m   1185\u001b[0m                     raise ValueError(\n",
      "\u001b[1;31mValueError\u001b[0m: Value of 'hover_data_0' is not the name of a column in 'data_frame'. Expected one of ['Province/State', 'Country/Region', 'Lat', 'Long', '1/22/20', '1/23/20', '1/24/20', '1/25/20', '1/26/20', '1/27/20', '1/28/20', '1/29/20', '1/30/20', '1/31/20', '2/1/20', '2/2/20', '2/3/20', '2/4/20', '2/5/20', '2/6/20', '2/7/20', '2/8/20', '2/9/20', '2/10/20', '2/11/20', '2/12/20', '2/13/20', '2/14/20', '2/15/20', '2/16/20', '2/17/20', '2/18/20', '2/19/20', '2/20/20', '2/21/20', '2/22/20', '2/23/20', '2/24/20', '2/25/20', '2/26/20', '2/27/20', '2/28/20', '2/29/20', '3/1/20', '3/2/20', '3/3/20', '3/4/20', '3/5/20', '3/6/20', '3/7/20', '3/8/20', '3/9/20', '3/10/20', '3/11/20', '3/12/20', '3/13/20', '3/14/20', '3/15/20', '3/16/20', '3/17/20', '3/18/20', '3/19/20', '3/20/20', '3/21/20', '3/22/20', '3/23/20', '3/24/20', '3/25/20', '3/26/20', '3/27/20', '3/28/20', '3/29/20', '3/30/20', '3/31/20', '4/1/20', '4/2/20', '4/3/20', '4/4/20', '4/5/20', '4/6/20', '4/7/20', '4/8/20', '4/9/20', '4/10/20', '4/11/20', '4/12/20', '4/13/20', '4/14/20', '4/15/20', '4/16/20', '4/17/20', '4/18/20', '4/19/20', '4/20/20', '4/21/20', '4/22/20', '4/23/20', '4/24/20', '4/25/20', '4/26/20', '4/27/20', '4/28/20', '4/29/20', '4/30/20', '5/1/20', '5/2/20', '5/3/20', '5/4/20', '5/5/20', '5/6/20', '5/7/20', '5/8/20', '5/9/20', '5/10/20', '5/11/20', '5/12/20', '5/13/20', '5/14/20', '5/15/20', '5/16/20', '5/17/20', '5/18/20', '5/19/20', '5/20/20', '5/21/20', '5/22/20', '5/23/20', '5/24/20', '5/25/20', '5/26/20', '5/27/20', '5/28/20', '5/29/20', '5/30/20', '5/31/20', '6/1/20', '6/2/20', '6/3/20', '6/4/20', '6/5/20', '6/6/20', '6/7/20', '6/8/20', '6/9/20', '6/10/20', '6/11/20', '6/12/20', '6/13/20', '6/14/20', '6/15/20', '6/16/20', '6/17/20', '6/18/20', '6/19/20', '6/20/20', '6/21/20', '6/22/20', '6/23/20', '6/24/20', '6/25/20', '6/26/20', '6/27/20', '6/28/20', '6/29/20', '6/30/20', '7/1/20', '7/2/20', '7/3/20', '7/4/20', '7/5/20', '7/6/20', '7/7/20', '7/8/20', '7/9/20', '7/10/20', '7/11/20', '7/12/20', '7/13/20', '7/14/20', '7/15/20', '7/16/20', '7/17/20', '7/18/20', '7/19/20', '7/20/20', '7/21/20', '7/22/20', '7/23/20', '7/24/20', '7/25/20', '7/26/20', '7/27/20', '7/28/20', '7/29/20', '7/30/20', '7/31/20', '8/1/20', '8/2/20', '8/3/20', '8/4/20', '8/5/20', '8/6/20', '8/7/20', '8/8/20', '8/9/20', '8/10/20', '8/11/20', '8/12/20', '8/13/20', '8/14/20', '8/15/20', '8/16/20', '8/17/20', '8/18/20', '8/19/20', '8/20/20', '8/21/20', '8/22/20', '8/23/20', '8/24/20', '8/25/20', '8/26/20', '8/27/20', '8/28/20', '8/29/20', '8/30/20', '8/31/20', '9/1/20', '9/2/20', '9/3/20', '9/4/20', '9/5/20', '9/6/20', '9/7/20', '9/8/20', '9/9/20', '9/10/20', '9/11/20', '9/12/20', '9/13/20', '9/14/20', '9/15/20', '9/16/20', '9/17/20', '9/18/20', '9/19/20', '9/20/20', '9/21/20', '9/22/20', '9/23/20', '9/24/20', '9/25/20', '9/26/20', '9/27/20', '9/28/20', '9/29/20', '9/30/20', '10/1/20', '10/2/20', '10/3/20', '10/4/20', '10/5/20', '10/6/20', '10/7/20', '10/8/20', '10/9/20', '10/10/20', '10/11/20', '10/12/20', '10/13/20', '10/14/20', '10/15/20', '10/16/20', '10/17/20', '10/18/20', '10/19/20', '10/20/20', '10/21/20', '10/22/20', '10/23/20', '10/24/20', '10/25/20', '10/26/20', '10/27/20', '10/28/20', '10/29/20', '10/30/20', '10/31/20', '11/1/20', '11/2/20', '11/3/20', '11/4/20', '11/5/20', '11/6/20', '11/7/20', '11/8/20', '11/9/20', '11/10/20', '11/11/20', '11/12/20', '11/13/20', '11/14/20', '11/15/20', '11/16/20', '11/17/20', '11/18/20', '11/19/20', '11/20/20', '11/21/20', '11/22/20', '11/23/20', '11/24/20', '11/25/20', '11/26/20', '11/27/20', '11/28/20', '11/29/20', '11/30/20', '12/1/20', '12/2/20', '12/3/20', '12/4/20', '12/5/20', '12/6/20', '12/7/20', '12/8/20', '12/9/20', '12/10/20', '12/11/20', '12/12/20', '12/13/20', '12/14/20', '12/15/20', '12/16/20', '12/17/20', '12/18/20', '12/19/20', '12/20/20', '12/21/20', '12/22/20', '12/23/20', '12/24/20', '12/25/20', '12/26/20', '12/27/20', '12/28/20', '12/29/20', '12/30/20', '12/31/20', '1/1/21', '1/2/21', '1/3/21', '1/4/21', '1/5/21', '1/6/21', '1/7/21', '1/8/21', '1/9/21', '1/10/21', '1/11/21', '1/12/21', '1/13/21', '1/14/21', '1/15/21', '1/16/21', '1/17/21', '1/18/21', '1/19/21'] but received: P"
     ]
    }
   ],
   "source": [
    "\"\"\"\n",
    "# Magnitude Map (circle's radius increases with cases)\n",
    "\n",
    "fig = px.scatter_geo(df_time_confirmed, lat = \"Lat\", lon = \"Long\",\n",
    "                     color = \"Country/Region\", hover_name = \"Country/Region\",\n",
    "                     hover_data = [\"Province/State\"], size = \"1/19/21\",\n",
    "                     projection = \"natural earth\")\n",
    "fig.show()\n",
    "\"\"\"\n",
    "\n",
    "def global_maps(df, title):\n",
    "    \n",
    "    \n",
    "    fig = px.scatter_geo(df_time_confirmed, lat = \"Lat\", lon = \"Long\",\n",
    "                     color = \"Country/Region\", hover_name = \"Country/Region\",\n",
    "                     hover_data = \"Province/State\", size = \"1/19/21\",\n",
    "                     projection = \"natural earth\")\n",
    "    fig.show()\n",
    "    \"\"\"animation_frame= df[5:]\"\"\"\n",
    "\n",
    "global_maps(df_time_confirmed, 'yes')\n",
    "\n",
    "# Need to figure out how to get dataframe, multiply country-province combination by amount of date columns, then add those dates followed by corresponding case per date in country-province combo. Province-State may have to be eliminated (groupby country.sum()) in order to simplify enough for plotly to render all bubbles\n"
   ]
  },
  {
   "cell_type": "code",
   "execution_count": 84,
   "metadata": {},
   "outputs": [
    {
     "output_type": "execute_result",
     "data": {
      "text/plain": [
       "Province/State    191\n",
       "Lat               191\n",
       "Long              191\n",
       "1/22/20           191\n",
       "1/23/20           191\n",
       "                 ... \n",
       "1/15/21           191\n",
       "1/16/21           191\n",
       "1/17/21           191\n",
       "1/18/21           191\n",
       "1/19/21           191\n",
       "Length: 367, dtype: int64"
      ]
     },
     "metadata": {},
     "execution_count": 84
    }
   ],
   "source": [
    "# Ok so: how many unique country/regions are there?\n",
    "# Then: is there one N/A province/state per country/region?\n",
    "\n",
    "df = df_time_confirmed.groupby(by='Country/Region').nunique()\n",
    "df.count()\n",
    "# 191\n",
    "\n",
    "# I think I'm gonna move on because the global dataset is extremely massive and it's probably disadvantageous to continue grueling through it\n"
   ]
  },
  {
   "cell_type": "code",
   "execution_count": 23,
   "metadata": {},
   "outputs": [
    {
     "output_type": "error",
     "ename": "SyntaxError",
     "evalue": "cannot assign to function call (<ipython-input-23-74c9300c4220>, line 29)",
     "traceback": [
      "\u001b[1;36m  File \u001b[1;32m\"<ipython-input-23-74c9300c4220>\"\u001b[1;36m, line \u001b[1;32m29\u001b[0m\n\u001b[1;33m    df['FIPS'].iloc(i) = c\u001b[0m\n\u001b[1;37m    ^\u001b[0m\n\u001b[1;31mSyntaxError\u001b[0m\u001b[1;31m:\u001b[0m cannot assign to function call\n"
     ]
    }
   ],
   "source": [
    "import pandas as pd\n",
    "from urllib.request import urlopen\n",
    "import json\n",
    "import plotly.express as px\n",
    "import plotly.figure_factory as pff\n",
    "\n",
    "with urlopen('https://raw.githubusercontent.com/plotly/datasets/master/geojson-counties-fips.json') as response:\n",
    "    counties = json.load(response)\n",
    "\n",
    "df = pd.read_csv(\"covid_dataset\\\\time_series_covid_19_confirmed_US.csv\")\n",
    "\n",
    "df_time_confirmed_US_NaN = df[df.isna().any(axis=1)]\n",
    "# This df is providing too much info that we won't need in general, so let's delete UID, iso2, iso3, code3, and FIPS. We will keep Admin 2 because it would probably give us good data in terms of precision\n",
    "\n",
    "df.drop('UID', axis=1, inplace=True) # inplace is used to not have to redefine df_time_confirmed_US\n",
    "df.drop('iso2', axis=1, inplace=True) # axis = 1 is for columns, axis = 0 is for rows\n",
    "df.drop('iso3', axis=1, inplace=True) \n",
    "df.drop('code3', axis=1, inplace=True) \n",
    "\n",
    "df['Province_State'] = df['Province_State'].fillna('N/A')\n",
    "df['Admin2'] = df['Admin2'].fillna('N/A')\n",
    "df_time_confirmed_US_NaN = df[df.isna().any(axis=1)]\n",
    "\n",
    "\"\"\"allcodes = [c['id'] for c in counties['features']]\n",
    "\n",
    "i=0\n",
    "for c in allcodes:\n",
    "    if c not in df['FIPS'].tolist():\n",
    "        df['FIPS'].iloc(i) = c\n",
    "    i+=1\"\"\"\n",
    "\n",
    "fig = px.choropleth(df, geojson=counties, locations='FIPS', color='1/19/21',\n",
    "                           color_continuous_scale=\"Viridis\",\n",
    "                           range_color=(0, 100),\n",
    "                           scope=\"usa\",\n",
    "                           labels={'1/19/21':'Cases'}\n",
    "                          )\n",
    "fig.update_layout(margin={\"r\":0,\"t\":0,\"l\":0,\"b\":0})\n",
    "\n",
    "fig.show()"
   ]
  },
  {
   "cell_type": "code",
   "execution_count": null,
   "metadata": {},
   "outputs": [],
   "source": []
  }
 ]
}